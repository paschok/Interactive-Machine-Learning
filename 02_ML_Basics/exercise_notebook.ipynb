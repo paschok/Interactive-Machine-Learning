{
 "cells": [
  {
   "cell_type": "markdown",
   "metadata": {
    "collapsed": true,
    "pycharm": {
     "name": "#%% md\n"
    }
   },
   "source": [
    "# Interactive Machine Learning - Exercise 02\n",
    "\n",
    "In this exercise we we will introduce you to the basics of machine learning with a focus on medical applications. \n",
    "\n",
    "\n",
    "The steps you are going to cover in this exercies are as follows:\n",
    "* Loading and preprocessing the data\n",
    "* Training and Evaluating a Support Vector Machine\n",
    "* Defining a Keras Model\n",
    "* Compiling a Keras Model\n",
    "* Fitting the Keras Model\n",
    "* Predicting and Evaluating with the Keras Model\n",
    "\n",
    "Please read each exercise carefully before you start coding! You will find a number in the comments before each step of coding you will do. Please refer to these numbers if you have any questions.\n",
    "\n",
    "\n",
    "## 0. Import the libraries\n",
    "The first step is to define the functions and classes we intend to use in this tutorial.\n",
    "We will use the NumPy library to load our dataset and we will use two classes from the Keras library to define our model.\n",
    "Further we use sklearn to accesss code for the Support Vector Machine and a helper file that comes with this notebook.\n",
    "The helper file contains the functions ```plot_confusion_matrix``` and ```plot_label_distribution```. \n",
    "\n",
    "The imports required are listed below.\n",
    "You can run this cell to import all the libraries for later usage. \n",
    "Keep in mind that you can import additional libraries at any time and that you do not need to use all the imports if you know another solution for a given task."
   ]
  },
  {
   "cell_type": "code",
   "execution_count": 1,
   "metadata": {
    "pycharm": {
     "is_executing": false,
     "name": "#%%\n"
    }
   },
   "outputs": [
    {
     "name": "stdout",
     "output_type": "stream",
     "text": [
      "libraries successfully imported!\n"
     ]
    }
   ],
   "source": [
    "# hidding all warnings to not clutter the notebook\n",
    "import warnings\n",
    "warnings.filterwarnings('ignore')\n",
    "\n",
    "# helper class to plot the confusion matrix\n",
    "from helper import plot_confusion_matrix, plot_label_distribution\n",
    "\n",
    "# numpy enables efficient numerical computations for common datastructures\n",
    "from numpy import loadtxt\n",
    "\n",
    "# a python library to help balancing datasets\n",
    "import imblearn\n",
    "\n",
    "# scikit-learn is a library for machine learning. we use it to train the support vector machine and evaluation\n",
    "from sklearn import svm\n",
    "from sklearn.metrics import classification_report\n",
    "\n",
    "# tensorflow/keras is a library for neural networks.\n",
    "from tensorflow.keras.models import Sequential\n",
    "from tensorflow.keras.layers import Dense\n",
    "\n",
    "print(\"libraries successfully imported!\")"
   ]
  },
  {
   "cell_type": "markdown",
   "metadata": {},
   "source": [
    "## 1. Load Data\n",
    "We can now load our dataset.  \n",
    "In this Exercise, we are going to use the Pima Indians onset of diabetes dataset. This is a standard machine learning dataset from the UCI Machine Learning repository. It describes patient medical record data for Pima Indians and whether they had an onset of diabetes within five years.\n",
    "As such, it is a binary classification problem (onset of diabetes as 1 or not as 0).  \n",
    "All of the input variables that describe each patient are numerical.\n",
    "This makes it easy to use directly with support vector machines and neural networks that expect numerical input and output values.\n",
    "\n",
    "The input data ist structured as a CSV-file where each row represents the data of one patient and each column a specific feature:\n",
    "1. Number of times pregnant\n",
    "2. Plasma glucose concentration a 2 hours in an oral glucose tolerance test\n",
    "3. Diastolic blood pressure (mm Hg)\n",
    "4. Triceps skin fold thickness (mm)\n",
    "5. 2-Hour serum insulin (mu U/ml)\n",
    "6. Body mass index (weight in kg/(height in m)^2)\n",
    "7. Diabetes pedigree function\n",
    "8. Age (years)\n",
    "\n",
    "The last (9th) column contains the label. You will find the file under data/pima-indians-diabetes.csv and more information about the dataset in the readme.md .\n",
    "In the following code snippet you should write the code to load the data and and the labels into numpy arrays and subsequently scale the value of each feature so that the minimum of each feature in the dataset is 0 and the maximum is 1. \n",
    "\n",
    "Helpful links: \n",
    "* [Load text with numpy](https://numpy.org/doc/stable/reference/generated/numpy.loadtxt.html?highlight=numpy%20loadtxt#numpy.loadtxt)\n",
    "* [Normalization](https://en.wikipedia.org/wiki/Normalization_(statistics))"
   ]
  },
  {
   "cell_type": "code",
   "execution_count": 2,
   "metadata": {
    "pycharm": {
     "is_executing": false,
     "name": "#%%\n"
    }
   },
   "outputs": [],
   "source": [
    "# 1. load the dataset\n",
    "dataset = loadtxt('data/pima-indians-diabetes.csv', delimiter=',')\n",
    "\n",
    "# 2. split into input (x) and output (y) variables\n",
    "x = dataset[:,:-1]\n",
    "y = dataset[:, -1]\n",
    "\n",
    "# 3. apply min-max feature scaling to bring input data between 0 and 1\n",
    "from sklearn.preprocessing import MinMaxScaler\n",
    "\n",
    "scaler = MinMaxScaler()\n",
    "x = scaler.fit_transform(x)"
   ]
  },
  {
   "cell_type": "markdown",
   "metadata": {},
   "source": [
    "#### Checking that x data is indeed scaled and shapes of x and y to avoid possible missmatching or errors"
   ]
  },
  {
   "cell_type": "code",
   "execution_count": 3,
   "metadata": {},
   "outputs": [
    {
     "data": {
      "text/plain": [
       "(array([[0.35294118, 0.74371859, 0.59016393, ..., 0.50074516, 0.23441503,\n",
       "         0.48333333],\n",
       "        [0.05882353, 0.42713568, 0.54098361, ..., 0.39642325, 0.11656704,\n",
       "         0.16666667],\n",
       "        [0.47058824, 0.91959799, 0.52459016, ..., 0.34724292, 0.25362938,\n",
       "         0.18333333],\n",
       "        ...,\n",
       "        [0.29411765, 0.6080402 , 0.59016393, ..., 0.390462  , 0.07130658,\n",
       "         0.15      ],\n",
       "        [0.05882353, 0.63316583, 0.49180328, ..., 0.4485842 , 0.11571307,\n",
       "         0.43333333],\n",
       "        [0.05882353, 0.46733668, 0.57377049, ..., 0.45305514, 0.10119556,\n",
       "         0.03333333]]), (768, 8))"
      ]
     },
     "execution_count": 3,
     "metadata": {},
     "output_type": "execute_result"
    }
   ],
   "source": [
    "x, x.shape"
   ]
  },
  {
   "cell_type": "code",
   "execution_count": 4,
   "metadata": {},
   "outputs": [
    {
     "data": {
      "text/plain": [
       "(array([1., 0., 1., 0., 1., 0., 1., 0., 1., 1., 0., 1., 0., 1., 1., 1., 1.,\n",
       "        1., 0., 1.]), (768,))"
      ]
     },
     "execution_count": 4,
     "metadata": {},
     "output_type": "execute_result"
    }
   ],
   "source": [
    "y[:20], y.shape"
   ]
  },
  {
   "cell_type": "markdown",
   "metadata": {},
   "source": [
    "Great, now x should contain the normalized features, and y should contain the labels.\n",
    "In order to test how well our model works in later steps we now want to split our data in a train and a validation set.\n",
    "\n",
    "In order to do so, split x into x_train (the first 80% of your data) and x_val (the remaining 20% of your data),\n",
    "and repeat this for y (y_train and y_val)"
   ]
  },
  {
   "cell_type": "code",
   "execution_count": 5,
   "metadata": {
    "pycharm": {
     "is_executing": false,
     "name": "#%%\n"
    }
   },
   "outputs": [],
   "source": [
    "# 4. split x and y into a 80 / 20 train and validation set\n",
    "from sklearn.model_selection import train_test_split\n",
    "\n",
    "X_train, X_val, y_train, y_val = train_test_split(x, y, test_size=0.2, random_state=42)"
   ]
  },
  {
   "cell_type": "code",
   "execution_count": 6,
   "metadata": {},
   "outputs": [
    {
     "data": {
      "text/plain": [
       "((614, 8), (154, 8), (614,), (154,))"
      ]
     },
     "execution_count": 6,
     "metadata": {},
     "output_type": "execute_result"
    }
   ],
   "source": [
    "X_train.shape, X_val.shape, y_train.shape, y_val.shape"
   ]
  },
  {
   "cell_type": "markdown",
   "metadata": {},
   "source": [
    "Now we are almost ready to train our model. But before we do that let's have closer look at our training data. \n",
    "We have already learned that the distribution of the labels during training can have a huge impact on the final performance of our model.\n",
    "One way to tackle this hurdle is the application of over- and under-sampling. \n",
    "In the following will preprocess your data as follows: \n",
    " \n",
    "* First plot the label distribution of your current training data. To this end you can use ```plot_label_distribution(labels, classes=['No Diabetis', 'Diabetis'])``` function from the helper class.\n",
    "* Apply a resampling approach of your own choosing\n",
    "* Plot the label distribution of your current training data again to verify the results\n",
    "\n",
    "Helpful links:\n",
    "* [imblearn undersampling methods](https://imbalanced-learn.readthedocs.io/en/stable/api.html#module-imblearn.under_sampling)\n",
    "* [imblearn oversampling methods](https://imbalanced-learn.readthedocs.io/en/stable/api.html#module-imblearn.over_sampling)\n",
    "* [imblearn tutorial](https://machinelearningmastery.com/smote-oversampling-for-imbalanced-classification/)"
   ]
  },
  {
   "cell_type": "code",
   "execution_count": 7,
   "metadata": {},
   "outputs": [
    {
     "data": {
      "image/png": "[encoded data removed]",
      "text/plain": [
       "<Figure size 432x288 with 1 Axes>"
      ]
     },
     "metadata": {
      "needs_background": "light"
     },
     "output_type": "display_data"
    }
   ],
   "source": [
    "# 5. plotting the label distribution for the training data\n",
    "plot_label_distribution(y_train)"
   ]
  },
  {
   "cell_type": "markdown",
   "metadata": {},
   "source": [
    "#### Checking how many diabetis and non-diabetis instances we have"
   ]
  },
  {
   "cell_type": "code",
   "execution_count": 8,
   "metadata": {},
   "outputs": [
    {
     "name": "stdout",
     "output_type": "stream",
     "text": [
      "Train dataset shape Counter({0.0: 401, 1.0: 213})\n"
     ]
    }
   ],
   "source": [
    "from collections import Counter\n",
    "\n",
    "print('Train dataset shape %s' % Counter(y_train))"
   ]
  },
  {
   "cell_type": "code",
   "execution_count": 9,
   "metadata": {},
   "outputs": [
    {
     "data": {
      "text/plain": [
       "((426, 8), (426,))"
      ]
     },
     "execution_count": 9,
     "metadata": {},
     "output_type": "execute_result"
    }
   ],
   "source": [
    "# 6. apply a balancing algorithm of your choice (e.g. smote)\n",
    "smote = imblearn.under_sampling.RandomUnderSampler(random_state=42)\n",
    "\n",
    "X_train_bal, y_train_bal = smote.fit_resample(X_train, y_train)\n",
    "\n",
    "X_train_bal.shape, y_train_bal.shape"
   ]
  },
  {
   "cell_type": "code",
   "execution_count": 10,
   "metadata": {
    "pycharm": {
     "is_executing": false,
     "name": "#%%\n"
    }
   },
   "outputs": [
    {
     "data": {
      "image/png": "[encoded data removed]",
      "text/plain": [
       "<Figure size 432x288 with 1 Axes>"
      ]
     },
     "metadata": {
      "needs_background": "light"
     },
     "output_type": "display_data"
    }
   ],
   "source": [
    "# 7. plot the label distribution again\n",
    "plot_label_distribution(y_train_bal)"
   ]
  },
  {
   "cell_type": "markdown",
   "metadata": {},
   "source": [
    "## 2. Support Vector Machines\n",
    "Now we are done preparing our data. In this exercise we want to work with two different classification algorithms.\n",
    "The first one is a Support Vector Machine (SVM) based on the sklearn library.\n",
    "For this step, you will:\n",
    "\n",
    "* Create a SVM Classifier with a linear Kernel\n",
    "\n",
    "* Train your model using the ```fit()``` function on x_train and y_train\n",
    "\n",
    "* Predict the labels in ```y_pred``` for the Validation set ```x_val```\n",
    "\n",
    "Helpful links:\n",
    "* [Support Vector Machines with sklearn](https://scikit-learn.org/stable/modules/generated/sklearn.svm.SVC.html)\n",
    "* [Support Vector Machine tutorial on datacamp](https://www.datacamp.com/community/tutorials/svm-classification-scikit-learn-python)\n"
   ]
  },
  {
   "cell_type": "code",
   "execution_count": 11,
   "metadata": {
    "pycharm": {
     "is_executing": false,
     "name": "#%%\n"
    }
   },
   "outputs": [
    {
     "data": {
      "text/plain": [
       "LinearSVC(C=2, loss='hinge')"
      ]
     },
     "execution_count": 11,
     "metadata": {},
     "output_type": "execute_result"
    }
   ],
   "source": [
    "# 8. Create a svm Classifier\n",
    "from sklearn.svm import LinearSVC\n",
    "\n",
    "svm_clf = LinearSVC(loss='hinge', C=2)\n",
    "\n",
    "# 9. Train the model using the training sets\n",
    "svm_clf.fit(X_train_bal, y_train_bal)"
   ]
  },
  {
   "cell_type": "code",
   "execution_count": 12,
   "metadata": {},
   "outputs": [
    {
     "name": "stdout",
     "output_type": "stream",
     "text": [
      "SVM classifier is trained and x_val is predicted\n"
     ]
    }
   ],
   "source": [
    "# 10. Predict the response for test dataset\n",
    "y_pred = svm_clf.predict(X_val)\n",
    "\n",
    "print(\"SVM classifier is trained and x_val is predicted\")"
   ]
  },
  {
   "cell_type": "markdown",
   "metadata": {},
   "source": [
    "Evaluation:\n",
    "\n",
    "In order to evaluate the model a simple method is to print a few entries from the prediction set and to compare them with the validation set."
   ]
  },
  {
   "cell_type": "code",
   "execution_count": 13,
   "metadata": {
    "pycharm": {
     "is_executing": false,
     "name": "#%%\n"
    }
   },
   "outputs": [
    {
     "name": "stdout",
     "output_type": "stream",
     "text": [
      "50 entries from test data (y_val):  [0. 0. 0. 0. 0. 0. 0. 0. 0. 0. 1. 0. 1. 0. 0. 1. 0. 0. 1. 1. 0. 0. 0. 0.\n",
      " 0. 1. 0. 0. 1. 0. 1. 1. 1. 1. 0. 1. 1. 1. 0. 1. 0. 0. 0. 1. 0. 1. 1. 0.\n",
      " 0. 0.]\n",
      "50 entries from predicted data (y_pred):  [0. 0. 0. 0. 1. 1. 0. 1. 1. 1. 0. 1. 1. 0. 0. 1. 0. 0. 1. 1. 0. 0. 1. 0.\n",
      " 1. 1. 0. 0. 0. 0. 1. 1. 1. 1. 1. 1. 1. 0. 1. 1. 0. 1. 1. 0. 0. 1. 1. 0.\n",
      " 1. 1.]\n"
     ]
    }
   ],
   "source": [
    "# 11. summarize the first 50 cases\n",
    "print('50 entries from test data (y_val): ', y_val[:50])\n",
    "print('50 entries from predicted data (y_pred): ', y_pred[:50])"
   ]
  },
  {
   "cell_type": "markdown",
   "metadata": {},
   "source": [
    "If we want to get some more meaningful information about the quality of your model you should use\n",
    "the sklearn function classification_report and plot a confusion matrix.\n",
    "\n",
    "In order to do so, you can call\n",
    "```plot_confusion_matrix(y_true, y_pred, class_names, title='Confusion Matrix', cmap=None, normalize=True, decimals=2)```\n",
    "from the file helper.py.\n",
    "\n",
    "Helpful links:\n",
    "* [classication_report description](https://scikit-learn.org/stable/modules/generated/sklearn.metrics.classification_report.html)\n"
   ]
  },
  {
   "cell_type": "code",
   "execution_count": 14,
   "metadata": {
    "pycharm": {
     "is_executing": false,
     "name": "#%%\n"
    }
   },
   "outputs": [
    {
     "name": "stdout",
     "output_type": "stream",
     "text": [
      "                       precision    recall  f1-score   support\n",
      "\n",
      "class 0 - No Diabetes       0.82      0.71      0.76        99\n",
      "   class 1 - Diabetes       0.58      0.73      0.65        55\n",
      "\n",
      "             accuracy                           0.71       154\n",
      "            macro avg       0.70      0.72      0.70       154\n",
      "         weighted avg       0.74      0.71      0.72       154\n",
      "\n"
     ]
    }
   ],
   "source": [
    "# 12. Call sklearn's classification report - For your orientation: your model should reach an average recall (macro) of > 0.75\n",
    "target_names = ['class 0 - No Diabetes', 'class 1 - Diabetes']\n",
    "print(classification_report(y_val, y_pred, target_names=target_names))"
   ]
  },
  {
   "cell_type": "code",
   "execution_count": 15,
   "metadata": {},
   "outputs": [
    {
     "name": "stdout",
     "output_type": "stream",
     "text": [
      "Normalized confusion matrix\n"
     ]
    },
    {
     "data": {
      "image/png": "[encoded data removed]",
      "text/plain": [
       "<Figure size 432x288 with 2 Axes>"
      ]
     },
     "metadata": {
      "needs_background": "light"
     },
     "output_type": "display_data"
    }
   ],
   "source": [
    "# 13. Call plot_confusion_matrix to paint the confusion matrix\n",
    "plot_confusion_matrix(y_val, y_pred, classes=target_names)"
   ]
  },
  {
   "cell_type": "markdown",
   "metadata": {},
   "source": [
    "Great, you now have trained and evaluated a model that was trained with a Support Vector machine.\n",
    "That was easy right? Support Vector Machines have the advantage that they are fast, and don't need parameter tuning in most cases. So for many classification and regression tasks they do a decent job.\n",
    "\n",
    "But how do they perform compared to artifical neural neworks?\n",
    "\n",
    "In the next chapters we will repeat these last steps, but this time with an artifical neural network defined in Keras."
   ]
  },
  {
   "cell_type": "markdown",
   "metadata": {},
   "source": [
    "## 3. Define Keras Model\n",
    "\n",
    "Models in Keras are defined as a sequence of layers. \n",
    "We create a Sequential model and one hidden layer and an output layer to it. \n",
    "The first thing to get right is to ensure the input layer has the right number of input features. This can be specified when creating the first layer with the input_dim argument and setting it to 8 for the 8 input variables. \n",
    "How do we know the number of layers and their types?  \n",
    "This is a very hard question. There are heuristics that we can use and often the best network structure is found through a process of trial and error experimentation (I explain more about this here). Generally, you need a network large enough to capture the structure of the problem. \n",
    "In this example, we will use a fully-connected network structure with two layers. \n",
    "Fully connected layers are defined using the Dense class. We can specify the number of neurons or nodes in the layer as the first argument, and specify the activation function using the activation argument. \n",
    "We will use the rectified linear unit activation function referred to as ReLU on the first two layers and the Sigmoid function in the output layer. \n",
    "It used to be the case that Sigmoid and Tanh activation functions were preferred for all layers. These days, better performance is achieved using the ReLU activation function. We use a sigmoid on the output layer to ensure our network output is between 0 and 1 and easy to map to either a probability of class 1 or snap to a hard classification of either class with a default threshold of 0.5. \n",
    "We can piece it all together by adding each layer:\n",
    "\n",
    "* The model expects rows of data with 8 variables (the input_dim=8 argument)\n",
    "* The hidden layer has 12 nodes and uses the relu activation function.\n",
    "* The output layer has one node and uses the sigmoid activation function.\n",
    "\n",
    "Helpful links: \n",
    "* [Keras guide to the sequential api](https://keras.io/getting-started/sequential-model-guide/)\n",
    "* [Activation Functions](https://keras.io/getting-started/sequential-model-guide/)"
   ]
  },
  {
   "cell_type": "code",
   "execution_count": 16,
   "metadata": {
    "pycharm": {
     "is_executing": false,
     "name": "#%%\n"
    }
   },
   "outputs": [],
   "source": [
    "# 14. define the keras model\n",
    "model = Sequential([\n",
    "    Dense(8, activation = 'relu', input_shape = (8,)),\n",
    "    Dense(12, activation = 'relu'),\n",
    "    Dense(1, activation = 'sigmoid')\n",
    "])"
   ]
  },
  {
   "cell_type": "markdown",
   "metadata": {},
   "source": [
    "## 4. Compile Keras Model\n",
    "\n",
    "Now that the model is defined, we can compile it. \n",
    "Compiling the model uses the efficient numerical libraries under the covers (the so-called backend) such as Theano or TensorFlow. The backend automatically chooses the best way to represent the network for training and making predictions to run on your hardware, such as CPU or GPU or even distributed.\n",
    "When compiling, we must specify some additional properties required when training the network. Remember training a network means finding the best set of weights to map inputs to outputs in our dataset.  \n",
    "We must specify the loss function to use to evaluate a set of weights, the optimizer is used to search through different weights for the network and any optional metrics we would like to collect and report during training.\n",
    "In this case, we will use cross entropy as the loss argument. This loss is for a binary classification problems and is defined in Keras as *binary_crossentropy*. \n",
    "We will define the optimizer as the efficient stochastic gradient descent algorithm *adam*. This is a popular version of gradient descent because it automatically tunes itself and gives good results in a wide range of problems.\n",
    "Finally, because it is a classification problem, we will collect and report the classification accuracy, defined via the metrics argument.\n",
    "\n",
    "Helpful links: \n",
    "* [How to Choose Loss Functions When Training Deep Learning Neural Networks](https://machinelearningmastery.com/how-to-choose-loss-functions-when-training-deep-learning-neural-networks/)\n",
    "* [Gentle Introduction to the Adam Optimization Algorithm for Deep Learning](https://machinelearningmastery.com/adam-optimization-algorithm-for-deep-learning/)"
   ]
  },
  {
   "cell_type": "code",
   "execution_count": 17,
   "metadata": {},
   "outputs": [
    {
     "name": "stdout",
     "output_type": "stream",
     "text": [
      "Model: \"sequential\"\n",
      "_________________________________________________________________\n",
      "Layer (type)                 Output Shape              Param #   \n",
      "=================================================================\n",
      "dense (Dense)                (None, 8)                 72        \n",
      "_________________________________________________________________\n",
      "dense_1 (Dense)              (None, 12)                108       \n",
      "_________________________________________________________________\n",
      "dense_2 (Dense)              (None, 1)                 13        \n",
      "=================================================================\n",
      "Total params: 193\n",
      "Trainable params: 193\n",
      "Non-trainable params: 0\n",
      "_________________________________________________________________\n"
     ]
    }
   ],
   "source": [
    "model.summary()"
   ]
  },
  {
   "cell_type": "code",
   "execution_count": 18,
   "metadata": {
    "pycharm": {
     "is_executing": false,
     "name": "#%%\n"
    }
   },
   "outputs": [],
   "source": [
    "# 15. compile the keras model\n",
    "model.compile(loss=\"binary_crossentropy\", optimizer=\"adam\",\n",
    "                 metrics=[\"accuracy\"])"
   ]
  },
  {
   "cell_type": "markdown",
   "metadata": {},
   "source": [
    "## 5. Fit Keras Model\n",
    "We have defined our model and compiled it ready for efficient computation.\n",
    "Now it is time to execute the model on some data.\n",
    "We can train or fit our model on our loaded data by calling the ```fit()```  function on the model.\n",
    "Training occurs over epochs and each epoch is split into batches.\n",
    "Epoch: One pass through all of the rows in the training dataset.\n",
    "Batch: One or more samples considered by the model within an epoch before weights are updated.\n",
    "One epoch is comprised of one or more batches, based on the chosen batch size and the model is fit for many epochs.\n",
    "What is the Difference Between a Batch and an Epoch in a Neural Network?\n",
    "The training process will run for a fixed number of iterations through the dataset called epochs, that we must specify using the epochs argument. We must also set the number of dataset rows that are considered before the model weights are updated within each epoch, called the batch size and set using the batch_size argument.  \n",
    "For this problem, we will run for a small number of epochs (150) and use a relatively small batch size of 10.\n",
    "These configurations can be chosen experimentally by trial and error. We want to train the model enough so that it learns a good (or good enough) mapping of rows of input data to the output classification. The model will always have some error, but the amount of error will level out after some point for a given model configuration. This is called model convergence.\n",
    "\n",
    "Helpful links:\n",
    "*  [Difference between a batch and an epoch](https://machinelearningmastery.com/difference-between-a-batch-and-an-epoch/)"
   ]
  },
  {
   "cell_type": "code",
   "execution_count": 19,
   "metadata": {
    "pycharm": {
     "is_executing": false,
     "name": "#%%\n"
    }
   },
   "outputs": [
    {
     "name": "stdout",
     "output_type": "stream",
     "text": [
      "Train on 614 samples, validate on 154 samples\n",
      "Epoch 1/150\n",
      "614/614 [==============================] - 0s 615us/sample - loss: 0.6938 - accuracy: 0.4984 - val_loss: 0.6807 - val_accuracy: 0.6429\n",
      "Epoch 2/150\n",
      "614/614 [==============================] - 0s 107us/sample - loss: 0.6717 - accuracy: 0.6531 - val_loss: 0.6705 - val_accuracy: 0.6429\n",
      "Epoch 3/150\n",
      "614/614 [==============================] - 0s 121us/sample - loss: 0.6619 - accuracy: 0.6531 - val_loss: 0.6641 - val_accuracy: 0.6429\n",
      "Epoch 4/150\n",
      "614/614 [==============================] - 0s 128us/sample - loss: 0.6560 - accuracy: 0.6531 - val_loss: 0.6601 - val_accuracy: 0.6429\n",
      "Epoch 5/150\n",
      "614/614 [==============================] - 0s 120us/sample - loss: 0.6525 - accuracy: 0.6531 - val_loss: 0.6570 - val_accuracy: 0.6429\n",
      "Epoch 6/150\n",
      "614/614 [==============================] - 0s 143us/sample - loss: 0.6495 - accuracy: 0.6531 - val_loss: 0.6533 - val_accuracy: 0.6429\n",
      "Epoch 7/150\n",
      "614/614 [==============================] - 0s 123us/sample - loss: 0.6466 - accuracy: 0.6531 - val_loss: 0.6497 - val_accuracy: 0.6429\n",
      "Epoch 8/150\n",
      "614/614 [==============================] - 0s 131us/sample - loss: 0.6436 - accuracy: 0.6531 - val_loss: 0.6448 - val_accuracy: 0.6429\n",
      "Epoch 9/150\n",
      "614/614 [==============================] - 0s 125us/sample - loss: 0.6394 - accuracy: 0.6531 - val_loss: 0.6400 - val_accuracy: 0.6429\n",
      "Epoch 10/150\n",
      "614/614 [==============================] - 0s 124us/sample - loss: 0.6351 - accuracy: 0.6531 - val_loss: 0.6347 - val_accuracy: 0.6429\n",
      "Epoch 11/150\n",
      "614/614 [==============================] - 0s 145us/sample - loss: 0.6303 - accuracy: 0.6531 - val_loss: 0.6291 - val_accuracy: 0.6429\n",
      "Epoch 12/150\n",
      "614/614 [==============================] - 0s 129us/sample - loss: 0.6251 - accuracy: 0.6531 - val_loss: 0.6233 - val_accuracy: 0.6429\n",
      "Epoch 13/150\n",
      "614/614 [==============================] - 0s 127us/sample - loss: 0.6202 - accuracy: 0.6564 - val_loss: 0.6163 - val_accuracy: 0.6623\n",
      "Epoch 14/150\n",
      "614/614 [==============================] - 0s 133us/sample - loss: 0.6146 - accuracy: 0.6661 - val_loss: 0.6103 - val_accuracy: 0.6753\n",
      "Epoch 15/150\n",
      "614/614 [==============================] - 0s 130us/sample - loss: 0.6083 - accuracy: 0.6792 - val_loss: 0.6033 - val_accuracy: 0.6753\n",
      "Epoch 16/150\n",
      "614/614 [==============================] - 0s 129us/sample - loss: 0.6026 - accuracy: 0.6710 - val_loss: 0.5971 - val_accuracy: 0.6688\n",
      "Epoch 17/150\n",
      "614/614 [==============================] - 0s 129us/sample - loss: 0.5969 - accuracy: 0.6808 - val_loss: 0.5912 - val_accuracy: 0.6818\n",
      "Epoch 18/150\n",
      "614/614 [==============================] - 0s 128us/sample - loss: 0.5914 - accuracy: 0.6922 - val_loss: 0.5854 - val_accuracy: 0.7078\n",
      "Epoch 19/150\n",
      "614/614 [==============================] - 0s 151us/sample - loss: 0.5870 - accuracy: 0.7085 - val_loss: 0.5796 - val_accuracy: 0.7013\n",
      "Epoch 20/150\n",
      "614/614 [==============================] - 0s 132us/sample - loss: 0.5814 - accuracy: 0.7117 - val_loss: 0.5744 - val_accuracy: 0.7078\n",
      "Epoch 21/150\n",
      "614/614 [==============================] - 0s 130us/sample - loss: 0.5755 - accuracy: 0.7036 - val_loss: 0.5698 - val_accuracy: 0.7338\n",
      "Epoch 22/150\n",
      "614/614 [==============================] - 0s 130us/sample - loss: 0.5711 - accuracy: 0.7166 - val_loss: 0.5646 - val_accuracy: 0.7597\n",
      "Epoch 23/150\n",
      "614/614 [==============================] - 0s 130us/sample - loss: 0.5663 - accuracy: 0.7248 - val_loss: 0.5582 - val_accuracy: 0.7403\n",
      "Epoch 24/150\n",
      "614/614 [==============================] - 0s 157us/sample - loss: 0.5620 - accuracy: 0.7280 - val_loss: 0.5541 - val_accuracy: 0.7727\n",
      "Epoch 25/150\n",
      "614/614 [==============================] - 0s 135us/sample - loss: 0.5567 - accuracy: 0.7248 - val_loss: 0.5499 - val_accuracy: 0.7857\n",
      "Epoch 26/150\n",
      "614/614 [==============================] - 0s 127us/sample - loss: 0.5521 - accuracy: 0.7296 - val_loss: 0.5458 - val_accuracy: 0.7792\n",
      "Epoch 27/150\n",
      "614/614 [==============================] - 0s 120us/sample - loss: 0.5474 - accuracy: 0.7296 - val_loss: 0.5413 - val_accuracy: 0.7792\n",
      "Epoch 28/150\n",
      "614/614 [==============================] - 0s 123us/sample - loss: 0.5432 - accuracy: 0.7345 - val_loss: 0.5362 - val_accuracy: 0.7792\n",
      "Epoch 29/150\n",
      "614/614 [==============================] - 0s 129us/sample - loss: 0.5387 - accuracy: 0.7248 - val_loss: 0.5330 - val_accuracy: 0.7857\n",
      "Epoch 30/150\n",
      "614/614 [==============================] - 0s 124us/sample - loss: 0.5353 - accuracy: 0.7378 - val_loss: 0.5293 - val_accuracy: 0.7792\n",
      "Epoch 31/150\n",
      "614/614 [==============================] - 0s 127us/sample - loss: 0.5319 - accuracy: 0.7280 - val_loss: 0.5265 - val_accuracy: 0.7922\n",
      "Epoch 32/150\n",
      "614/614 [==============================] - 0s 127us/sample - loss: 0.5292 - accuracy: 0.7394 - val_loss: 0.5227 - val_accuracy: 0.7857\n",
      "Epoch 33/150\n",
      "614/614 [==============================] - 0s 128us/sample - loss: 0.5258 - accuracy: 0.7427 - val_loss: 0.5200 - val_accuracy: 0.7857\n",
      "Epoch 34/150\n",
      "614/614 [==============================] - 0s 123us/sample - loss: 0.5219 - accuracy: 0.7329 - val_loss: 0.5178 - val_accuracy: 0.7857\n",
      "Epoch 35/150\n",
      "614/614 [==============================] - 0s 129us/sample - loss: 0.5193 - accuracy: 0.7410 - val_loss: 0.5151 - val_accuracy: 0.7792\n",
      "Epoch 36/150\n",
      "614/614 [==============================] - 0s 129us/sample - loss: 0.5163 - accuracy: 0.7492 - val_loss: 0.5137 - val_accuracy: 0.7792\n",
      "Epoch 37/150\n",
      "614/614 [==============================] - 0s 123us/sample - loss: 0.5136 - accuracy: 0.7394 - val_loss: 0.5116 - val_accuracy: 0.7922\n",
      "Epoch 38/150\n",
      "614/614 [==============================] - 0s 118us/sample - loss: 0.5122 - accuracy: 0.7394 - val_loss: 0.5123 - val_accuracy: 0.7922\n",
      "Epoch 39/150\n",
      "614/614 [==============================] - 0s 112us/sample - loss: 0.5101 - accuracy: 0.7476 - val_loss: 0.5079 - val_accuracy: 0.7792\n",
      "Epoch 40/150\n",
      "614/614 [==============================] - 0s 115us/sample - loss: 0.5079 - accuracy: 0.7524 - val_loss: 0.5076 - val_accuracy: 0.7857\n",
      "Epoch 41/150\n",
      "614/614 [==============================] - 0s 108us/sample - loss: 0.5048 - accuracy: 0.7476 - val_loss: 0.5061 - val_accuracy: 0.7792\n",
      "Epoch 42/150\n",
      "614/614 [==============================] - 0s 110us/sample - loss: 0.5035 - accuracy: 0.7524 - val_loss: 0.5064 - val_accuracy: 0.7792\n",
      "Epoch 43/150\n",
      "614/614 [==============================] - 0s 110us/sample - loss: 0.5009 - accuracy: 0.7541 - val_loss: 0.5041 - val_accuracy: 0.7857\n",
      "Epoch 44/150\n",
      "614/614 [==============================] - 0s 115us/sample - loss: 0.5012 - accuracy: 0.7573 - val_loss: 0.5022 - val_accuracy: 0.7857\n",
      "Epoch 45/150\n",
      "614/614 [==============================] - 0s 115us/sample - loss: 0.4963 - accuracy: 0.7590 - val_loss: 0.5026 - val_accuracy: 0.7922\n",
      "Epoch 46/150\n",
      "614/614 [==============================] - 0s 111us/sample - loss: 0.4951 - accuracy: 0.7622 - val_loss: 0.5024 - val_accuracy: 0.7922\n",
      "Epoch 47/150\n",
      "614/614 [==============================] - 0s 104us/sample - loss: 0.4930 - accuracy: 0.7590 - val_loss: 0.4994 - val_accuracy: 0.7987\n",
      "Epoch 48/150\n",
      "614/614 [==============================] - 0s 97us/sample - loss: 0.4934 - accuracy: 0.7573 - val_loss: 0.4981 - val_accuracy: 0.8052\n",
      "Epoch 49/150\n",
      "614/614 [==============================] - 0s 93us/sample - loss: 0.4904 - accuracy: 0.7655 - val_loss: 0.4990 - val_accuracy: 0.7987\n",
      "Epoch 50/150\n",
      "614/614 [==============================] - 0s 91us/sample - loss: 0.4880 - accuracy: 0.7606 - val_loss: 0.4995 - val_accuracy: 0.7922\n",
      "Epoch 51/150\n",
      "614/614 [==============================] - 0s 93us/sample - loss: 0.4882 - accuracy: 0.7622 - val_loss: 0.4966 - val_accuracy: 0.7922\n",
      "Epoch 52/150\n",
      "614/614 [==============================] - 0s 92us/sample - loss: 0.4857 - accuracy: 0.7671 - val_loss: 0.4974 - val_accuracy: 0.7987\n",
      "Epoch 53/150\n",
      "614/614 [==============================] - 0s 92us/sample - loss: 0.4846 - accuracy: 0.7704 - val_loss: 0.4992 - val_accuracy: 0.7987\n",
      "Epoch 54/150\n",
      "614/614 [==============================] - 0s 98us/sample - loss: 0.4825 - accuracy: 0.7687 - val_loss: 0.4989 - val_accuracy: 0.7857\n",
      "Epoch 55/150\n",
      "614/614 [==============================] - 0s 92us/sample - loss: 0.4816 - accuracy: 0.7704 - val_loss: 0.4956 - val_accuracy: 0.8052\n",
      "Epoch 56/150\n"
     ]
    },
    {
     "name": "stdout",
     "output_type": "stream",
     "text": [
      "614/614 [==============================] - 0s 91us/sample - loss: 0.4793 - accuracy: 0.7769 - val_loss: 0.4943 - val_accuracy: 0.8052\n",
      "Epoch 57/150\n",
      "614/614 [==============================] - 0s 93us/sample - loss: 0.4795 - accuracy: 0.7752 - val_loss: 0.4941 - val_accuracy: 0.7987\n",
      "Epoch 58/150\n",
      "614/614 [==============================] - 0s 101us/sample - loss: 0.4779 - accuracy: 0.7687 - val_loss: 0.4942 - val_accuracy: 0.7987\n",
      "Epoch 59/150\n",
      "614/614 [==============================] - 0s 96us/sample - loss: 0.4763 - accuracy: 0.7752 - val_loss: 0.4924 - val_accuracy: 0.8117\n",
      "Epoch 60/150\n",
      "614/614 [==============================] - 0s 98us/sample - loss: 0.4762 - accuracy: 0.7736 - val_loss: 0.4941 - val_accuracy: 0.8052\n",
      "Epoch 61/150\n",
      "614/614 [==============================] - 0s 103us/sample - loss: 0.4753 - accuracy: 0.7720 - val_loss: 0.4946 - val_accuracy: 0.8052\n",
      "Epoch 62/150\n",
      "614/614 [==============================] - 0s 97us/sample - loss: 0.4733 - accuracy: 0.7752 - val_loss: 0.4955 - val_accuracy: 0.8052\n",
      "Epoch 63/150\n",
      "614/614 [==============================] - 0s 92us/sample - loss: 0.4723 - accuracy: 0.7769 - val_loss: 0.4949 - val_accuracy: 0.7987\n",
      "Epoch 64/150\n",
      "614/614 [==============================] - 0s 91us/sample - loss: 0.4714 - accuracy: 0.7752 - val_loss: 0.4943 - val_accuracy: 0.8117\n",
      "Epoch 65/150\n",
      "614/614 [==============================] - 0s 92us/sample - loss: 0.4697 - accuracy: 0.7736 - val_loss: 0.4949 - val_accuracy: 0.7987\n",
      "Epoch 66/150\n",
      "614/614 [==============================] - 0s 94us/sample - loss: 0.4693 - accuracy: 0.7752 - val_loss: 0.4937 - val_accuracy: 0.8117\n",
      "Epoch 67/150\n",
      "614/614 [==============================] - 0s 98us/sample - loss: 0.4684 - accuracy: 0.7785 - val_loss: 0.4939 - val_accuracy: 0.8052\n",
      "Epoch 68/150\n",
      "614/614 [==============================] - 0s 92us/sample - loss: 0.4670 - accuracy: 0.7769 - val_loss: 0.5004 - val_accuracy: 0.7987\n",
      "Epoch 69/150\n",
      "614/614 [==============================] - 0s 92us/sample - loss: 0.4674 - accuracy: 0.7704 - val_loss: 0.4953 - val_accuracy: 0.8117\n",
      "Epoch 70/150\n",
      "614/614 [==============================] - 0s 97us/sample - loss: 0.4647 - accuracy: 0.7818 - val_loss: 0.4992 - val_accuracy: 0.8052\n",
      "Epoch 71/150\n",
      "614/614 [==============================] - 0s 95us/sample - loss: 0.4644 - accuracy: 0.7769 - val_loss: 0.4953 - val_accuracy: 0.7987\n",
      "Epoch 72/150\n",
      "614/614 [==============================] - 0s 97us/sample - loss: 0.4664 - accuracy: 0.7720 - val_loss: 0.4953 - val_accuracy: 0.7987\n",
      "Epoch 73/150\n",
      "614/614 [==============================] - 0s 98us/sample - loss: 0.4623 - accuracy: 0.7752 - val_loss: 0.5000 - val_accuracy: 0.8052\n",
      "Epoch 74/150\n",
      "614/614 [==============================] - 0s 92us/sample - loss: 0.4643 - accuracy: 0.7704 - val_loss: 0.4980 - val_accuracy: 0.7922\n",
      "Epoch 75/150\n",
      "614/614 [==============================] - 0s 94us/sample - loss: 0.4612 - accuracy: 0.7801 - val_loss: 0.4981 - val_accuracy: 0.7857\n",
      "Epoch 76/150\n",
      "614/614 [==============================] - 0s 94us/sample - loss: 0.4617 - accuracy: 0.7687 - val_loss: 0.4996 - val_accuracy: 0.8052\n",
      "Epoch 77/150\n",
      "614/614 [==============================] - 0s 95us/sample - loss: 0.4599 - accuracy: 0.7818 - val_loss: 0.4975 - val_accuracy: 0.8052\n",
      "Epoch 78/150\n",
      "614/614 [==============================] - 0s 97us/sample - loss: 0.4589 - accuracy: 0.7801 - val_loss: 0.4986 - val_accuracy: 0.7987\n",
      "Epoch 79/150\n",
      "614/614 [==============================] - 0s 90us/sample - loss: 0.4597 - accuracy: 0.7736 - val_loss: 0.4985 - val_accuracy: 0.7987\n",
      "Epoch 80/150\n",
      "614/614 [==============================] - 0s 101us/sample - loss: 0.4591 - accuracy: 0.7785 - val_loss: 0.4995 - val_accuracy: 0.7922\n",
      "Epoch 81/150\n",
      "614/614 [==============================] - 0s 92us/sample - loss: 0.4577 - accuracy: 0.7785 - val_loss: 0.5041 - val_accuracy: 0.7922\n",
      "Epoch 82/150\n",
      "614/614 [==============================] - 0s 93us/sample - loss: 0.4595 - accuracy: 0.7785 - val_loss: 0.5041 - val_accuracy: 0.7987\n",
      "Epoch 83/150\n",
      "614/614 [==============================] - 0s 98us/sample - loss: 0.4589 - accuracy: 0.7818 - val_loss: 0.5027 - val_accuracy: 0.7987\n",
      "Epoch 84/150\n",
      "614/614 [==============================] - 0s 97us/sample - loss: 0.4570 - accuracy: 0.7671 - val_loss: 0.4996 - val_accuracy: 0.7987\n",
      "Epoch 85/150\n",
      "614/614 [==============================] - 0s 95us/sample - loss: 0.4565 - accuracy: 0.7801 - val_loss: 0.5085 - val_accuracy: 0.7857\n",
      "Epoch 86/150\n",
      "614/614 [==============================] - 0s 98us/sample - loss: 0.4561 - accuracy: 0.7769 - val_loss: 0.5043 - val_accuracy: 0.7922\n",
      "Epoch 87/150\n",
      "614/614 [==============================] - 0s 95us/sample - loss: 0.4554 - accuracy: 0.7769 - val_loss: 0.5026 - val_accuracy: 0.7922\n",
      "Epoch 88/150\n",
      "614/614 [==============================] - 0s 92us/sample - loss: 0.4539 - accuracy: 0.7834 - val_loss: 0.5016 - val_accuracy: 0.7987\n",
      "Epoch 89/150\n",
      "614/614 [==============================] - 0s 97us/sample - loss: 0.4556 - accuracy: 0.7720 - val_loss: 0.5021 - val_accuracy: 0.7922\n",
      "Epoch 90/150\n",
      "614/614 [==============================] - 0s 97us/sample - loss: 0.4539 - accuracy: 0.7769 - val_loss: 0.5082 - val_accuracy: 0.7922\n",
      "Epoch 91/150\n",
      "614/614 [==============================] - 0s 92us/sample - loss: 0.4531 - accuracy: 0.7785 - val_loss: 0.5049 - val_accuracy: 0.7922\n",
      "Epoch 92/150\n",
      "614/614 [==============================] - 0s 92us/sample - loss: 0.4522 - accuracy: 0.7736 - val_loss: 0.5063 - val_accuracy: 0.7922\n",
      "Epoch 93/150\n",
      "614/614 [==============================] - 0s 98us/sample - loss: 0.4513 - accuracy: 0.7752 - val_loss: 0.5075 - val_accuracy: 0.7987\n",
      "Epoch 94/150\n",
      "614/614 [==============================] - 0s 91us/sample - loss: 0.4519 - accuracy: 0.7769 - val_loss: 0.5087 - val_accuracy: 0.7792\n",
      "Epoch 95/150\n",
      "614/614 [==============================] - 0s 96us/sample - loss: 0.4516 - accuracy: 0.7671 - val_loss: 0.5059 - val_accuracy: 0.7857\n",
      "Epoch 96/150\n",
      "614/614 [==============================] - 0s 91us/sample - loss: 0.4523 - accuracy: 0.7671 - val_loss: 0.5061 - val_accuracy: 0.7922\n",
      "Epoch 97/150\n",
      "614/614 [==============================] - 0s 93us/sample - loss: 0.4518 - accuracy: 0.7801 - val_loss: 0.5096 - val_accuracy: 0.7792\n",
      "Epoch 98/150\n",
      "614/614 [==============================] - 0s 97us/sample - loss: 0.4527 - accuracy: 0.7801 - val_loss: 0.5078 - val_accuracy: 0.7922\n",
      "Epoch 99/150\n",
      "614/614 [==============================] - 0s 96us/sample - loss: 0.4503 - accuracy: 0.7818 - val_loss: 0.5095 - val_accuracy: 0.8052\n",
      "Epoch 100/150\n",
      "614/614 [==============================] - 0s 92us/sample - loss: 0.4503 - accuracy: 0.7769 - val_loss: 0.5086 - val_accuracy: 0.7857\n",
      "Epoch 101/150\n",
      "614/614 [==============================] - 0s 94us/sample - loss: 0.4503 - accuracy: 0.7752 - val_loss: 0.5075 - val_accuracy: 0.7987\n",
      "Epoch 102/150\n",
      "614/614 [==============================] - 0s 94us/sample - loss: 0.4489 - accuracy: 0.7769 - val_loss: 0.5096 - val_accuracy: 0.7792\n",
      "Epoch 103/150\n",
      "614/614 [==============================] - 0s 91us/sample - loss: 0.4482 - accuracy: 0.7818 - val_loss: 0.5104 - val_accuracy: 0.7792\n",
      "Epoch 104/150\n",
      "614/614 [==============================] - 0s 93us/sample - loss: 0.4497 - accuracy: 0.7785 - val_loss: 0.5087 - val_accuracy: 0.7922\n",
      "Epoch 105/150\n",
      "614/614 [==============================] - 0s 97us/sample - loss: 0.4489 - accuracy: 0.7801 - val_loss: 0.5097 - val_accuracy: 0.7792\n",
      "Epoch 106/150\n",
      "614/614 [==============================] - 0s 94us/sample - loss: 0.4478 - accuracy: 0.7785 - val_loss: 0.5116 - val_accuracy: 0.7792\n",
      "Epoch 107/150\n",
      "614/614 [==============================] - 0s 97us/sample - loss: 0.4468 - accuracy: 0.7752 - val_loss: 0.5144 - val_accuracy: 0.7792\n",
      "Epoch 108/150\n",
      "614/614 [==============================] - 0s 97us/sample - loss: 0.4497 - accuracy: 0.7850 - val_loss: 0.5096 - val_accuracy: 0.7857\n",
      "Epoch 109/150\n",
      "614/614 [==============================] - 0s 95us/sample - loss: 0.4476 - accuracy: 0.7785 - val_loss: 0.5148 - val_accuracy: 0.7662\n",
      "Epoch 110/150\n",
      "614/614 [==============================] - 0s 91us/sample - loss: 0.4484 - accuracy: 0.7736 - val_loss: 0.5180 - val_accuracy: 0.7662\n",
      "Epoch 111/150\n",
      "614/614 [==============================] - 0s 93us/sample - loss: 0.4485 - accuracy: 0.7834 - val_loss: 0.5141 - val_accuracy: 0.7792\n"
     ]
    },
    {
     "name": "stdout",
     "output_type": "stream",
     "text": [
      "Epoch 112/150\n",
      "614/614 [==============================] - 0s 109us/sample - loss: 0.4467 - accuracy: 0.7818 - val_loss: 0.5131 - val_accuracy: 0.7727\n",
      "Epoch 113/150\n",
      "614/614 [==============================] - 0s 94us/sample - loss: 0.4470 - accuracy: 0.7801 - val_loss: 0.5120 - val_accuracy: 0.7857\n",
      "Epoch 114/150\n",
      "614/614 [==============================] - 0s 96us/sample - loss: 0.4479 - accuracy: 0.7785 - val_loss: 0.5124 - val_accuracy: 0.7922\n",
      "Epoch 115/150\n",
      "614/614 [==============================] - 0s 97us/sample - loss: 0.4464 - accuracy: 0.7818 - val_loss: 0.5112 - val_accuracy: 0.7792\n",
      "Epoch 116/150\n",
      "614/614 [==============================] - 0s 96us/sample - loss: 0.4460 - accuracy: 0.7769 - val_loss: 0.5200 - val_accuracy: 0.7597\n",
      "Epoch 117/150\n",
      "614/614 [==============================] - 0s 95us/sample - loss: 0.4469 - accuracy: 0.7720 - val_loss: 0.5177 - val_accuracy: 0.7662\n",
      "Epoch 118/150\n",
      "614/614 [==============================] - 0s 96us/sample - loss: 0.4470 - accuracy: 0.7834 - val_loss: 0.5132 - val_accuracy: 0.7857\n",
      "Epoch 119/150\n",
      "614/614 [==============================] - 0s 98us/sample - loss: 0.4460 - accuracy: 0.7769 - val_loss: 0.5114 - val_accuracy: 0.7857\n",
      "Epoch 120/150\n",
      "614/614 [==============================] - 0s 98us/sample - loss: 0.4452 - accuracy: 0.7801 - val_loss: 0.5167 - val_accuracy: 0.7662\n",
      "Epoch 121/150\n",
      "614/614 [==============================] - 0s 92us/sample - loss: 0.4453 - accuracy: 0.7720 - val_loss: 0.5195 - val_accuracy: 0.7662\n",
      "Epoch 122/150\n",
      "614/614 [==============================] - 0s 97us/sample - loss: 0.4458 - accuracy: 0.7769 - val_loss: 0.5135 - val_accuracy: 0.7727\n",
      "Epoch 123/150\n",
      "614/614 [==============================] - 0s 93us/sample - loss: 0.4450 - accuracy: 0.7866 - val_loss: 0.5151 - val_accuracy: 0.7792\n",
      "Epoch 124/150\n",
      "614/614 [==============================] - 0s 106us/sample - loss: 0.4448 - accuracy: 0.7818 - val_loss: 0.5195 - val_accuracy: 0.7597\n",
      "Epoch 125/150\n",
      "614/614 [==============================] - 0s 94us/sample - loss: 0.4441 - accuracy: 0.7752 - val_loss: 0.5180 - val_accuracy: 0.7597\n",
      "Epoch 126/150\n",
      "614/614 [==============================] - 0s 96us/sample - loss: 0.4441 - accuracy: 0.7785 - val_loss: 0.5183 - val_accuracy: 0.8052\n",
      "Epoch 127/150\n",
      "614/614 [==============================] - 0s 103us/sample - loss: 0.4467 - accuracy: 0.7736 - val_loss: 0.5153 - val_accuracy: 0.7857\n",
      "Epoch 128/150\n",
      "614/614 [==============================] - 0s 93us/sample - loss: 0.4434 - accuracy: 0.7769 - val_loss: 0.5160 - val_accuracy: 0.7792\n",
      "Epoch 129/150\n",
      "614/614 [==============================] - 0s 98us/sample - loss: 0.4455 - accuracy: 0.7801 - val_loss: 0.5170 - val_accuracy: 0.7792\n",
      "Epoch 130/150\n",
      "614/614 [==============================] - 0s 100us/sample - loss: 0.4437 - accuracy: 0.7769 - val_loss: 0.5149 - val_accuracy: 0.7857\n",
      "Epoch 131/150\n",
      "614/614 [==============================] - 0s 93us/sample - loss: 0.4446 - accuracy: 0.7785 - val_loss: 0.5158 - val_accuracy: 0.7857\n",
      "Epoch 132/150\n",
      "614/614 [==============================] - 0s 98us/sample - loss: 0.4443 - accuracy: 0.7866 - val_loss: 0.5166 - val_accuracy: 0.7922\n",
      "Epoch 133/150\n",
      "614/614 [==============================] - 0s 93us/sample - loss: 0.4463 - accuracy: 0.7866 - val_loss: 0.5170 - val_accuracy: 0.7857\n",
      "Epoch 134/150\n",
      "614/614 [==============================] - 0s 92us/sample - loss: 0.4435 - accuracy: 0.7801 - val_loss: 0.5169 - val_accuracy: 0.7727\n",
      "Epoch 135/150\n",
      "614/614 [==============================] - 0s 93us/sample - loss: 0.4433 - accuracy: 0.7883 - val_loss: 0.5184 - val_accuracy: 0.7857\n",
      "Epoch 136/150\n",
      "614/614 [==============================] - 0s 98us/sample - loss: 0.4430 - accuracy: 0.7769 - val_loss: 0.5188 - val_accuracy: 0.7727\n",
      "Epoch 137/150\n",
      "614/614 [==============================] - 0s 95us/sample - loss: 0.4437 - accuracy: 0.7834 - val_loss: 0.5179 - val_accuracy: 0.7727\n",
      "Epoch 138/150\n",
      "614/614 [==============================] - 0s 93us/sample - loss: 0.4424 - accuracy: 0.7785 - val_loss: 0.5205 - val_accuracy: 0.7597\n",
      "Epoch 139/150\n",
      "614/614 [==============================] - 0s 92us/sample - loss: 0.4412 - accuracy: 0.7704 - val_loss: 0.5185 - val_accuracy: 0.7792\n",
      "Epoch 140/150\n",
      "614/614 [==============================] - 0s 91us/sample - loss: 0.4423 - accuracy: 0.7736 - val_loss: 0.5179 - val_accuracy: 0.7792\n",
      "Epoch 141/150\n",
      "614/614 [==============================] - 0s 97us/sample - loss: 0.4427 - accuracy: 0.7866 - val_loss: 0.5185 - val_accuracy: 0.7857\n",
      "Epoch 142/150\n",
      "614/614 [==============================] - 0s 91us/sample - loss: 0.4454 - accuracy: 0.7866 - val_loss: 0.5190 - val_accuracy: 0.7857\n",
      "Epoch 143/150\n",
      "614/614 [==============================] - 0s 95us/sample - loss: 0.4411 - accuracy: 0.7769 - val_loss: 0.5208 - val_accuracy: 0.7662\n",
      "Epoch 144/150\n",
      "614/614 [==============================] - 0s 97us/sample - loss: 0.4415 - accuracy: 0.7801 - val_loss: 0.5192 - val_accuracy: 0.7727\n",
      "Epoch 145/150\n",
      "614/614 [==============================] - 0s 95us/sample - loss: 0.4440 - accuracy: 0.7785 - val_loss: 0.5170 - val_accuracy: 0.7792\n",
      "Epoch 146/150\n",
      "614/614 [==============================] - 0s 93us/sample - loss: 0.4415 - accuracy: 0.7834 - val_loss: 0.5187 - val_accuracy: 0.7792\n",
      "Epoch 147/150\n",
      "614/614 [==============================] - 0s 96us/sample - loss: 0.4399 - accuracy: 0.7785 - val_loss: 0.5200 - val_accuracy: 0.7662\n",
      "Epoch 148/150\n",
      "614/614 [==============================] - 0s 91us/sample - loss: 0.4421 - accuracy: 0.7801 - val_loss: 0.5198 - val_accuracy: 0.7792\n",
      "Epoch 149/150\n",
      "614/614 [==============================] - 0s 92us/sample - loss: 0.4422 - accuracy: 0.7769 - val_loss: 0.5215 - val_accuracy: 0.7597\n",
      "Epoch 150/150\n",
      "614/614 [==============================] - 0s 91us/sample - loss: 0.4428 - accuracy: 0.7785 - val_loss: 0.5187 - val_accuracy: 0.7792\n"
     ]
    }
   ],
   "source": [
    "# 16. fit the keras model on the dataset\n",
    "history = model.fit(X_train, y_train, batch_size=10, epochs=150, validation_data=(X_val, y_val))"
   ]
  },
  {
   "cell_type": "markdown",
   "metadata": {},
   "source": [
    "## 6.Make Predictions\n",
    "\n",
    "After I train my model, how can I use it to make predictions on new data? - Great question.\n",
    "We can adapt the above example and use it to generate predictions on the training dataset, pretending it is a new dataset we have not seen before.\n",
    "Making predictions is as easy as calling the ```predict()``` function on the model. We are using a sigmoid activation function on the output layer, so the predictions will be a probability in the range between 0 and 1. We can easily convert them into a crisp binary prediction for this classification task by rounding them.\n",
    "\n",
    "Helpful links: \n",
    "* [Keras predict](https://keras.io/models/model/#predict)"
   ]
  },
  {
   "cell_type": "code",
   "execution_count": 20,
   "metadata": {},
   "outputs": [
    {
     "name": "stdout",
     "output_type": "stream",
     "text": [
      "154/154 [==============================] - 0s 34us/sample - loss: 0.5187 - accuracy: 0.7792\n"
     ]
    },
    {
     "data": {
      "text/plain": [
       "[0.5187185143495535, 0.77922076]"
      ]
     },
     "execution_count": 20,
     "metadata": {},
     "output_type": "execute_result"
    }
   ],
   "source": [
    "model.evaluate(X_val, y_val)"
   ]
  },
  {
   "cell_type": "code",
   "execution_count": 21,
   "metadata": {
    "pycharm": {
     "is_executing": false,
     "name": "#%%\n"
    }
   },
   "outputs": [
    {
     "data": {
      "text/plain": [
       "array([[0.3610463 ],\n",
       "       [0.12004365],\n",
       "       [0.08280127],\n",
       "       [0.21682347],\n",
       "       [0.5582764 ],\n",
       "       [0.5441078 ],\n",
       "       [0.03676458],\n",
       "       [0.4470532 ],\n",
       "       [0.67833585],\n",
       "       [0.35956383]], dtype=float32)"
      ]
     },
     "execution_count": 21,
     "metadata": {},
     "output_type": "execute_result"
    }
   ],
   "source": [
    "# 17. make probability predictions with the model\n",
    "y_pred = model.predict(X_val)\n",
    "y_pred[:10]"
   ]
  },
  {
   "cell_type": "code",
   "execution_count": 22,
   "metadata": {},
   "outputs": [
    {
     "data": {
      "text/plain": [
       "array([[0.],\n",
       "       [0.],\n",
       "       [0.],\n",
       "       [0.],\n",
       "       [1.],\n",
       "       [1.],\n",
       "       [0.],\n",
       "       [0.],\n",
       "       [1.],\n",
       "       [0.],\n",
       "       [0.],\n",
       "       [1.],\n",
       "       [0.],\n",
       "       [0.],\n",
       "       [0.],\n",
       "       [0.],\n",
       "       [0.],\n",
       "       [0.],\n",
       "       [1.],\n",
       "       [0.],\n",
       "       [0.],\n",
       "       [0.],\n",
       "       [0.],\n",
       "       [0.],\n",
       "       [1.],\n",
       "       [1.],\n",
       "       [0.],\n",
       "       [0.],\n",
       "       [0.],\n",
       "       [0.],\n",
       "       [1.],\n",
       "       [0.],\n",
       "       [1.],\n",
       "       [1.],\n",
       "       [1.],\n",
       "       [1.],\n",
       "       [1.],\n",
       "       [0.],\n",
       "       [0.],\n",
       "       [1.],\n",
       "       [0.],\n",
       "       [0.],\n",
       "       [0.],\n",
       "       [0.],\n",
       "       [0.],\n",
       "       [1.],\n",
       "       [1.],\n",
       "       [0.],\n",
       "       [0.],\n",
       "       [1.],\n",
       "       [0.],\n",
       "       [1.],\n",
       "       [1.],\n",
       "       [0.],\n",
       "       [0.],\n",
       "       [0.],\n",
       "       [0.],\n",
       "       [0.],\n",
       "       [0.],\n",
       "       [1.],\n",
       "       [1.],\n",
       "       [0.],\n",
       "       [0.],\n",
       "       [0.],\n",
       "       [0.],\n",
       "       [0.],\n",
       "       [0.],\n",
       "       [1.],\n",
       "       [0.],\n",
       "       [1.],\n",
       "       [1.],\n",
       "       [0.],\n",
       "       [0.],\n",
       "       [0.],\n",
       "       [0.],\n",
       "       [0.],\n",
       "       [0.],\n",
       "       [0.],\n",
       "       [0.],\n",
       "       [0.],\n",
       "       [1.],\n",
       "       [0.],\n",
       "       [0.],\n",
       "       [0.],\n",
       "       [0.],\n",
       "       [1.],\n",
       "       [1.],\n",
       "       [0.],\n",
       "       [0.],\n",
       "       [0.],\n",
       "       [0.],\n",
       "       [0.],\n",
       "       [0.],\n",
       "       [0.],\n",
       "       [1.],\n",
       "       [1.],\n",
       "       [0.],\n",
       "       [0.],\n",
       "       [0.],\n",
       "       [0.],\n",
       "       [1.],\n",
       "       [0.],\n",
       "       [1.],\n",
       "       [0.],\n",
       "       [1.],\n",
       "       [0.],\n",
       "       [0.],\n",
       "       [1.],\n",
       "       [0.],\n",
       "       [1.],\n",
       "       [0.],\n",
       "       [0.],\n",
       "       [0.],\n",
       "       [1.],\n",
       "       [0.],\n",
       "       [0.],\n",
       "       [1.],\n",
       "       [0.],\n",
       "       [0.],\n",
       "       [0.],\n",
       "       [0.],\n",
       "       [0.],\n",
       "       [0.],\n",
       "       [0.],\n",
       "       [0.],\n",
       "       [0.],\n",
       "       [0.],\n",
       "       [1.],\n",
       "       [1.],\n",
       "       [1.],\n",
       "       [1.],\n",
       "       [1.],\n",
       "       [0.],\n",
       "       [0.],\n",
       "       [1.],\n",
       "       [0.],\n",
       "       [0.],\n",
       "       [1.],\n",
       "       [1.],\n",
       "       [0.],\n",
       "       [0.],\n",
       "       [0.],\n",
       "       [0.],\n",
       "       [0.],\n",
       "       [0.],\n",
       "       [0.],\n",
       "       [0.],\n",
       "       [0.],\n",
       "       [0.],\n",
       "       [1.],\n",
       "       [0.],\n",
       "       [0.],\n",
       "       [0.],\n",
       "       [0.]], dtype=float32)"
      ]
     },
     "execution_count": 22,
     "metadata": {},
     "output_type": "execute_result"
    }
   ],
   "source": [
    "# 18. use the round function to round each entry of y_pred to either 0.0 or 1.0\n",
    "y_pred.round()"
   ]
  },
  {
   "cell_type": "markdown",
   "metadata": {},
   "source": [
    "## 7.Evaluation\n",
    "Great, we are almost done now:\n",
    "Exactly as in the Support Vector Machine example, we now want to print the first 50 entries from the prediction set and to compare them with the validation set.\n"
   ]
  },
  {
   "cell_type": "code",
   "execution_count": 23,
   "metadata": {
    "pycharm": {
     "is_executing": false,
     "name": "#%%\n"
    }
   },
   "outputs": [
    {
     "name": "stdout",
     "output_type": "stream",
     "text": [
      "50 entries from test data (y_val):  [0. 0. 0. 0. 0. 0. 0. 0. 0. 0. 1. 0. 1. 0. 0. 1. 0. 0. 1. 1. 0. 0. 0. 0.\n",
      " 0. 1. 0. 0. 1. 0. 1. 1. 1. 1. 0. 1. 1. 1. 0. 1. 0. 0. 0. 1. 0. 1. 1. 0.\n",
      " 0. 0.]\n",
      "50 entries from predicted data (y_pred):  [[0.]\n",
      " [0.]\n",
      " [0.]\n",
      " [0.]\n",
      " [1.]\n",
      " [1.]\n",
      " [0.]\n",
      " [0.]\n",
      " [1.]\n",
      " [0.]\n",
      " [0.]\n",
      " [1.]\n",
      " [0.]\n",
      " [0.]\n",
      " [0.]\n",
      " [0.]\n",
      " [0.]\n",
      " [0.]\n",
      " [1.]\n",
      " [0.]\n",
      " [0.]\n",
      " [0.]\n",
      " [0.]\n",
      " [0.]\n",
      " [1.]\n",
      " [1.]\n",
      " [0.]\n",
      " [0.]\n",
      " [0.]\n",
      " [0.]\n",
      " [1.]\n",
      " [0.]\n",
      " [1.]\n",
      " [1.]\n",
      " [1.]\n",
      " [1.]\n",
      " [1.]\n",
      " [0.]\n",
      " [0.]\n",
      " [1.]\n",
      " [0.]\n",
      " [0.]\n",
      " [0.]\n",
      " [0.]\n",
      " [0.]\n",
      " [1.]\n",
      " [1.]\n",
      " [0.]\n",
      " [0.]\n",
      " [1.]]\n"
     ]
    }
   ],
   "source": [
    "# 19. summarize the first 50 cases\n",
    "print('50 entries from test data (y_val): ', y_val[:50])\n",
    "print('50 entries from predicted data (y_pred): ', y_pred[:50].round())"
   ]
  },
  {
   "cell_type": "markdown",
   "metadata": {},
   "source": [
    "Additionally, once again,  we want to use sklearn's classification report, as well as the plot_confusion_matrix function in order to print the confusion matrix."
   ]
  },
  {
   "cell_type": "code",
   "execution_count": 24,
   "metadata": {
    "pycharm": {
     "is_executing": false,
     "name": "#%%\n"
    }
   },
   "outputs": [
    {
     "name": "stdout",
     "output_type": "stream",
     "text": [
      "                       precision    recall  f1-score   support\n",
      "\n",
      "class 0 - No Diabetes       0.80      0.88      0.84        99\n",
      "   class 1 - Diabetes       0.73      0.60      0.66        55\n",
      "\n",
      "             accuracy                           0.78       154\n",
      "            macro avg       0.77      0.74      0.75       154\n",
      "         weighted avg       0.78      0.78      0.77       154\n",
      "\n",
      "Normalized confusion matrix\n"
     ]
    },
    {
     "data": {
      "image/png": "[encoded data removed]",
      "text/plain": [
       "<Figure size 432x288 with 2 Axes>"
      ]
     },
     "metadata": {
      "needs_background": "light"
     },
     "output_type": "display_data"
    }
   ],
   "source": [
    "# 20. Call sklearn's classification report\n",
    "print(classification_report(y_val, y_pred.round(), target_names=target_names))\n",
    "\n",
    "# 21. Call plot_confusion_matrix to paint the confusion matrix - For your orientation: your model should reach an average recall (macro) of > 0.75\n",
    "plot_confusion_matrix(y_val, y_pred.round(), classes = target_names)"
   ]
  },
  {
   "cell_type": "markdown",
   "metadata": {},
   "source": [
    "## 8. So?\n",
    "\n",
    "Compare the performance scores and confusion matrices of both models, and write down some of your observations:"
   ]
  },
  {
   "cell_type": "markdown",
   "metadata": {
    "pycharm": {
     "is_executing": false,
     "name": "#%%\n"
    }
   },
   "source": [
    "# 22. Leave some comments about how well both Classification Systems performed and which one you would prefer to use for a task like this.\n",
    "---\n",
    "## ANSWER\n",
    "Judging only by accuracy, neural networks performed better: 0,76 vs 0,71 (for SVM), also the F1 score is higher on neural networks side: 0,84 vs 0,76 (for SVM)\n",
    "\n",
    "But, since our main task is to detect ill people with diabetes, I would prefer <b>SVM model</b>, because its Recall is higher than the one from neural nets: 0,73 (SVM) vs 0,60 (NN). Recall is important for us because it is the fraction of the total amount of relevant instances that were actually retrieved. This means, that using SVM, we will more likely find ill people with Diabetes."
   ]
  },
  {
   "cell_type": "code",
   "execution_count": null,
   "metadata": {},
   "outputs": [],
   "source": []
  }
 ],
 "metadata": {
  "kernelspec": {
   "display_name": "Python 3",
   "language": "python",
   "name": "python3"
  },
  "language_info": {
   "codemirror_mode": {
    "name": "ipython",
    "version": 3
   },
   "file_extension": ".py",
   "mimetype": "text/x-python",
   "name": "python",
   "nbconvert_exporter": "python",
   "pygments_lexer": "ipython3",
   "version": "3.7.4"
  },
  "pycharm": {
   "stem_cell": {
    "cell_type": "raw",
    "metadata": {
     "collapsed": false
    },
    "source": []
   }
  }
 },
 "nbformat": 4,
 "nbformat_minor": 1
}
