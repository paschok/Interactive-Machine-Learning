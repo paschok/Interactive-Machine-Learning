{
  "nbformat": 4,
  "nbformat_minor": 0,
  "metadata": {
    "colab": {
      "name": "Keras-tuner-multi-3.ipynb",
      "provenance": [],
      "collapsed_sections": [],
      "toc_visible": true
    },
    "kernelspec": {
      "name": "python3",
      "display_name": "Python 3"
    },
    "accelerator": "GPU"
  },
  "cells": [
    {
      "cell_type": "markdown",
      "metadata": {
        "id": "xnY85mGJjqZs"
      },
      "source": [
        "@author: Pavlo Mospan"
      ]
    },
    {
      "cell_type": "code",
      "metadata": {
        "id": "2Bm84Jy3gjVn",
        "colab": {
          "base_uri": "https://localhost:8080/"
        },
        "outputId": "6f3c192d-ba79-4170-8d4b-6d8352ad3feb"
      },
      "source": [
        "!pip install keras-tuner\n",
        "!pip install yfinance\n",
        "\n",
        "import numpy as np\n",
        "import pandas as pd\n",
        "from tensorflow.keras.models import Sequential\n",
        "from tensorflow.keras.layers import LSTM,Dense,Dropout, Activation\n",
        "import tensorflow as tf\n",
        "from tensorflow.keras.optimizers import Adam\n",
        "import matplotlib.pyplot as plt\n",
        "from sklearn.model_selection import train_test_split\n",
        "from sklearn.preprocessing import MinMaxScaler\n",
        "from kerastuner import HyperModel\n",
        "from kerastuner.tuners import RandomSearch\n",
        "from tensorflow.keras.models import load_model\n",
        "import yfinance as yf\n",
        "from datetime import datetime, date, timedelta\n",
        "import pandas as pd\n",
        "from numpy import concatenate"
      ],
      "execution_count": 1,
      "outputs": [
        {
          "output_type": "stream",
          "text": [
            "Collecting keras-tuner\n",
            "\u001b[?25l  Downloading https://files.pythonhosted.org/packages/20/ec/1ef246787174b1e2bb591c95f29d3c1310070cad877824f907faba3dade9/keras-tuner-1.0.2.tar.gz (62kB)\n",
            "\r\u001b[K     |█████▏                          | 10kB 28.2MB/s eta 0:00:01\r\u001b[K     |██████████▍                     | 20kB 31.3MB/s eta 0:00:01\r\u001b[K     |███████████████▋                | 30kB 25.8MB/s eta 0:00:01\r\u001b[K     |████████████████████▉           | 40kB 29.4MB/s eta 0:00:01\r\u001b[K     |██████████████████████████      | 51kB 27.0MB/s eta 0:00:01\r\u001b[K     |███████████████████████████████▎| 61kB 22.1MB/s eta 0:00:01\r\u001b[K     |████████████████████████████████| 71kB 9.4MB/s \n",
            "\u001b[?25hRequirement already satisfied: packaging in /usr/local/lib/python3.6/dist-packages (from keras-tuner) (20.8)\n",
            "Requirement already satisfied: future in /usr/local/lib/python3.6/dist-packages (from keras-tuner) (0.16.0)\n",
            "Requirement already satisfied: numpy in /usr/local/lib/python3.6/dist-packages (from keras-tuner) (1.19.5)\n",
            "Requirement already satisfied: tabulate in /usr/local/lib/python3.6/dist-packages (from keras-tuner) (0.8.7)\n",
            "Collecting terminaltables\n",
            "  Downloading https://files.pythonhosted.org/packages/9b/c4/4a21174f32f8a7e1104798c445dacdc1d4df86f2f26722767034e4de4bff/terminaltables-3.1.0.tar.gz\n",
            "Collecting colorama\n",
            "  Downloading https://files.pythonhosted.org/packages/44/98/5b86278fbbf250d239ae0ecb724f8572af1c91f4a11edf4d36a206189440/colorama-0.4.4-py2.py3-none-any.whl\n",
            "Requirement already satisfied: tqdm in /usr/local/lib/python3.6/dist-packages (from keras-tuner) (4.41.1)\n",
            "Requirement already satisfied: requests in /usr/local/lib/python3.6/dist-packages (from keras-tuner) (2.23.0)\n",
            "Requirement already satisfied: scipy in /usr/local/lib/python3.6/dist-packages (from keras-tuner) (1.4.1)\n",
            "Requirement already satisfied: scikit-learn in /usr/local/lib/python3.6/dist-packages (from keras-tuner) (0.22.2.post1)\n",
            "Requirement already satisfied: pyparsing>=2.0.2 in /usr/local/lib/python3.6/dist-packages (from packaging->keras-tuner) (2.4.7)\n",
            "Requirement already satisfied: idna<3,>=2.5 in /usr/local/lib/python3.6/dist-packages (from requests->keras-tuner) (2.10)\n",
            "Requirement already satisfied: urllib3!=1.25.0,!=1.25.1,<1.26,>=1.21.1 in /usr/local/lib/python3.6/dist-packages (from requests->keras-tuner) (1.24.3)\n",
            "Requirement already satisfied: chardet<4,>=3.0.2 in /usr/local/lib/python3.6/dist-packages (from requests->keras-tuner) (3.0.4)\n",
            "Requirement already satisfied: certifi>=2017.4.17 in /usr/local/lib/python3.6/dist-packages (from requests->keras-tuner) (2020.12.5)\n",
            "Requirement already satisfied: joblib>=0.11 in /usr/local/lib/python3.6/dist-packages (from scikit-learn->keras-tuner) (1.0.0)\n",
            "Building wheels for collected packages: keras-tuner, terminaltables\n",
            "  Building wheel for keras-tuner (setup.py) ... \u001b[?25l\u001b[?25hdone\n",
            "  Created wheel for keras-tuner: filename=keras_tuner-1.0.2-cp36-none-any.whl size=78939 sha256=955ec75a42ed4580220e11fcb0c3b64fceea195b09dcf1e5bd96afb306ca937c\n",
            "  Stored in directory: /root/.cache/pip/wheels/bb/a1/8a/7c3de0efb3707a1701b36ebbfdbc4e67aedf6d4943a1f463d6\n",
            "  Building wheel for terminaltables (setup.py) ... \u001b[?25l\u001b[?25hdone\n",
            "  Created wheel for terminaltables: filename=terminaltables-3.1.0-cp36-none-any.whl size=15358 sha256=7960f7b462ca6da696ad850bbeabb2e6fadbe383912a9a8ae29650f47c1d4c99\n",
            "  Stored in directory: /root/.cache/pip/wheels/30/6b/50/6c75775b681fb36cdfac7f19799888ef9d8813aff9e379663e\n",
            "Successfully built keras-tuner terminaltables\n",
            "Installing collected packages: terminaltables, colorama, keras-tuner\n",
            "Successfully installed colorama-0.4.4 keras-tuner-1.0.2 terminaltables-3.1.0\n",
            "Collecting yfinance\n",
            "  Downloading https://files.pythonhosted.org/packages/7a/e8/b9d7104d3a4bf39924799067592d9e59119fcfc900a425a12e80a3123ec8/yfinance-0.1.55.tar.gz\n",
            "Requirement already satisfied: pandas>=0.24 in /usr/local/lib/python3.6/dist-packages (from yfinance) (1.1.5)\n",
            "Requirement already satisfied: numpy>=1.15 in /usr/local/lib/python3.6/dist-packages (from yfinance) (1.19.5)\n",
            "Requirement already satisfied: requests>=2.20 in /usr/local/lib/python3.6/dist-packages (from yfinance) (2.23.0)\n",
            "Requirement already satisfied: multitasking>=0.0.7 in /usr/local/lib/python3.6/dist-packages (from yfinance) (0.0.9)\n",
            "Collecting lxml>=4.5.1\n",
            "\u001b[?25l  Downloading https://files.pythonhosted.org/packages/bd/78/56a7c88a57d0d14945472535d0df9fb4bbad7d34ede658ec7961635c790e/lxml-4.6.2-cp36-cp36m-manylinux1_x86_64.whl (5.5MB)\n",
            "\u001b[K     |████████████████████████████████| 5.5MB 18.0MB/s \n",
            "\u001b[?25hRequirement already satisfied: python-dateutil>=2.7.3 in /usr/local/lib/python3.6/dist-packages (from pandas>=0.24->yfinance) (2.8.1)\n",
            "Requirement already satisfied: pytz>=2017.2 in /usr/local/lib/python3.6/dist-packages (from pandas>=0.24->yfinance) (2018.9)\n",
            "Requirement already satisfied: chardet<4,>=3.0.2 in /usr/local/lib/python3.6/dist-packages (from requests>=2.20->yfinance) (3.0.4)\n",
            "Requirement already satisfied: urllib3!=1.25.0,!=1.25.1,<1.26,>=1.21.1 in /usr/local/lib/python3.6/dist-packages (from requests>=2.20->yfinance) (1.24.3)\n",
            "Requirement already satisfied: certifi>=2017.4.17 in /usr/local/lib/python3.6/dist-packages (from requests>=2.20->yfinance) (2020.12.5)\n",
            "Requirement already satisfied: idna<3,>=2.5 in /usr/local/lib/python3.6/dist-packages (from requests>=2.20->yfinance) (2.10)\n",
            "Requirement already satisfied: six>=1.5 in /usr/local/lib/python3.6/dist-packages (from python-dateutil>=2.7.3->pandas>=0.24->yfinance) (1.15.0)\n",
            "Building wheels for collected packages: yfinance\n",
            "  Building wheel for yfinance (setup.py) ... \u001b[?25l\u001b[?25hdone\n",
            "  Created wheel for yfinance: filename=yfinance-0.1.55-py2.py3-none-any.whl size=22616 sha256=8f8eab1c6c690e1909d9a28d1a26ab087ac9d0e01db409630d467ac4521c86ba\n",
            "  Stored in directory: /root/.cache/pip/wheels/04/98/cc/2702a4242d60bdc14f48b4557c427ded1fe92aedf257d4565c\n",
            "Successfully built yfinance\n",
            "Installing collected packages: lxml, yfinance\n",
            "  Found existing installation: lxml 4.2.6\n",
            "    Uninstalling lxml-4.2.6:\n",
            "      Successfully uninstalled lxml-4.2.6\n",
            "Successfully installed lxml-4.6.2 yfinance-0.1.55\n"
          ],
          "name": "stdout"
        }
      ]
    },
    {
      "cell_type": "code",
      "metadata": {
        "colab": {
          "base_uri": "https://localhost:8080/"
        },
        "id": "40kP6K0J0Wct",
        "outputId": "63e674f3-1d0c-4ff3-e7f8-23f8f8c7a52a"
      },
      "source": [
        "from google.colab import drive\n",
        "drive.mount('/content/gdrive')"
      ],
      "execution_count": null,
      "outputs": [
        {
          "output_type": "stream",
          "text": [
            "Mounted at /content/gdrive\n"
          ],
          "name": "stdout"
        }
      ]
    },
    {
      "cell_type": "markdown",
      "metadata": {
        "id": "Vd97WtyPjjNb"
      },
      "source": [
        "## Data\n"
      ]
    },
    {
      "cell_type": "code",
      "metadata": {
        "colab": {
          "base_uri": "https://localhost:8080/",
          "height": 487
        },
        "id": "Ag2uDDQ8gjjk",
        "outputId": "7308c2c9-7f77-42b8-dbb9-3be5d3a95147"
      },
      "source": [
        "today = datetime.today().strftime('%Y-%m-%d')\n",
        "start_date = '2015-08-07'\n",
        "idx = pd.date_range(start_date, today)\n",
        "\n",
        "df_A = yf.download(\"BTC-USD\", start=start_date, end=today)\n",
        "df_A = df_A[\"Close\"]\n",
        "df_A = df_A.reindex(idx, fill_value=0, method=\"nearest\")\n",
        "\n",
        "# The S&P 500 - stock market index that measures the stock performance of 500 large companies listed on stock exchanges in the US. \n",
        "df_B = yf.download(\"%5EGSPC\", start=start_date, end=today)\n",
        "df_B = df_B[\"Close\"]\n",
        "df_B = df_B.reindex(idx, fill_value=0, method=\"nearest\")\n",
        "\n",
        "# US Dollar/USDX - Index - Cash\n",
        "df_C = yf.download(\"DX-Y.NYB\", start=start_date, end=today)\n",
        "df_C = df_C[\"Close\"]\n",
        "df_C = df_C.reindex(idx, fill_value=0, method=\"nearest\")\n",
        "\n",
        "# Gold\n",
        "df_D = yf.download(\"GC=F\", start=start_date, end=today)\n",
        "df_D = df_D[\"Close\"]\n",
        "df_D = df_D.reindex(idx, fill_value=0, method=\"nearest\")\n",
        "\n",
        "timeseries=  pd.concat([df_A, df_B, df_C, df_D], axis=1)\n",
        "\n",
        "timeseries.columns=([\"Close-btc\", \"Close-sp500\", \"Close-dxy\", \"Close-gold\"])\n",
        "timeseries"
      ],
      "execution_count": 2,
      "outputs": [
        {
          "output_type": "stream",
          "text": [
            "[*********************100%***********************]  1 of 1 completed\n",
            "[*********************100%***********************]  1 of 1 completed\n",
            "[*********************100%***********************]  1 of 1 completed\n",
            "[*********************100%***********************]  1 of 1 completed\n"
          ],
          "name": "stdout"
        },
        {
          "output_type": "execute_result",
          "data": {
            "text/html": [
              "<div>\n",
              "<style scoped>\n",
              "    .dataframe tbody tr th:only-of-type {\n",
              "        vertical-align: middle;\n",
              "    }\n",
              "\n",
              "    .dataframe tbody tr th {\n",
              "        vertical-align: top;\n",
              "    }\n",
              "\n",
              "    .dataframe thead th {\n",
              "        text-align: right;\n",
              "    }\n",
              "</style>\n",
              "<table border=\"1\" class=\"dataframe\">\n",
              "  <thead>\n",
              "    <tr style=\"text-align: right;\">\n",
              "      <th></th>\n",
              "      <th>Close-btc</th>\n",
              "      <th>Close-sp500</th>\n",
              "      <th>Close-dxy</th>\n",
              "      <th>Close-gold</th>\n",
              "    </tr>\n",
              "  </thead>\n",
              "  <tbody>\n",
              "    <tr>\n",
              "      <th>2015-08-07</th>\n",
              "      <td>279.584991</td>\n",
              "      <td>2077.570068</td>\n",
              "      <td>97.559998</td>\n",
              "      <td>1094.099976</td>\n",
              "    </tr>\n",
              "    <tr>\n",
              "      <th>2015-08-08</th>\n",
              "      <td>260.997009</td>\n",
              "      <td>2077.570068</td>\n",
              "      <td>97.559998</td>\n",
              "      <td>1094.099976</td>\n",
              "    </tr>\n",
              "    <tr>\n",
              "      <th>2015-08-09</th>\n",
              "      <td>265.083008</td>\n",
              "      <td>2104.179932</td>\n",
              "      <td>97.160004</td>\n",
              "      <td>1104.199951</td>\n",
              "    </tr>\n",
              "    <tr>\n",
              "      <th>2015-08-10</th>\n",
              "      <td>264.470001</td>\n",
              "      <td>2104.179932</td>\n",
              "      <td>97.160004</td>\n",
              "      <td>1104.199951</td>\n",
              "    </tr>\n",
              "    <tr>\n",
              "      <th>2015-08-11</th>\n",
              "      <td>270.385986</td>\n",
              "      <td>2084.070068</td>\n",
              "      <td>97.290001</td>\n",
              "      <td>1107.599976</td>\n",
              "    </tr>\n",
              "    <tr>\n",
              "      <th>...</th>\n",
              "      <td>...</td>\n",
              "      <td>...</td>\n",
              "      <td>...</td>\n",
              "      <td>...</td>\n",
              "    </tr>\n",
              "    <tr>\n",
              "      <th>2021-01-22</th>\n",
              "      <td>36069.804688</td>\n",
              "      <td>3841.469971</td>\n",
              "      <td>90.239998</td>\n",
              "      <td>1855.699951</td>\n",
              "    </tr>\n",
              "    <tr>\n",
              "      <th>2021-01-23</th>\n",
              "      <td>32185.724609</td>\n",
              "      <td>3841.469971</td>\n",
              "      <td>90.239998</td>\n",
              "      <td>1855.699951</td>\n",
              "    </tr>\n",
              "    <tr>\n",
              "      <th>2021-01-24</th>\n",
              "      <td>32185.724609</td>\n",
              "      <td>3855.360107</td>\n",
              "      <td>90.389999</td>\n",
              "      <td>1854.900024</td>\n",
              "    </tr>\n",
              "    <tr>\n",
              "      <th>2021-01-25</th>\n",
              "      <td>32185.724609</td>\n",
              "      <td>3855.360107</td>\n",
              "      <td>90.389999</td>\n",
              "      <td>1854.900024</td>\n",
              "    </tr>\n",
              "    <tr>\n",
              "      <th>2021-01-26</th>\n",
              "      <td>32185.724609</td>\n",
              "      <td>3855.360107</td>\n",
              "      <td>90.389999</td>\n",
              "      <td>1854.900024</td>\n",
              "    </tr>\n",
              "  </tbody>\n",
              "</table>\n",
              "<p>2000 rows × 4 columns</p>\n",
              "</div>"
            ],
            "text/plain": [
              "               Close-btc  Close-sp500  Close-dxy   Close-gold\n",
              "2015-08-07    279.584991  2077.570068  97.559998  1094.099976\n",
              "2015-08-08    260.997009  2077.570068  97.559998  1094.099976\n",
              "2015-08-09    265.083008  2104.179932  97.160004  1104.199951\n",
              "2015-08-10    264.470001  2104.179932  97.160004  1104.199951\n",
              "2015-08-11    270.385986  2084.070068  97.290001  1107.599976\n",
              "...                  ...          ...        ...          ...\n",
              "2021-01-22  36069.804688  3841.469971  90.239998  1855.699951\n",
              "2021-01-23  32185.724609  3841.469971  90.239998  1855.699951\n",
              "2021-01-24  32185.724609  3855.360107  90.389999  1854.900024\n",
              "2021-01-25  32185.724609  3855.360107  90.389999  1854.900024\n",
              "2021-01-26  32185.724609  3855.360107  90.389999  1854.900024\n",
              "\n",
              "[2000 rows x 4 columns]"
            ]
          },
          "metadata": {
            "tags": []
          },
          "execution_count": 2
        }
      ]
    },
    {
      "cell_type": "code",
      "metadata": {
        "id": "E1y3FduOkqBz",
        "colab": {
          "base_uri": "https://localhost:8080/",
          "height": 419
        },
        "outputId": "87f29df7-6189-4043-baf3-09efed631cd6"
      },
      "source": [
        "scl = MinMaxScaler()\n",
        "\n",
        "timeseries[[\"Close-btc\", \"Close-sp500\", \"Close-dxy\", \"Close-gold\"]] = scl.fit_transform(timeseries[[\"Close-btc\", \"Close-sp500\", \"Close-dxy\", \"Close-gold\"]])\n",
        "\n",
        "timeseries[\"Close-btc-output\"] = timeseries[\"Close-btc\"]\n",
        "timeseries[\"Close-btc-output\"] = timeseries[\"Close-btc-output\"].shift(-1)\n",
        "#timeseries.drop(timeseries.tail(1).index, inplace=True)\n",
        "timeseries.loc[today, 'Close-btc-output']\n",
        "timeseries"
      ],
      "execution_count": 3,
      "outputs": [
        {
          "output_type": "execute_result",
          "data": {
            "text/html": [
              "<div>\n",
              "<style scoped>\n",
              "    .dataframe tbody tr th:only-of-type {\n",
              "        vertical-align: middle;\n",
              "    }\n",
              "\n",
              "    .dataframe tbody tr th {\n",
              "        vertical-align: top;\n",
              "    }\n",
              "\n",
              "    .dataframe thead th {\n",
              "        text-align: right;\n",
              "    }\n",
              "</style>\n",
              "<table border=\"1\" class=\"dataframe\">\n",
              "  <thead>\n",
              "    <tr style=\"text-align: right;\">\n",
              "      <th></th>\n",
              "      <th>Close-btc</th>\n",
              "      <th>Close-sp500</th>\n",
              "      <th>Close-dxy</th>\n",
              "      <th>Close-gold</th>\n",
              "      <th>Close-btc-output</th>\n",
              "    </tr>\n",
              "  </thead>\n",
              "  <tbody>\n",
              "    <tr>\n",
              "      <th>2015-08-07</th>\n",
              "      <td>0.001702</td>\n",
              "      <td>0.122634</td>\n",
              "      <td>0.610204</td>\n",
              "      <td>0.043270</td>\n",
              "      <td>0.001244</td>\n",
              "    </tr>\n",
              "    <tr>\n",
              "      <th>2015-08-08</th>\n",
              "      <td>0.001244</td>\n",
              "      <td>0.122634</td>\n",
              "      <td>0.610204</td>\n",
              "      <td>0.043270</td>\n",
              "      <td>0.001345</td>\n",
              "    </tr>\n",
              "    <tr>\n",
              "      <th>2015-08-09</th>\n",
              "      <td>0.001345</td>\n",
              "      <td>0.135766</td>\n",
              "      <td>0.582994</td>\n",
              "      <td>0.053363</td>\n",
              "      <td>0.001330</td>\n",
              "    </tr>\n",
              "    <tr>\n",
              "      <th>2015-08-10</th>\n",
              "      <td>0.001330</td>\n",
              "      <td>0.135766</td>\n",
              "      <td>0.582994</td>\n",
              "      <td>0.053363</td>\n",
              "      <td>0.001476</td>\n",
              "    </tr>\n",
              "    <tr>\n",
              "      <th>2015-08-11</th>\n",
              "      <td>0.001476</td>\n",
              "      <td>0.125841</td>\n",
              "      <td>0.591837</td>\n",
              "      <td>0.056760</td>\n",
              "      <td>0.001377</td>\n",
              "    </tr>\n",
              "    <tr>\n",
              "      <th>...</th>\n",
              "      <td>...</td>\n",
              "      <td>...</td>\n",
              "      <td>...</td>\n",
              "      <td>...</td>\n",
              "      <td>...</td>\n",
              "    </tr>\n",
              "    <tr>\n",
              "      <th>2021-01-22</th>\n",
              "      <td>0.883515</td>\n",
              "      <td>0.993145</td>\n",
              "      <td>0.112245</td>\n",
              "      <td>0.804337</td>\n",
              "      <td>0.787817</td>\n",
              "    </tr>\n",
              "    <tr>\n",
              "      <th>2021-01-23</th>\n",
              "      <td>0.787817</td>\n",
              "      <td>0.993145</td>\n",
              "      <td>0.112245</td>\n",
              "      <td>0.804337</td>\n",
              "      <td>0.787817</td>\n",
              "    </tr>\n",
              "    <tr>\n",
              "      <th>2021-01-24</th>\n",
              "      <td>0.787817</td>\n",
              "      <td>1.000000</td>\n",
              "      <td>0.122449</td>\n",
              "      <td>0.803538</td>\n",
              "      <td>0.787817</td>\n",
              "    </tr>\n",
              "    <tr>\n",
              "      <th>2021-01-25</th>\n",
              "      <td>0.787817</td>\n",
              "      <td>1.000000</td>\n",
              "      <td>0.122449</td>\n",
              "      <td>0.803538</td>\n",
              "      <td>0.787817</td>\n",
              "    </tr>\n",
              "    <tr>\n",
              "      <th>2021-01-26</th>\n",
              "      <td>0.787817</td>\n",
              "      <td>1.000000</td>\n",
              "      <td>0.122449</td>\n",
              "      <td>0.803538</td>\n",
              "      <td>NaN</td>\n",
              "    </tr>\n",
              "  </tbody>\n",
              "</table>\n",
              "<p>2000 rows × 5 columns</p>\n",
              "</div>"
            ],
            "text/plain": [
              "            Close-btc  Close-sp500  Close-dxy  Close-gold  Close-btc-output\n",
              "2015-08-07   0.001702     0.122634   0.610204    0.043270          0.001244\n",
              "2015-08-08   0.001244     0.122634   0.610204    0.043270          0.001345\n",
              "2015-08-09   0.001345     0.135766   0.582994    0.053363          0.001330\n",
              "2015-08-10   0.001330     0.135766   0.582994    0.053363          0.001476\n",
              "2015-08-11   0.001476     0.125841   0.591837    0.056760          0.001377\n",
              "...               ...          ...        ...         ...               ...\n",
              "2021-01-22   0.883515     0.993145   0.112245    0.804337          0.787817\n",
              "2021-01-23   0.787817     0.993145   0.112245    0.804337          0.787817\n",
              "2021-01-24   0.787817     1.000000   0.122449    0.803538          0.787817\n",
              "2021-01-25   0.787817     1.000000   0.122449    0.803538          0.787817\n",
              "2021-01-26   0.787817     1.000000   0.122449    0.803538               NaN\n",
              "\n",
              "[2000 rows x 5 columns]"
            ]
          },
          "metadata": {
            "tags": []
          },
          "execution_count": 3
        }
      ]
    },
    {
      "cell_type": "markdown",
      "metadata": {
        "id": "HFIuD-O28Ia7"
      },
      "source": [
        "#### Filling today's **Close-btc-output** value with yesterday value. This is needed for later proper prediction"
      ]
    },
    {
      "cell_type": "code",
      "metadata": {
        "id": "vIraL6ByOPLW",
        "colab": {
          "base_uri": "https://localhost:8080/"
        },
        "outputId": "4c2362de-8914-4120-a839-f43ba18f04b5"
      },
      "source": [
        "yesterday = date.today() - timedelta(days=1)\n",
        "yesterday = yesterday.strftime('%Y-%m-%d')\n",
        "\n",
        "timeseries.loc[today, 'Close-btc-output'] = timeseries.loc[yesterday, 'Close-btc-output']\n",
        "timeseries\n",
        "print(timeseries)\n",
        "array = timeseries.values\n",
        "print(array)"
      ],
      "execution_count": 4,
      "outputs": [
        {
          "output_type": "stream",
          "text": [
            "            Close-btc  Close-sp500  Close-dxy  Close-gold  Close-btc-output\n",
            "2015-08-07   0.001702     0.122634   0.610204    0.043270          0.001244\n",
            "2015-08-08   0.001244     0.122634   0.610204    0.043270          0.001345\n",
            "2015-08-09   0.001345     0.135766   0.582994    0.053363          0.001330\n",
            "2015-08-10   0.001330     0.135766   0.582994    0.053363          0.001476\n",
            "2015-08-11   0.001476     0.125841   0.591837    0.056760          0.001377\n",
            "...               ...          ...        ...         ...               ...\n",
            "2021-01-22   0.883515     0.993145   0.112245    0.804337          0.787817\n",
            "2021-01-23   0.787817     0.993145   0.112245    0.804337          0.787817\n",
            "2021-01-24   0.787817     1.000000   0.122449    0.803538          0.787817\n",
            "2021-01-25   0.787817     1.000000   0.122449    0.803538          0.787817\n",
            "2021-01-26   0.787817     1.000000   0.122449    0.803538          0.787817\n",
            "\n",
            "[2000 rows x 5 columns]\n",
            "[[0.00170226 0.12263364 0.61020397 0.04326964 0.00124429]\n",
            " [0.00124429 0.12263364 0.61020397 0.04326964 0.00134496]\n",
            " [0.00134496 0.13576601 0.58299351 0.05336255 0.00132986]\n",
            " ...\n",
            " [0.78781727 1.         0.12244915 0.80353754 0.78781727]\n",
            " [0.78781727 1.         0.12244915 0.80353754 0.78781727]\n",
            " [0.78781727 1.         0.12244915 0.80353754 0.78781727]]\n"
          ],
          "name": "stdout"
        }
      ]
    },
    {
      "cell_type": "code",
      "metadata": {
        "colab": {
          "base_uri": "https://localhost:8080/"
        },
        "id": "vZM-NX8Bk8Kh",
        "outputId": "805a038b-1941-4e23-b2ae-f0d45ee0526b"
      },
      "source": [
        "#number of days to take in a row before Y\n",
        "X_quantity = 3  \n",
        "mod = len(array) % X_quantity\n",
        "\n",
        "# how many predictions to make\n",
        "times = 7\n",
        "\n",
        "# deleting first-mod values to have /mod-zero array\n",
        "for i_ in range(mod):\n",
        "  array = np.delete(array, 0, 0)\n",
        "\n",
        "# for splitting into train/test\n",
        "division = X_quantity * times\n",
        "split = len(array) - division\n",
        "print('Division: ', division, 'Split is on: ', split)\n",
        "\n",
        "predict = array[split:]\n",
        "train = array[:split]"
      ],
      "execution_count": 5,
      "outputs": [
        {
          "output_type": "stream",
          "text": [
            "Division:  21 Split is on:  1977\n"
          ],
          "name": "stdout"
        }
      ]
    },
    {
      "cell_type": "code",
      "metadata": {
        "id": "zoa3PtiDFPTC"
      },
      "source": [
        "def get_X_values(values):\n",
        "  x = []\n",
        "  ready_X = []\n",
        "  COUNT = 1\n",
        "  for i_ in values:\n",
        "    x.extend(i_)\n",
        "    if COUNT % X_quantity == 0:\n",
        "      ready_X.append(x)\n",
        "      x = []\n",
        "\n",
        "    COUNT += 1\n",
        "\n",
        "  ready_X = np.array(ready_X)\n",
        "  return ready_X\n",
        "\n",
        "def get_Y_targets(targets):\n",
        "  ready_Y = []\n",
        "  for i_ in range(int(len(targets) / X_quantity)):\n",
        "    i_ += 1\n",
        "    ready_Y.append(targets[i_ * X_quantity -1])\n",
        "\n",
        "  ready_Y = np.array(ready_Y)\n",
        "  return ready_Y"
      ],
      "execution_count": 6,
      "outputs": []
    },
    {
      "cell_type": "code",
      "metadata": {
        "colab": {
          "base_uri": "https://localhost:8080/"
        },
        "id": "ErOUrPYQk8QS",
        "outputId": "b6141ee2-81d0-422a-9028-b8390765b79f"
      },
      "source": [
        "predict_values = predict[:, :-1]\n",
        "predict_target = predict[:, -1]\n",
        "\n",
        "print('predict_values.shape: {} | predict_target.shape: {}'.format(predict_values.shape, predict_target.shape))\n",
        "\n",
        "predict_X = get_X_values(predict_values)\n",
        "print('\\n predict_X type: {} \\n predict_X.shape: {} \\n predict_X: \\n{}'.format(type(predict_X), predict_X.shape, predict_X))\n",
        "\n",
        "predict_Y = get_Y_targets(predict_target)\n",
        "print('\\nPred Y: {}'.format(predict_Y))"
      ],
      "execution_count": 7,
      "outputs": [
        {
          "output_type": "stream",
          "text": [
            "predict_values.shape: (21, 4) | predict_target.shape: (21,)\n",
            "\n",
            " predict_X type: <class 'numpy.ndarray'> \n",
            " predict_X.shape: (7, 12) \n",
            " predict_X: \n",
            "[[0.90210573 0.9470852  0.06394572 0.85550117 0.96485174 0.97454939\n",
            "  0.08435409 0.86089741 1.         0.98485887 0.10068047 0.78275204]\n",
            " [0.98661983 0.98485887 0.10068047 0.78275204 0.93985362 0.97248653\n",
            "  0.13265333 0.7982412  0.87111789 0.97248653 0.13265333 0.7982412 ]\n",
            " [0.83061993 0.9732662  0.09932015 0.79154593 0.9142277  0.97753518\n",
            "  0.11768727 0.8022384  0.96032531 0.97047789 0.11224497 0.79894078]\n",
            " [0.90213046 0.95700984 0.14897971 0.77795547 0.88618386 0.95700984\n",
            "  0.14897971 0.77795547 0.87665218 0.97214097 0.12993218 0.78814829]\n",
            " [0.89731876 0.97214097 0.12993218 0.78814829 0.88351464 0.97214097\n",
            "  0.12993218 0.78814829 0.88351464 0.99826776 0.12789145 0.81452984]\n",
            " [0.88351464 0.99886983 0.10476193 0.81393029 0.88351464 0.99314501\n",
            "  0.11224497 0.80433691 0.78781727 0.99314501 0.11224497 0.80433691]\n",
            " [0.78781727 1.         0.12244915 0.80353754 0.78781727 1.\n",
            "  0.12244915 0.80353754 0.78781727 1.         0.12244915 0.80353754]]\n",
            "\n",
            "Pred Y: [0.98661983 0.83061993 0.90213046 0.89731876 0.88351464 0.78781727\n",
            " 0.78781727]\n"
          ],
          "name": "stdout"
        }
      ]
    },
    {
      "cell_type": "code",
      "metadata": {
        "colab": {
          "base_uri": "https://localhost:8080/"
        },
        "id": "fu-cMehW9qly",
        "outputId": "ebe32c25-1951-4d92-d957-9543006e8c1c"
      },
      "source": [
        "train_values = train[:, :-1]\n",
        "train_target = train[:, -1]\n",
        "\n",
        "print('train_values.shape: {} | train_target.shape : {}'.format(train_values.shape, train_target.shape))\n",
        "\n",
        "train_X = get_X_values(train_values)\n",
        "print('\\n type of train_X: {} \\n train_X.shape: {} \\n train_X: \\n {}'.format(type(train_X), train_X.shape, train_X))\n",
        "\n",
        "train_Y = get_Y_targets(train_target)\n",
        "print('\\n len(train_Y) : {} '.format(len(train_Y)))"
      ],
      "execution_count": 8,
      "outputs": [
        {
          "output_type": "stream",
          "text": [
            "train_values.shape: (1977, 4) | train_target.shape : (1977,)\n",
            "\n",
            " type of train_X: <class 'numpy.ndarray'> \n",
            " train_X.shape: (659, 12) \n",
            " train_X: \n",
            " [[0.00134496 0.13576601 0.58299351 ... 0.12584149 0.59183686 0.0567602 ]\n",
            " [0.00137682 0.12681864 0.52176894 ... 0.12952803 0.5428572  0.06205654]\n",
            " [0.00125794 0.12952803 0.5428572  ... 0.1349073  0.559864   0.0677525 ]\n",
            " ...\n",
            " [0.66213906 0.94077818 0.11904758 ... 0.93913968 0.07074834 0.83961226]\n",
            " [0.70936863 0.95099886 0.09183712 ... 0.92364817 0.08775514 0.89327465]\n",
            " [0.8025091  0.92364817 0.08775514 ... 0.9365833  0.05782353 0.90126906]]\n",
            "\n",
            " len(train_Y) : 659 \n"
          ],
          "name": "stdout"
        }
      ]
    },
    {
      "cell_type": "code",
      "metadata": {
        "id": "VHBda7e7Lo4V",
        "colab": {
          "base_uri": "https://localhost:8080/"
        },
        "outputId": "aa99faf6-ee00-4a00-8355-295c04c6c752"
      },
      "source": [
        "#splitting into Train and Test\n",
        "\n",
        "# reshape input to be 3D [samples, timesteps, features]\n",
        "train_X = train_X.reshape((train_X.shape[0], 1, train_X.shape[1]))\n",
        "predict_X = predict_X.reshape((predict_X.shape[0], 1, predict_X.shape[1]))\n",
        "\n",
        "X_train, X_validate, Y_train, Y_validate = train_test_split(train_X, train_Y, test_size=0.20, random_state=42)\n",
        "\n",
        "print('X_train.shape: {} |  Y_train: {}'.format( X_train.shape, Y_train.shape))"
      ],
      "execution_count": 9,
      "outputs": [
        {
          "output_type": "stream",
          "text": [
            "X_train.shape: (527, 1, 12) |  Y_train: (527,)\n"
          ],
          "name": "stdout"
        }
      ]
    },
    {
      "cell_type": "code",
      "metadata": {
        "id": "lP0-AIHSRhox",
        "colab": {
          "base_uri": "https://localhost:8080/"
        },
        "outputId": "b33423aa-a292-4cfd-a112-82de66dd6571"
      },
      "source": [
        "forward_days=1\n",
        "\n",
        "predict_X, predict_X.shape"
      ],
      "execution_count": 10,
      "outputs": [
        {
          "output_type": "execute_result",
          "data": {
            "text/plain": [
              "(array([[[0.90210573, 0.9470852 , 0.06394572, 0.85550117, 0.96485174,\n",
              "          0.97454939, 0.08435409, 0.86089741, 1.        , 0.98485887,\n",
              "          0.10068047, 0.78275204]],\n",
              " \n",
              "        [[0.98661983, 0.98485887, 0.10068047, 0.78275204, 0.93985362,\n",
              "          0.97248653, 0.13265333, 0.7982412 , 0.87111789, 0.97248653,\n",
              "          0.13265333, 0.7982412 ]],\n",
              " \n",
              "        [[0.83061993, 0.9732662 , 0.09932015, 0.79154593, 0.9142277 ,\n",
              "          0.97753518, 0.11768727, 0.8022384 , 0.96032531, 0.97047789,\n",
              "          0.11224497, 0.79894078]],\n",
              " \n",
              "        [[0.90213046, 0.95700984, 0.14897971, 0.77795547, 0.88618386,\n",
              "          0.95700984, 0.14897971, 0.77795547, 0.87665218, 0.97214097,\n",
              "          0.12993218, 0.78814829]],\n",
              " \n",
              "        [[0.89731876, 0.97214097, 0.12993218, 0.78814829, 0.88351464,\n",
              "          0.97214097, 0.12993218, 0.78814829, 0.88351464, 0.99826776,\n",
              "          0.12789145, 0.81452984]],\n",
              " \n",
              "        [[0.88351464, 0.99886983, 0.10476193, 0.81393029, 0.88351464,\n",
              "          0.99314501, 0.11224497, 0.80433691, 0.78781727, 0.99314501,\n",
              "          0.11224497, 0.80433691]],\n",
              " \n",
              "        [[0.78781727, 1.        , 0.12244915, 0.80353754, 0.78781727,\n",
              "          1.        , 0.12244915, 0.80353754, 0.78781727, 1.        ,\n",
              "          0.12244915, 0.80353754]]]), (7, 1, 12))"
            ]
          },
          "metadata": {
            "tags": []
          },
          "execution_count": 10
        }
      ]
    },
    {
      "cell_type": "markdown",
      "metadata": {
        "id": "t97C1Hng4BOR"
      },
      "source": [
        "#### Training The Model"
      ]
    },
    {
      "cell_type": "code",
      "metadata": {
        "id": "adBu4L63l1a4"
      },
      "source": [
        "#Training the model\n",
        "\n",
        "class MyHyperModel(HyperModel):\n",
        "\n",
        "    def __init__(self, num_classes):\n",
        "        self.num_classes = num_classes\n",
        "\n",
        "    def build(self, hp):\n",
        "        \n",
        "        # Specify model\n",
        "        model = Sequential()\n",
        "        NUM_NEURONS_FirstLayer = hp.Choice('NUM_NEURONS_FirstLayer',values=[80, 90, 100, 120])\n",
        "\n",
        "        model.add(LSTM(NUM_NEURONS_FirstLayer,input_shape=(X_train.shape[1],X_train.shape[2]), return_sequences=True))\n",
        "\n",
        "        model.add(Dropout(hp.Float('dropout_1', 0, 0.4, step=0.1, default=0)))\n",
        "\n",
        "        \n",
        "        NUM_NEURONS_SecondLayer = hp.Choice('NUM_NEURONS_SecondLayer',values=[30, 40, 50, 60, 70])\n",
        "        model.add(LSTM(NUM_NEURONS_SecondLayer,input_shape=(NUM_NEURONS_FirstLayer,1)))\n",
        "\n",
        "        model.add(Dropout(hp.Float('dropout_2', 0, 0.4, step=0.1, default=0)))\n",
        "\n",
        "        # Output layer\n",
        "        model.add(Dense(forward_days, activation='linear'))\n",
        "\n",
        "        # Compile the constructed model and return it\n",
        "        model.compile(\n",
        "            optimizer=Adam(\n",
        "                hp.Choice('learning_rate',\n",
        "                          values=[0.01, 0.001, 0.0001])),\n",
        "            loss='mean_squared_error')\n",
        "\n",
        "        return model"
      ],
      "execution_count": 11,
      "outputs": []
    },
    {
      "cell_type": "code",
      "metadata": {
        "id": "mzMo6wkWl1ez",
        "colab": {
          "base_uri": "https://localhost:8080/"
        },
        "outputId": "d420db16-1e26-46c6-9e4e-14b8d740117f"
      },
      "source": [
        "hypermodel = MyHyperModel(num_classes=1)    \n",
        "\n",
        "# Construct the RandomSearch tuner\n",
        "random_tuner = RandomSearch(\n",
        "    hypermodel,\n",
        "    objective='val_loss',\n",
        "    max_trials=100,\n",
        "    executions_per_trial = 1,\n",
        "    seed=10, \n",
        "    project_name='lstm-kerastuner-multi',\n",
        "    directory=\"/content\")\n",
        "\n",
        "# Search for the best parameters of the neural network using the contructed random search tuner\n",
        "random_tuner.search(X_train, Y_train,\n",
        "             epochs=100,\n",
        "             validation_data=(X_validate, Y_validate))\n",
        "\n",
        "#get the best model\n",
        "\n",
        "random_params = random_tuner.get_best_hyperparameters()[0]\n",
        "best_model = random_tuner.get_best_models(1)[0]"
      ],
      "execution_count": 12,
      "outputs": [
        {
          "output_type": "stream",
          "text": [
            "Trial 100 Complete [00h 00m 15s]\n",
            "val_loss: 0.0001041246359818615\n",
            "\n",
            "Best val_loss So Far: 8.042524132179096e-05\n",
            "Total elapsed time: 00h 25m 24s\n",
            "INFO:tensorflow:Oracle triggered exit\n"
          ],
          "name": "stdout"
        }
      ]
    },
    {
      "cell_type": "code",
      "metadata": {
        "colab": {
          "base_uri": "https://localhost:8080/"
        },
        "id": "bj47vaEWl1iQ",
        "outputId": "8632fff3-d6f8-407c-a6c4-05dd9386b164"
      },
      "source": [
        "best_model.summary()"
      ],
      "execution_count": 13,
      "outputs": [
        {
          "output_type": "stream",
          "text": [
            "Model: \"sequential\"\n",
            "_________________________________________________________________\n",
            "Layer (type)                 Output Shape              Param #   \n",
            "=================================================================\n",
            "lstm (LSTM)                  (None, 1, 90)             37080     \n",
            "_________________________________________________________________\n",
            "dropout (Dropout)            (None, 1, 90)             0         \n",
            "_________________________________________________________________\n",
            "lstm_1 (LSTM)                (None, 40)                20960     \n",
            "_________________________________________________________________\n",
            "dropout_1 (Dropout)          (None, 40)                0         \n",
            "_________________________________________________________________\n",
            "dense (Dense)                (None, 1)                 41        \n",
            "=================================================================\n",
            "Total params: 58,081\n",
            "Trainable params: 58,081\n",
            "Non-trainable params: 0\n",
            "_________________________________________________________________\n"
          ],
          "name": "stdout"
        }
      ]
    },
    {
      "cell_type": "markdown",
      "metadata": {
        "id": "S1-s2Khtcnix"
      },
      "source": [
        "#### Saving the model"
      ]
    },
    {
      "cell_type": "code",
      "metadata": {
        "colab": {
          "base_uri": "https://localhost:8080/"
        },
        "id": "nEsMycidlSxt",
        "outputId": "da19e7a4-5c34-461e-89a5-06c8d5bb59a4"
      },
      "source": [
        "#Saving the model\n",
        "\n",
        "file_name = 'LSTM_MULTI-3.h5'\n",
        "best_model.save(file_name)\n",
        "print(\"Saved model `{}` to disk\".format(file_name))"
      ],
      "execution_count": 14,
      "outputs": [
        {
          "output_type": "stream",
          "text": [
            "Saved model `LSTM_MULTI-3.h5` to disk\n"
          ],
          "name": "stdout"
        }
      ]
    },
    {
      "cell_type": "markdown",
      "metadata": {
        "id": "UlXJYmQjYp_I"
      },
      "source": [
        "#### Loading model fron **/content** or **gdrive** and predicting"
      ]
    },
    {
      "cell_type": "code",
      "metadata": {
        "id": "QXZfBqU0YGLZ",
        "colab": {
          "base_uri": "https://localhost:8080/"
        },
        "outputId": "a617b59a-0570-4d4e-955b-3aa3ba37cef2"
      },
      "source": [
        "# Loading Model\n",
        "\n",
        "file_name = '/content/gdrive/MyDrive/ColabData/LSTM_MULTI-7.h5'\n",
        "#file_name = '/content/LSTM_MULTI.h5'\n",
        "model = tf.keras.models.load_model(file_name)\n",
        "model.summary()"
      ],
      "execution_count": null,
      "outputs": [
        {
          "output_type": "stream",
          "text": [
            "WARNING:tensorflow:Error in loading the saved optimizer state. As a result, your model is starting with a freshly initialized optimizer.\n",
            "Model: \"sequential\"\n",
            "_________________________________________________________________\n",
            "Layer (type)                 Output Shape              Param #   \n",
            "=================================================================\n",
            "lstm (LSTM)                  (None, 1, 100)            51600     \n",
            "_________________________________________________________________\n",
            "dropout (Dropout)            (None, 1, 100)            0         \n",
            "_________________________________________________________________\n",
            "lstm_1 (LSTM)                (None, 70)                47880     \n",
            "_________________________________________________________________\n",
            "dropout_1 (Dropout)          (None, 70)                0         \n",
            "_________________________________________________________________\n",
            "dense (Dense)                (None, 1)                 71        \n",
            "=================================================================\n",
            "Total params: 99,551\n",
            "Trainable params: 99,551\n",
            "Non-trainable params: 0\n",
            "_________________________________________________________________\n"
          ],
          "name": "stdout"
        }
      ]
    },
    {
      "cell_type": "code",
      "metadata": {
        "colab": {
          "base_uri": "https://localhost:8080/"
        },
        "id": "kdM6oDYsdHnP",
        "outputId": "cecb1983-32d2-49a0-8647-4e1206c1a5fd"
      },
      "source": [
        "#yhat = model.predict(predict_X)       \n",
        "yhat = best_model.predict(predict_X) \n",
        "yhat, yhat.shape                      "
      ],
      "execution_count": 15,
      "outputs": [
        {
          "output_type": "execute_result",
          "data": {
            "text/plain": [
              "(array([[1.0114018 ],\n",
              "        [0.93943006],\n",
              "        [0.9603549 ],\n",
              "        [0.91512686],\n",
              "        [0.9190782 ],\n",
              "        [0.85542196],\n",
              "        [0.8125335 ]], dtype=float32), (7, 1))"
            ]
          },
          "metadata": {
            "tags": []
          },
          "execution_count": 15
        }
      ]
    },
    {
      "cell_type": "code",
      "metadata": {
        "id": "PPKDSrvESikz"
      },
      "source": [
        "def get_array(g):\n",
        "  g = np.insert(g, [1], .4, axis = 1)\n",
        "  g = np.insert(g, [2], .4, axis = 1)\n",
        "  g = np.insert(g, [3], .4, axis = 1)\n",
        "\n",
        "  array_ = scl.inverse_transform(g)\n",
        "  array_ready = []\n",
        "  for i in range(len(array_[:, :1])):\n",
        "    array_ready.append(array_[i,:1][0])\n",
        "\n",
        "  return array_ready"
      ],
      "execution_count": 17,
      "outputs": []
    },
    {
      "cell_type": "code",
      "metadata": {
        "colab": {
          "base_uri": "https://localhost:8080/"
        },
        "id": "YPkuwSVyTLXH",
        "outputId": "7d493703-79f4-48ac-d73d-50b41ef2a3b3"
      },
      "source": [
        "pred = get_array(yhat)\n",
        "print(\"PRED: \", pred)\n",
        "\n",
        "true = get_array(predict_Y.reshape(-1,1))\n",
        "print('TRUE: ', true)"
      ],
      "execution_count": 20,
      "outputs": [
        {
          "output_type": "stream",
          "text": [
            "PRED:  [41260.37, 38339.25, 39188.53, 37352.855, 37513.227, 34929.605, 33188.887]\n",
            "TRUE:  [40254.546875, 33922.9609375, 36825.3671875, 36630.07421875, 36069.8046875, 32185.724609375, 32185.724609375]\n"
          ],
          "name": "stdout"
        }
      ]
    },
    {
      "cell_type": "markdown",
      "metadata": {
        "id": "GwhjjK93RsnS"
      },
      "source": [
        "#DELETE LAST REAL VALUE - "
      ]
    },
    {
      "cell_type": "code",
      "metadata": {
        "colab": {
          "base_uri": "https://localhost:8080/",
          "height": 606
        },
        "id": "DN5EyYT92VU1",
        "outputId": "630e4f26-9284-4f1d-c05a-291894cb60ae"
      },
      "source": [
        "plt.figure(figsize = (15,10))\n",
        "plt.plot(pred, color='r', label='Prediction') \n",
        "plt.plot(true, label='Target')\n",
        "plt.xticks(np.arange(0, 10, 1), np.arange(1, 21, 1))\n",
        "plt.xlabel('Days')\n",
        "plt.ylabel('USD')\n",
        "plt.legend(loc='best')\n",
        "plt.show()"
      ],
      "execution_count": 22,
      "outputs": [
        {
          "output_type": "display_data",
          "data": {
            "image/png": "[encoded data removed]",
            "text/plain": [
              "<Figure size 1080x720 with 1 Axes>"
            ]
          },
          "metadata": {
            "tags": [],
            "needs_background": "light"
          }
        }
      ]
    },
    {
      "cell_type": "code",
      "metadata": {
        "id": "MJkNDl4U3zUA"
      },
      "source": [
        ""
      ],
      "execution_count": null,
      "outputs": []
    }
  ]
}