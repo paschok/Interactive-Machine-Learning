{
  "nbformat": 4,
  "nbformat_minor": 0,
  "metadata": {
    "colab": {
      "name": "Keras-tuner-multi-7.ipynb",
      "provenance": [],
      "collapsed_sections": [
        "Epig9-u1cqoV"
      ],
      "toc_visible": true
    },
    "kernelspec": {
      "name": "python3",
      "display_name": "Python 3"
    },
    "accelerator": "GPU"
  },
  "cells": [
    {
      "cell_type": "markdown",
      "metadata": {
        "id": "xnY85mGJjqZs"
      },
      "source": [
        "@author: Pavlo Mospan"
      ]
    },
    {
      "cell_type": "code",
      "metadata": {
        "id": "2Bm84Jy3gjVn",
        "colab": {
          "base_uri": "https://localhost:8080/"
        },
        "outputId": "15188459-841f-4f9a-cda4-0656af72aadb"
      },
      "source": [
        "!pip install keras-tuner\n",
        "!pip install yfinance\n",
        "\n",
        "import numpy as np\n",
        "import pandas as pd\n",
        "from tensorflow.keras.models import Sequential\n",
        "from tensorflow.keras.layers import LSTM,Dense,Dropout, Activation\n",
        "import tensorflow as tf\n",
        "from tensorflow.keras.optimizers import Adam\n",
        "import matplotlib.pyplot as plt\n",
        "from sklearn.model_selection import train_test_split\n",
        "from sklearn.preprocessing import MinMaxScaler\n",
        "from kerastuner import HyperModel\n",
        "from kerastuner.tuners import RandomSearch\n",
        "from tensorflow.keras.models import load_model\n",
        "import yfinance as yf\n",
        "from datetime import datetime, date, timedelta\n",
        "import pandas as pd\n",
        "from numpy import concatenate"
      ],
      "execution_count": 1,
      "outputs": [
        {
          "output_type": "stream",
          "text": [
            "Collecting keras-tuner\n",
            "\u001b[?25l  Downloading https://files.pythonhosted.org/packages/20/ec/1ef246787174b1e2bb591c95f29d3c1310070cad877824f907faba3dade9/keras-tuner-1.0.2.tar.gz (62kB)\n",
            "\r\u001b[K     |█████▏                          | 10kB 20.3MB/s eta 0:00:01\r\u001b[K     |██████████▍                     | 20kB 25.7MB/s eta 0:00:01\r\u001b[K     |███████████████▋                | 30kB 24.2MB/s eta 0:00:01\r\u001b[K     |████████████████████▉           | 40kB 21.2MB/s eta 0:00:01\r\u001b[K     |██████████████████████████      | 51kB 21.3MB/s eta 0:00:01\r\u001b[K     |███████████████████████████████▎| 61kB 16.6MB/s eta 0:00:01\r\u001b[K     |████████████████████████████████| 71kB 8.2MB/s \n",
            "\u001b[?25hRequirement already satisfied: packaging in /usr/local/lib/python3.6/dist-packages (from keras-tuner) (20.8)\n",
            "Requirement already satisfied: future in /usr/local/lib/python3.6/dist-packages (from keras-tuner) (0.16.0)\n",
            "Requirement already satisfied: numpy in /usr/local/lib/python3.6/dist-packages (from keras-tuner) (1.19.5)\n",
            "Requirement already satisfied: tabulate in /usr/local/lib/python3.6/dist-packages (from keras-tuner) (0.8.7)\n",
            "Collecting terminaltables\n",
            "  Downloading https://files.pythonhosted.org/packages/9b/c4/4a21174f32f8a7e1104798c445dacdc1d4df86f2f26722767034e4de4bff/terminaltables-3.1.0.tar.gz\n",
            "Collecting colorama\n",
            "  Downloading https://files.pythonhosted.org/packages/44/98/5b86278fbbf250d239ae0ecb724f8572af1c91f4a11edf4d36a206189440/colorama-0.4.4-py2.py3-none-any.whl\n",
            "Requirement already satisfied: tqdm in /usr/local/lib/python3.6/dist-packages (from keras-tuner) (4.41.1)\n",
            "Requirement already satisfied: requests in /usr/local/lib/python3.6/dist-packages (from keras-tuner) (2.23.0)\n",
            "Requirement already satisfied: scipy in /usr/local/lib/python3.6/dist-packages (from keras-tuner) (1.4.1)\n",
            "Requirement already satisfied: scikit-learn in /usr/local/lib/python3.6/dist-packages (from keras-tuner) (0.22.2.post1)\n",
            "Requirement already satisfied: pyparsing>=2.0.2 in /usr/local/lib/python3.6/dist-packages (from packaging->keras-tuner) (2.4.7)\n",
            "Requirement already satisfied: urllib3!=1.25.0,!=1.25.1,<1.26,>=1.21.1 in /usr/local/lib/python3.6/dist-packages (from requests->keras-tuner) (1.24.3)\n",
            "Requirement already satisfied: idna<3,>=2.5 in /usr/local/lib/python3.6/dist-packages (from requests->keras-tuner) (2.10)\n",
            "Requirement already satisfied: chardet<4,>=3.0.2 in /usr/local/lib/python3.6/dist-packages (from requests->keras-tuner) (3.0.4)\n",
            "Requirement already satisfied: certifi>=2017.4.17 in /usr/local/lib/python3.6/dist-packages (from requests->keras-tuner) (2020.12.5)\n",
            "Requirement already satisfied: joblib>=0.11 in /usr/local/lib/python3.6/dist-packages (from scikit-learn->keras-tuner) (1.0.0)\n",
            "Building wheels for collected packages: keras-tuner, terminaltables\n",
            "  Building wheel for keras-tuner (setup.py) ... \u001b[?25l\u001b[?25hdone\n",
            "  Created wheel for keras-tuner: filename=keras_tuner-1.0.2-cp36-none-any.whl size=78939 sha256=4caa16cdcc585c46e07920d32e04b5cbcccc030db58a65d71c09edd4daea2bb8\n",
            "  Stored in directory: /root/.cache/pip/wheels/bb/a1/8a/7c3de0efb3707a1701b36ebbfdbc4e67aedf6d4943a1f463d6\n",
            "  Building wheel for terminaltables (setup.py) ... \u001b[?25l\u001b[?25hdone\n",
            "  Created wheel for terminaltables: filename=terminaltables-3.1.0-cp36-none-any.whl size=15358 sha256=99732880c9a6eedd301f2f1f5b6565e8ae0574768fd712cd0381bf56a51455c9\n",
            "  Stored in directory: /root/.cache/pip/wheels/30/6b/50/6c75775b681fb36cdfac7f19799888ef9d8813aff9e379663e\n",
            "Successfully built keras-tuner terminaltables\n",
            "Installing collected packages: terminaltables, colorama, keras-tuner\n",
            "Successfully installed colorama-0.4.4 keras-tuner-1.0.2 terminaltables-3.1.0\n",
            "Collecting yfinance\n",
            "  Downloading https://files.pythonhosted.org/packages/7a/e8/b9d7104d3a4bf39924799067592d9e59119fcfc900a425a12e80a3123ec8/yfinance-0.1.55.tar.gz\n",
            "Requirement already satisfied: pandas>=0.24 in /usr/local/lib/python3.6/dist-packages (from yfinance) (1.1.5)\n",
            "Requirement already satisfied: numpy>=1.15 in /usr/local/lib/python3.6/dist-packages (from yfinance) (1.19.5)\n",
            "Requirement already satisfied: requests>=2.20 in /usr/local/lib/python3.6/dist-packages (from yfinance) (2.23.0)\n",
            "Requirement already satisfied: multitasking>=0.0.7 in /usr/local/lib/python3.6/dist-packages (from yfinance) (0.0.9)\n",
            "Collecting lxml>=4.5.1\n",
            "\u001b[?25l  Downloading https://files.pythonhosted.org/packages/bd/78/56a7c88a57d0d14945472535d0df9fb4bbad7d34ede658ec7961635c790e/lxml-4.6.2-cp36-cp36m-manylinux1_x86_64.whl (5.5MB)\n",
            "\u001b[K     |████████████████████████████████| 5.5MB 15.6MB/s \n",
            "\u001b[?25hRequirement already satisfied: pytz>=2017.2 in /usr/local/lib/python3.6/dist-packages (from pandas>=0.24->yfinance) (2018.9)\n",
            "Requirement already satisfied: python-dateutil>=2.7.3 in /usr/local/lib/python3.6/dist-packages (from pandas>=0.24->yfinance) (2.8.1)\n",
            "Requirement already satisfied: idna<3,>=2.5 in /usr/local/lib/python3.6/dist-packages (from requests>=2.20->yfinance) (2.10)\n",
            "Requirement already satisfied: certifi>=2017.4.17 in /usr/local/lib/python3.6/dist-packages (from requests>=2.20->yfinance) (2020.12.5)\n",
            "Requirement already satisfied: chardet<4,>=3.0.2 in /usr/local/lib/python3.6/dist-packages (from requests>=2.20->yfinance) (3.0.4)\n",
            "Requirement already satisfied: urllib3!=1.25.0,!=1.25.1,<1.26,>=1.21.1 in /usr/local/lib/python3.6/dist-packages (from requests>=2.20->yfinance) (1.24.3)\n",
            "Requirement already satisfied: six>=1.5 in /usr/local/lib/python3.6/dist-packages (from python-dateutil>=2.7.3->pandas>=0.24->yfinance) (1.15.0)\n",
            "Building wheels for collected packages: yfinance\n",
            "  Building wheel for yfinance (setup.py) ... \u001b[?25l\u001b[?25hdone\n",
            "  Created wheel for yfinance: filename=yfinance-0.1.55-py2.py3-none-any.whl size=22616 sha256=00f369c6062a2361ca2326907bf010cc15a10919a062ffcaff9b6ac66f255e72\n",
            "  Stored in directory: /root/.cache/pip/wheels/04/98/cc/2702a4242d60bdc14f48b4557c427ded1fe92aedf257d4565c\n",
            "Successfully built yfinance\n",
            "Installing collected packages: lxml, yfinance\n",
            "  Found existing installation: lxml 4.2.6\n",
            "    Uninstalling lxml-4.2.6:\n",
            "      Successfully uninstalled lxml-4.2.6\n",
            "Successfully installed lxml-4.6.2 yfinance-0.1.55\n"
          ],
          "name": "stdout"
        }
      ]
    },
    {
      "cell_type": "code",
      "metadata": {
        "colab": {
          "base_uri": "https://localhost:8080/"
        },
        "id": "40kP6K0J0Wct",
        "outputId": "09a7aa14-6e43-44e3-dbbf-ff077a39ad99"
      },
      "source": [
        "from google.colab import drive\n",
        "drive.mount('/content/gdrive')"
      ],
      "execution_count": 2,
      "outputs": [
        {
          "output_type": "stream",
          "text": [
            "Mounted at /content/gdrive\n"
          ],
          "name": "stdout"
        }
      ]
    },
    {
      "cell_type": "markdown",
      "metadata": {
        "id": "Vd97WtyPjjNb"
      },
      "source": [
        "## Data\n"
      ]
    },
    {
      "cell_type": "code",
      "metadata": {
        "colab": {
          "base_uri": "https://localhost:8080/",
          "height": 487
        },
        "id": "Ag2uDDQ8gjjk",
        "outputId": "48c9b0f5-8762-4583-a304-b9d8ae653d33"
      },
      "source": [
        "today = datetime.today().strftime('%Y-%m-%d')\n",
        "start_date = '2015-08-07'\n",
        "idx = pd.date_range(start_date, today)\n",
        "\n",
        "df_A = yf.download(\"BTC-USD\", start=start_date, end=today)\n",
        "df_A = df_A[\"Close\"]\n",
        "df_A = df_A.reindex(idx, fill_value=0, method=\"nearest\")\n",
        "\n",
        "# The S&P 500 - stock market index that measures the stock performance of 500 large companies listed on stock exchanges in the US. \n",
        "df_B = yf.download(\"%5EGSPC\", start=start_date, end=today)\n",
        "df_B = df_B[\"Close\"]\n",
        "df_B = df_B.reindex(idx, fill_value=0, method=\"nearest\")\n",
        "\n",
        "# US Dollar/USDX - Index - Cash\n",
        "df_C = yf.download(\"DX-Y.NYB\", start=start_date, end=today)\n",
        "df_C = df_C[\"Close\"]\n",
        "df_C = df_C.reindex(idx, fill_value=0, method=\"nearest\")\n",
        "\n",
        "# Gold\n",
        "df_D = yf.download(\"GC=F\", start=start_date, end=today)\n",
        "df_D = df_D[\"Close\"]\n",
        "df_D = df_D.reindex(idx, fill_value=0, method=\"nearest\")\n",
        "\n",
        "timeseries=  pd.concat([df_A, df_B, df_C, df_D], axis=1)\n",
        "\n",
        "timeseries.columns=([\"Close-btc\", \"Close-sp500\", \"Close-dxy\", \"Close-gold\"])\n",
        "timeseries"
      ],
      "execution_count": 3,
      "outputs": [
        {
          "output_type": "stream",
          "text": [
            "[*********************100%***********************]  1 of 1 completed\n",
            "[*********************100%***********************]  1 of 1 completed\n",
            "[*********************100%***********************]  1 of 1 completed\n",
            "[*********************100%***********************]  1 of 1 completed\n"
          ],
          "name": "stdout"
        },
        {
          "output_type": "execute_result",
          "data": {
            "text/html": [
              "<div>\n",
              "<style scoped>\n",
              "    .dataframe tbody tr th:only-of-type {\n",
              "        vertical-align: middle;\n",
              "    }\n",
              "\n",
              "    .dataframe tbody tr th {\n",
              "        vertical-align: top;\n",
              "    }\n",
              "\n",
              "    .dataframe thead th {\n",
              "        text-align: right;\n",
              "    }\n",
              "</style>\n",
              "<table border=\"1\" class=\"dataframe\">\n",
              "  <thead>\n",
              "    <tr style=\"text-align: right;\">\n",
              "      <th></th>\n",
              "      <th>Close-btc</th>\n",
              "      <th>Close-sp500</th>\n",
              "      <th>Close-dxy</th>\n",
              "      <th>Close-gold</th>\n",
              "    </tr>\n",
              "  </thead>\n",
              "  <tbody>\n",
              "    <tr>\n",
              "      <th>2015-08-07</th>\n",
              "      <td>279.584991</td>\n",
              "      <td>2077.570068</td>\n",
              "      <td>97.559998</td>\n",
              "      <td>1094.099976</td>\n",
              "    </tr>\n",
              "    <tr>\n",
              "      <th>2015-08-08</th>\n",
              "      <td>260.997009</td>\n",
              "      <td>2077.570068</td>\n",
              "      <td>97.559998</td>\n",
              "      <td>1094.099976</td>\n",
              "    </tr>\n",
              "    <tr>\n",
              "      <th>2015-08-09</th>\n",
              "      <td>265.083008</td>\n",
              "      <td>2104.179932</td>\n",
              "      <td>97.160004</td>\n",
              "      <td>1104.199951</td>\n",
              "    </tr>\n",
              "    <tr>\n",
              "      <th>2015-08-10</th>\n",
              "      <td>264.470001</td>\n",
              "      <td>2104.179932</td>\n",
              "      <td>97.160004</td>\n",
              "      <td>1104.199951</td>\n",
              "    </tr>\n",
              "    <tr>\n",
              "      <th>2015-08-11</th>\n",
              "      <td>270.385986</td>\n",
              "      <td>2084.070068</td>\n",
              "      <td>97.290001</td>\n",
              "      <td>1107.599976</td>\n",
              "    </tr>\n",
              "    <tr>\n",
              "      <th>...</th>\n",
              "      <td>...</td>\n",
              "      <td>...</td>\n",
              "      <td>...</td>\n",
              "      <td>...</td>\n",
              "    </tr>\n",
              "    <tr>\n",
              "      <th>2021-01-19</th>\n",
              "      <td>36069.804688</td>\n",
              "      <td>3798.909912</td>\n",
              "      <td>90.500000</td>\n",
              "      <td>1839.500000</td>\n",
              "    </tr>\n",
              "    <tr>\n",
              "      <th>2021-01-20</th>\n",
              "      <td>36069.804688</td>\n",
              "      <td>3851.850098</td>\n",
              "      <td>90.470001</td>\n",
              "      <td>1865.900024</td>\n",
              "    </tr>\n",
              "    <tr>\n",
              "      <th>2021-01-21</th>\n",
              "      <td>31898.572266</td>\n",
              "      <td>3853.070068</td>\n",
              "      <td>90.129997</td>\n",
              "      <td>1865.300049</td>\n",
              "    </tr>\n",
              "    <tr>\n",
              "      <th>2021-01-22</th>\n",
              "      <td>31898.572266</td>\n",
              "      <td>3841.469971</td>\n",
              "      <td>90.239998</td>\n",
              "      <td>1855.699951</td>\n",
              "    </tr>\n",
              "    <tr>\n",
              "      <th>2021-01-23</th>\n",
              "      <td>31898.572266</td>\n",
              "      <td>3841.469971</td>\n",
              "      <td>90.239998</td>\n",
              "      <td>1855.699951</td>\n",
              "    </tr>\n",
              "  </tbody>\n",
              "</table>\n",
              "<p>1997 rows × 4 columns</p>\n",
              "</div>"
            ],
            "text/plain": [
              "               Close-btc  Close-sp500  Close-dxy   Close-gold\n",
              "2015-08-07    279.584991  2077.570068  97.559998  1094.099976\n",
              "2015-08-08    260.997009  2077.570068  97.559998  1094.099976\n",
              "2015-08-09    265.083008  2104.179932  97.160004  1104.199951\n",
              "2015-08-10    264.470001  2104.179932  97.160004  1104.199951\n",
              "2015-08-11    270.385986  2084.070068  97.290001  1107.599976\n",
              "...                  ...          ...        ...          ...\n",
              "2021-01-19  36069.804688  3798.909912  90.500000  1839.500000\n",
              "2021-01-20  36069.804688  3851.850098  90.470001  1865.900024\n",
              "2021-01-21  31898.572266  3853.070068  90.129997  1865.300049\n",
              "2021-01-22  31898.572266  3841.469971  90.239998  1855.699951\n",
              "2021-01-23  31898.572266  3841.469971  90.239998  1855.699951\n",
              "\n",
              "[1997 rows x 4 columns]"
            ]
          },
          "metadata": {
            "tags": []
          },
          "execution_count": 3
        }
      ]
    },
    {
      "cell_type": "code",
      "metadata": {
        "id": "E1y3FduOkqBz",
        "colab": {
          "base_uri": "https://localhost:8080/",
          "height": 419
        },
        "outputId": "00bbb662-360a-4f7e-af4c-61f6f69adc0d"
      },
      "source": [
        "scl = MinMaxScaler()\n",
        "\n",
        "timeseries[[\"Close-btc\", \"Close-sp500\", \"Close-dxy\", \"Close-gold\"]] = scl.fit_transform(timeseries[[\"Close-btc\", \"Close-sp500\", \"Close-dxy\", \"Close-gold\"]])\n",
        "\n",
        "timeseries[\"Close-btc-output\"] = timeseries[\"Close-btc\"]\n",
        "timeseries[\"Close-btc-output\"] = timeseries[\"Close-btc-output\"].shift(-1)\n",
        "#timeseries.drop(timeseries.tail(1).index, inplace=True)\n",
        "timeseries.loc[today, 'Close-btc-output']\n",
        "timeseries"
      ],
      "execution_count": 4,
      "outputs": [
        {
          "output_type": "execute_result",
          "data": {
            "text/html": [
              "<div>\n",
              "<style scoped>\n",
              "    .dataframe tbody tr th:only-of-type {\n",
              "        vertical-align: middle;\n",
              "    }\n",
              "\n",
              "    .dataframe tbody tr th {\n",
              "        vertical-align: top;\n",
              "    }\n",
              "\n",
              "    .dataframe thead th {\n",
              "        text-align: right;\n",
              "    }\n",
              "</style>\n",
              "<table border=\"1\" class=\"dataframe\">\n",
              "  <thead>\n",
              "    <tr style=\"text-align: right;\">\n",
              "      <th></th>\n",
              "      <th>Close-btc</th>\n",
              "      <th>Close-sp500</th>\n",
              "      <th>Close-dxy</th>\n",
              "      <th>Close-gold</th>\n",
              "      <th>Close-btc-output</th>\n",
              "    </tr>\n",
              "  </thead>\n",
              "  <tbody>\n",
              "    <tr>\n",
              "      <th>2015-08-07</th>\n",
              "      <td>0.001702</td>\n",
              "      <td>0.122772</td>\n",
              "      <td>0.610204</td>\n",
              "      <td>0.043270</td>\n",
              "      <td>0.001244</td>\n",
              "    </tr>\n",
              "    <tr>\n",
              "      <th>2015-08-08</th>\n",
              "      <td>0.001244</td>\n",
              "      <td>0.122772</td>\n",
              "      <td>0.610204</td>\n",
              "      <td>0.043270</td>\n",
              "      <td>0.001345</td>\n",
              "    </tr>\n",
              "    <tr>\n",
              "      <th>2015-08-09</th>\n",
              "      <td>0.001345</td>\n",
              "      <td>0.135920</td>\n",
              "      <td>0.582994</td>\n",
              "      <td>0.053363</td>\n",
              "      <td>0.001330</td>\n",
              "    </tr>\n",
              "    <tr>\n",
              "      <th>2015-08-10</th>\n",
              "      <td>0.001330</td>\n",
              "      <td>0.135920</td>\n",
              "      <td>0.582994</td>\n",
              "      <td>0.053363</td>\n",
              "      <td>0.001476</td>\n",
              "    </tr>\n",
              "    <tr>\n",
              "      <th>2015-08-11</th>\n",
              "      <td>0.001476</td>\n",
              "      <td>0.125984</td>\n",
              "      <td>0.591837</td>\n",
              "      <td>0.056760</td>\n",
              "      <td>0.001377</td>\n",
              "    </tr>\n",
              "    <tr>\n",
              "      <th>...</th>\n",
              "      <td>...</td>\n",
              "      <td>...</td>\n",
              "      <td>...</td>\n",
              "      <td>...</td>\n",
              "      <td>...</td>\n",
              "    </tr>\n",
              "    <tr>\n",
              "      <th>2021-01-19</th>\n",
              "      <td>0.883515</td>\n",
              "      <td>0.973241</td>\n",
              "      <td>0.129932</td>\n",
              "      <td>0.788148</td>\n",
              "      <td>0.883515</td>\n",
              "    </tr>\n",
              "    <tr>\n",
              "      <th>2021-01-20</th>\n",
              "      <td>0.883515</td>\n",
              "      <td>0.999397</td>\n",
              "      <td>0.127891</td>\n",
              "      <td>0.814530</td>\n",
              "      <td>0.780742</td>\n",
              "    </tr>\n",
              "    <tr>\n",
              "      <th>2021-01-21</th>\n",
              "      <td>0.780742</td>\n",
              "      <td>1.000000</td>\n",
              "      <td>0.104762</td>\n",
              "      <td>0.813930</td>\n",
              "      <td>0.780742</td>\n",
              "    </tr>\n",
              "    <tr>\n",
              "      <th>2021-01-22</th>\n",
              "      <td>0.780742</td>\n",
              "      <td>0.994269</td>\n",
              "      <td>0.112245</td>\n",
              "      <td>0.804337</td>\n",
              "      <td>0.780742</td>\n",
              "    </tr>\n",
              "    <tr>\n",
              "      <th>2021-01-23</th>\n",
              "      <td>0.780742</td>\n",
              "      <td>0.994269</td>\n",
              "      <td>0.112245</td>\n",
              "      <td>0.804337</td>\n",
              "      <td>NaN</td>\n",
              "    </tr>\n",
              "  </tbody>\n",
              "</table>\n",
              "<p>1997 rows × 5 columns</p>\n",
              "</div>"
            ],
            "text/plain": [
              "            Close-btc  Close-sp500  Close-dxy  Close-gold  Close-btc-output\n",
              "2015-08-07   0.001702     0.122772   0.610204    0.043270          0.001244\n",
              "2015-08-08   0.001244     0.122772   0.610204    0.043270          0.001345\n",
              "2015-08-09   0.001345     0.135920   0.582994    0.053363          0.001330\n",
              "2015-08-10   0.001330     0.135920   0.582994    0.053363          0.001476\n",
              "2015-08-11   0.001476     0.125984   0.591837    0.056760          0.001377\n",
              "...               ...          ...        ...         ...               ...\n",
              "2021-01-19   0.883515     0.973241   0.129932    0.788148          0.883515\n",
              "2021-01-20   0.883515     0.999397   0.127891    0.814530          0.780742\n",
              "2021-01-21   0.780742     1.000000   0.104762    0.813930          0.780742\n",
              "2021-01-22   0.780742     0.994269   0.112245    0.804337          0.780742\n",
              "2021-01-23   0.780742     0.994269   0.112245    0.804337               NaN\n",
              "\n",
              "[1997 rows x 5 columns]"
            ]
          },
          "metadata": {
            "tags": []
          },
          "execution_count": 4
        }
      ]
    },
    {
      "cell_type": "markdown",
      "metadata": {
        "id": "HFIuD-O28Ia7"
      },
      "source": [
        "#### Filling today's **Close-btc-output** value with yesterday value. This is needed for later proper prediction"
      ]
    },
    {
      "cell_type": "code",
      "metadata": {
        "id": "vIraL6ByOPLW",
        "colab": {
          "base_uri": "https://localhost:8080/"
        },
        "outputId": "0673e594-dd52-48b0-80dc-2ab377297f37"
      },
      "source": [
        "yesterday = date.today() - timedelta(days=1)\n",
        "yesterday = yesterday.strftime('%Y-%m-%d')\n",
        "\n",
        "timeseries.loc[today, 'Close-btc-output'] = timeseries.loc[yesterday, 'Close-btc-output']\n",
        "timeseries\n",
        "print(timeseries)\n",
        "array = timeseries.values\n",
        "print(array)"
      ],
      "execution_count": 5,
      "outputs": [
        {
          "output_type": "stream",
          "text": [
            "            Close-btc  Close-sp500  Close-dxy  Close-gold  Close-btc-output\n",
            "2015-08-07   0.001702     0.122772   0.610204    0.043270          0.001244\n",
            "2015-08-08   0.001244     0.122772   0.610204    0.043270          0.001345\n",
            "2015-08-09   0.001345     0.135920   0.582994    0.053363          0.001330\n",
            "2015-08-10   0.001330     0.135920   0.582994    0.053363          0.001476\n",
            "2015-08-11   0.001476     0.125984   0.591837    0.056760          0.001377\n",
            "...               ...          ...        ...         ...               ...\n",
            "2021-01-19   0.883515     0.973241   0.129932    0.788148          0.883515\n",
            "2021-01-20   0.883515     0.999397   0.127891    0.814530          0.780742\n",
            "2021-01-21   0.780742     1.000000   0.104762    0.813930          0.780742\n",
            "2021-01-22   0.780742     0.994269   0.112245    0.804337          0.780742\n",
            "2021-01-23   0.780742     0.994269   0.112245    0.804337          0.780742\n",
            "\n",
            "[1997 rows x 5 columns]\n",
            "[[0.00170226 0.12277239 0.61020397 0.04326964 0.00124429]\n",
            " [0.00124429 0.12277239 0.61020397 0.04326964 0.00134496]\n",
            " [0.00134496 0.13591962 0.58299351 0.05336255 0.00132986]\n",
            " ...\n",
            " [0.78074231 1.         0.10476193 0.81393029 0.78074231]\n",
            " [0.78074231 0.9942687  0.11224497 0.80433691 0.78074231]\n",
            " [0.78074231 0.9942687  0.11224497 0.80433691 0.78074231]]\n"
          ],
          "name": "stdout"
        }
      ]
    },
    {
      "cell_type": "code",
      "metadata": {
        "colab": {
          "base_uri": "https://localhost:8080/"
        },
        "id": "vZM-NX8Bk8Kh",
        "outputId": "b126f204-9724-4302-d4b5-cdc4ed34bc6e"
      },
      "source": [
        "#number of days to take in a row before Y\n",
        "X_quantity = 7  \n",
        "mod = len(array) % X_quantity\n",
        "\n",
        "# how many predictions to make\n",
        "times = 3\n",
        "\n",
        "# deleting first-mod values to have /mod-zero array\n",
        "for i_ in range(mod):\n",
        "  array = np.delete(array, 0, 0)\n",
        "\n",
        "# for splitting into train/test\n",
        "division = X_quantity * 3\n",
        "split = len(array) - division\n",
        "print('Division: ', division, 'Split is on: ', split)\n",
        "\n",
        "predict = array[split:]\n",
        "train = array[:split]"
      ],
      "execution_count": 6,
      "outputs": [
        {
          "output_type": "stream",
          "text": [
            "Division:  21 Split is on:  1974\n"
          ],
          "name": "stdout"
        }
      ]
    },
    {
      "cell_type": "code",
      "metadata": {
        "id": "zoa3PtiDFPTC"
      },
      "source": [
        "def get_X_values(values):\n",
        "  x = []\n",
        "  ready_X = []\n",
        "  COUNT = 1\n",
        "  for i_ in values:\n",
        "    x.extend(i_)\n",
        "    if COUNT % X_quantity == 0:\n",
        "      ready_X.append(x)\n",
        "      x = []\n",
        "\n",
        "    COUNT += 1\n",
        "\n",
        "  ready_X = np.array(ready_X)\n",
        "  return ready_X\n",
        "\n",
        "def get_Y_targets(targets):\n",
        "  ready_Y = []\n",
        "  for i_ in range(int(len(targets) / X_quantity)):\n",
        "    i_ += 1\n",
        "    ready_Y.append(targets[i_ * X_quantity -1])\n",
        "\n",
        "  ready_Y = np.array(ready_Y)\n",
        "  return ready_Y"
      ],
      "execution_count": 7,
      "outputs": []
    },
    {
      "cell_type": "code",
      "metadata": {
        "colab": {
          "base_uri": "https://localhost:8080/"
        },
        "id": "ErOUrPYQk8QS",
        "outputId": "c5a2e1ba-28e4-435c-9b0b-9110b69f79bc"
      },
      "source": [
        "predict_values = predict[:, :-1]\n",
        "predict_target = predict[:, -1]\n",
        "\n",
        "print('predict_values.shape: {} | predict_target.shape: {}'.format(predict_values.shape, predict_target.shape))\n",
        "\n",
        "predict_X = get_X_values(predict_values)\n",
        "print('\\n predict_X type: {} \\n predict_X.shape: {} \\n predict_X: \\n{}'.format(type(predict_X), predict_X.shape, predict_X))\n",
        "\n",
        "predict_Y = get_Y_targets(predict_target)\n",
        "print('\\nPred Y: {}'.format(predict_Y))"
      ],
      "execution_count": 8,
      "outputs": [
        {
          "output_type": "stream",
          "text": [
            "predict_values.shape: (21, 4) | predict_target.shape: (21,)\n",
            "\n",
            " predict_X type: <class 'numpy.ndarray'> \n",
            " predict_X.shape: (3, 28) \n",
            " predict_X: \n",
            "[[0.8025091  0.92469323 0.08775514 0.89327465 0.78254933 0.92469323\n",
            "  0.08775514 0.89327465 0.83233152 0.937643   0.05782353 0.90126906\n",
            "  0.90210573 0.94815677 0.06394572 0.85550117 0.96485174 0.97565204\n",
            "  0.08435409 0.86089741 1.         0.98597318 0.10068047 0.78275204\n",
            "  0.98661983 0.98597318 0.10068047 0.78275204]\n",
            " [0.93985362 0.97358685 0.13265333 0.7982412  0.87111789 0.97358685\n",
            "  0.13265333 0.7982412  0.83061993 0.9743674  0.09932015 0.79154593\n",
            "  0.9142277  0.97864121 0.11768727 0.8022384  0.96032531 0.97157593\n",
            "  0.11224497 0.79894078 0.90213046 0.95809265 0.14897971 0.77795547\n",
            "  0.88618386 0.95809265 0.14897971 0.77795547]\n",
            " [0.87665218 0.9732409  0.12993218 0.78814829 0.89731876 0.9732409\n",
            "  0.12993218 0.78814829 0.88351464 0.9732409  0.12993218 0.78814829\n",
            "  0.88351464 0.99939724 0.12789145 0.81452984 0.78074231 1.\n",
            "  0.10476193 0.81393029 0.78074231 0.9942687  0.11224497 0.80433691\n",
            "  0.78074231 0.9942687  0.11224497 0.80433691]]\n",
            "\n",
            "Pred Y: [0.93985362 0.87665218 0.78074231]\n"
          ],
          "name": "stdout"
        }
      ]
    },
    {
      "cell_type": "code",
      "metadata": {
        "colab": {
          "base_uri": "https://localhost:8080/"
        },
        "id": "fu-cMehW9qly",
        "outputId": "7ad9c1d0-c1ef-4ae3-8d63-bf4fa513b046"
      },
      "source": [
        "train_values = train[:, :-1]\n",
        "train_target = train[:, -1]\n",
        "\n",
        "print('train_values.shape: {} | train_target.shape : {}'.format(train_values.shape, train_target.shape))\n",
        "\n",
        "train_X = get_X_values(train_values)\n",
        "print('\\n type of train_X: {} \\n train_X.shape: {} \\n train_X: \\n {}'.format(type(train_X), train_X.shape, train_X))\n",
        "\n",
        "train_Y = get_Y_targets(train_target)\n",
        "print('\\n len(train_Y) : {} '.format(len(train_Y)))"
      ],
      "execution_count": 9,
      "outputs": [
        {
          "output_type": "stream",
          "text": [
            "train_values.shape: (1974, 4) | train_target.shape : (1974,)\n",
            "\n",
            " type of train_X: <class 'numpy.ndarray'> \n",
            " train_X.shape: (282, 28) \n",
            " train_X: \n",
            " [[1.34495920e-03 1.35919624e-01 5.82993514e-01 ... 1.29674588e-01\n",
            "  5.42857202e-01 6.20565390e-02]\n",
            " [1.18293685e-03 1.35059941e-01 5.59864000e-01 ... 7.00646005e-02\n",
            "  4.24490037e-01 1.08723825e-01]\n",
            " [4.35458679e-04 3.16849398e-02 3.21088418e-01 ... 7.89480334e-02\n",
            "  5.11564757e-01 8.22423611e-02]\n",
            " ...\n",
            " [4.66450698e-01 8.98428319e-01 1.44898246e-01 ... 9.29021315e-01\n",
            "  9.72789020e-02 8.34315922e-01]\n",
            " [5.73255830e-01 9.21862194e-01 9.86397365e-02 ... 9.41842621e-01\n",
            "  1.19047582e-01 8.25821867e-01]\n",
            " [6.42120050e-01 9.41842621e-01 1.19047582e-01 ... 9.24693226e-01\n",
            "  8.77551370e-02 8.93274654e-01]]\n",
            "\n",
            " len(train_Y) : 282 \n"
          ],
          "name": "stdout"
        }
      ]
    },
    {
      "cell_type": "code",
      "metadata": {
        "colab": {
          "base_uri": "https://localhost:8080/"
        },
        "id": "_MvIpWambfm2",
        "outputId": "86506450-848a-452f-d9c4-f32a4272bc68"
      },
      "source": [
        "timeseries[[\"Close-btc\", \"Close-sp500\", \"Close-dxy\", \"Close-gold\"]].shape"
      ],
      "execution_count": null,
      "outputs": [
        {
          "output_type": "execute_result",
          "data": {
            "text/plain": [
              "(1997, 4)"
            ]
          },
          "metadata": {
            "tags": []
          },
          "execution_count": 16
        }
      ]
    },
    {
      "cell_type": "code",
      "metadata": {
        "id": "VHBda7e7Lo4V",
        "colab": {
          "base_uri": "https://localhost:8080/"
        },
        "outputId": "1e1b6e06-e8be-4d98-d9d8-1c3d2cc32f93"
      },
      "source": [
        "#splitting into Train and Test\n",
        "\n",
        "# reshape input to be 3D [samples, timesteps, features]\n",
        "train_X = train_X.reshape((train_X.shape[0], 1, train_X.shape[1]))\n",
        "predict_X = predict_X.reshape((predict_X.shape[0], 1, predict_X.shape[1]))\n",
        "\n",
        "X_train, X_validate, Y_train, Y_validate = train_test_split(train_X, train_Y, test_size=0.20, random_state=42)\n",
        "\n",
        "print('X_train.shape: {} |  Y_train: {}'.format( X_train.shape, Y_train.shape))"
      ],
      "execution_count": 10,
      "outputs": [
        {
          "output_type": "stream",
          "text": [
            "X_train.shape: (225, 1, 28) |  Y_train: (225,)\n"
          ],
          "name": "stdout"
        }
      ]
    },
    {
      "cell_type": "code",
      "metadata": {
        "id": "lP0-AIHSRhox",
        "colab": {
          "base_uri": "https://localhost:8080/"
        },
        "outputId": "25dd955a-c530-40a6-d6fc-460e28bc350e"
      },
      "source": [
        "forward_days=1\n",
        "\n",
        "predict_X, predict_X.shape"
      ],
      "execution_count": 12,
      "outputs": [
        {
          "output_type": "execute_result",
          "data": {
            "text/plain": [
              "(array([[[0.8025091 , 0.92469323, 0.08775514, 0.89327465, 0.78254933,\n",
              "          0.92469323, 0.08775514, 0.89327465, 0.83233152, 0.937643  ,\n",
              "          0.05782353, 0.90126906, 0.90210573, 0.94815677, 0.06394572,\n",
              "          0.85550117, 0.96485174, 0.97565204, 0.08435409, 0.86089741,\n",
              "          1.        , 0.98597318, 0.10068047, 0.78275204, 0.98661983,\n",
              "          0.98597318, 0.10068047, 0.78275204]],\n",
              " \n",
              "        [[0.93985362, 0.97358685, 0.13265333, 0.7982412 , 0.87111789,\n",
              "          0.97358685, 0.13265333, 0.7982412 , 0.83061993, 0.9743674 ,\n",
              "          0.09932015, 0.79154593, 0.9142277 , 0.97864121, 0.11768727,\n",
              "          0.8022384 , 0.96032531, 0.97157593, 0.11224497, 0.79894078,\n",
              "          0.90213046, 0.95809265, 0.14897971, 0.77795547, 0.88618386,\n",
              "          0.95809265, 0.14897971, 0.77795547]],\n",
              " \n",
              "        [[0.87665218, 0.9732409 , 0.12993218, 0.78814829, 0.89731876,\n",
              "          0.9732409 , 0.12993218, 0.78814829, 0.88351464, 0.9732409 ,\n",
              "          0.12993218, 0.78814829, 0.88351464, 0.99939724, 0.12789145,\n",
              "          0.81452984, 0.78074231, 1.        , 0.10476193, 0.81393029,\n",
              "          0.78074231, 0.9942687 , 0.11224497, 0.80433691, 0.78074231,\n",
              "          0.9942687 , 0.11224497, 0.80433691]]]), (3, 1, 28))"
            ]
          },
          "metadata": {
            "tags": []
          },
          "execution_count": 12
        }
      ]
    },
    {
      "cell_type": "markdown",
      "metadata": {
        "id": "t97C1Hng4BOR"
      },
      "source": [
        "#### Training The Model"
      ]
    },
    {
      "cell_type": "code",
      "metadata": {
        "id": "adBu4L63l1a4"
      },
      "source": [
        "#Training the model\n",
        "\n",
        "class MyHyperModel(HyperModel):\n",
        "\n",
        "    def __init__(self, num_classes):\n",
        "        self.num_classes = num_classes\n",
        "\n",
        "    def build(self, hp):\n",
        "        \n",
        "        # Specify model\n",
        "        model = Sequential()\n",
        "        NUM_NEURONS_FirstLayer = hp.Choice('NUM_NEURONS_FirstLayer',values=[80, 90, 100, 120])\n",
        "\n",
        "        model.add(LSTM(NUM_NEURONS_FirstLayer,input_shape=(X_train.shape[1],X_train.shape[2]), return_sequences=True))\n",
        "\n",
        "        model.add(Dropout(hp.Float('dropout_1', 0, 0.4, step=0.1, default=0)))\n",
        "\n",
        "        \n",
        "        NUM_NEURONS_SecondLayer = hp.Choice('NUM_NEURONS_SecondLayer',values=[30, 40, 50, 60, 70])\n",
        "        model.add(LSTM(NUM_NEURONS_SecondLayer,input_shape=(NUM_NEURONS_FirstLayer,1)))\n",
        "\n",
        "        model.add(Dropout(hp.Float('dropout_2', 0, 0.4, step=0.1, default=0)))\n",
        "\n",
        "        # Output layer\n",
        "        model.add(Dense(forward_days, activation='linear'))\n",
        "\n",
        "        # Compile the constructed model and return it\n",
        "        model.compile(\n",
        "            optimizer=Adam(\n",
        "                hp.Choice('learning_rate',\n",
        "                          values=[0.01, 0.001, 0.0001])),\n",
        "            loss='mean_squared_error')\n",
        "\n",
        "        return model"
      ],
      "execution_count": 13,
      "outputs": []
    },
    {
      "cell_type": "code",
      "metadata": {
        "id": "mzMo6wkWl1ez",
        "colab": {
          "base_uri": "https://localhost:8080/"
        },
        "outputId": "ce0e386e-70a7-4304-d755-21687d0b246e"
      },
      "source": [
        "hypermodel = MyHyperModel(num_classes=1)    \n",
        "\n",
        "# Construct the RandomSearch tuner\n",
        "random_tuner = RandomSearch(\n",
        "    hypermodel,\n",
        "    objective='val_loss',\n",
        "    max_trials=100,\n",
        "    executions_per_trial = 1,\n",
        "    seed=10, \n",
        "    project_name='lstm-kerastuner-multi',\n",
        "    directory=\"/content\")\n",
        "\n",
        "# Search for the best parameters of the neural network using the contructed random search tuner\n",
        "random_tuner.search(X_train, Y_train,\n",
        "             epochs=100,\n",
        "             validation_data=(X_validate, Y_validate))\n",
        "\n",
        "#get the best model\n",
        "\n",
        "random_params = random_tuner.get_best_hyperparameters()[0]\n",
        "best_model = random_tuner.get_best_models(1)[0]"
      ],
      "execution_count": 14,
      "outputs": [
        {
          "output_type": "stream",
          "text": [
            "Trial 100 Complete [00h 00m 10s]\n",
            "val_loss: 0.00011223337787669152\n",
            "\n",
            "Best val_loss So Far: 7.249882037285715e-05\n",
            "Total elapsed time: 00h 19m 21s\n",
            "INFO:tensorflow:Oracle triggered exit\n"
          ],
          "name": "stdout"
        }
      ]
    },
    {
      "cell_type": "code",
      "metadata": {
        "colab": {
          "base_uri": "https://localhost:8080/"
        },
        "id": "bj47vaEWl1iQ",
        "outputId": "a77dffb3-7e6d-49ec-ea6c-4886a2557b3b"
      },
      "source": [
        "best_model.summary()"
      ],
      "execution_count": 15,
      "outputs": [
        {
          "output_type": "stream",
          "text": [
            "Model: \"sequential\"\n",
            "_________________________________________________________________\n",
            "Layer (type)                 Output Shape              Param #   \n",
            "=================================================================\n",
            "lstm (LSTM)                  (None, 1, 100)            51600     \n",
            "_________________________________________________________________\n",
            "dropout (Dropout)            (None, 1, 100)            0         \n",
            "_________________________________________________________________\n",
            "lstm_1 (LSTM)                (None, 30)                15720     \n",
            "_________________________________________________________________\n",
            "dropout_1 (Dropout)          (None, 30)                0         \n",
            "_________________________________________________________________\n",
            "dense (Dense)                (None, 1)                 31        \n",
            "=================================================================\n",
            "Total params: 67,351\n",
            "Trainable params: 67,351\n",
            "Non-trainable params: 0\n",
            "_________________________________________________________________\n"
          ],
          "name": "stdout"
        }
      ]
    },
    {
      "cell_type": "markdown",
      "metadata": {
        "id": "S1-s2Khtcnix"
      },
      "source": [
        "#### Saving the model"
      ]
    },
    {
      "cell_type": "code",
      "metadata": {
        "colab": {
          "base_uri": "https://localhost:8080/"
        },
        "id": "nEsMycidlSxt",
        "outputId": "79e3d230-3921-4f9d-b185-a4574b7720bc"
      },
      "source": [
        "#Saving the model\n",
        "\n",
        "file_name = 'LSTM_MULTI-7.h5'\n",
        "best_model.save(file_name)\n",
        "print(\"Saved model `{}` to disk\".format(file_name))"
      ],
      "execution_count": 16,
      "outputs": [
        {
          "output_type": "stream",
          "text": [
            "Saved model `LSTM_MULTI-7.h5` to disk\n"
          ],
          "name": "stdout"
        }
      ]
    },
    {
      "cell_type": "markdown",
      "metadata": {
        "id": "Epig9-u1cqoV"
      },
      "source": [
        "#### Predicting on best_model recently train \n",
        "# NEEDS RECODING - USE CODE BELOW THESE CELLS"
      ]
    },
    {
      "cell_type": "code",
      "metadata": {
        "id": "ooMiiEvwQPsm",
        "colab": {
          "base_uri": "https://localhost:8080/",
          "height": 232
        },
        "outputId": "bef129a7-5925-493a-c60e-3b7f52980a2c"
      },
      "source": [
        "yhat = best_model.predict(X_test)\n",
        "X_test = X_test.reshape((X_test.shape[0], X_test.shape[2]))\n",
        "\n",
        "inv_yhat = concatenate((yhat, X_test[:,1:]), axis=1)\n",
        "inv_yhat = scl.inverse_transform(inv_yhat)\n",
        "inv_yhat = inv_yhat[:,0]"
      ],
      "execution_count": 17,
      "outputs": [
        {
          "output_type": "error",
          "ename": "NameError",
          "evalue": "ignored",
          "traceback": [
            "\u001b[0;31m---------------------------------------------------------------------------\u001b[0m",
            "\u001b[0;31mNameError\u001b[0m                                 Traceback (most recent call last)",
            "\u001b[0;32m<ipython-input-17-d7ffdde476e4>\u001b[0m in \u001b[0;36m<module>\u001b[0;34m()\u001b[0m\n\u001b[0;32m----> 1\u001b[0;31m \u001b[0myhat\u001b[0m \u001b[0;34m=\u001b[0m \u001b[0mbest_model\u001b[0m\u001b[0;34m.\u001b[0m\u001b[0mpredict\u001b[0m\u001b[0;34m(\u001b[0m\u001b[0mX_test\u001b[0m\u001b[0;34m)\u001b[0m\u001b[0;34m\u001b[0m\u001b[0;34m\u001b[0m\u001b[0m\n\u001b[0m\u001b[1;32m      2\u001b[0m \u001b[0mX_test\u001b[0m \u001b[0;34m=\u001b[0m \u001b[0mX_test\u001b[0m\u001b[0;34m.\u001b[0m\u001b[0mreshape\u001b[0m\u001b[0;34m(\u001b[0m\u001b[0;34m(\u001b[0m\u001b[0mX_test\u001b[0m\u001b[0;34m.\u001b[0m\u001b[0mshape\u001b[0m\u001b[0;34m[\u001b[0m\u001b[0;36m0\u001b[0m\u001b[0;34m]\u001b[0m\u001b[0;34m,\u001b[0m \u001b[0mX_test\u001b[0m\u001b[0;34m.\u001b[0m\u001b[0mshape\u001b[0m\u001b[0;34m[\u001b[0m\u001b[0;36m2\u001b[0m\u001b[0;34m]\u001b[0m\u001b[0;34m)\u001b[0m\u001b[0;34m)\u001b[0m\u001b[0;34m\u001b[0m\u001b[0;34m\u001b[0m\u001b[0m\n\u001b[1;32m      3\u001b[0m \u001b[0;34m\u001b[0m\u001b[0m\n\u001b[1;32m      4\u001b[0m \u001b[0minv_yhat\u001b[0m \u001b[0;34m=\u001b[0m \u001b[0mconcatenate\u001b[0m\u001b[0;34m(\u001b[0m\u001b[0;34m(\u001b[0m\u001b[0myhat\u001b[0m\u001b[0;34m,\u001b[0m \u001b[0mX_test\u001b[0m\u001b[0;34m[\u001b[0m\u001b[0;34m:\u001b[0m\u001b[0;34m,\u001b[0m\u001b[0;36m1\u001b[0m\u001b[0;34m:\u001b[0m\u001b[0;34m]\u001b[0m\u001b[0;34m)\u001b[0m\u001b[0;34m,\u001b[0m \u001b[0maxis\u001b[0m\u001b[0;34m=\u001b[0m\u001b[0;36m1\u001b[0m\u001b[0;34m)\u001b[0m\u001b[0;34m\u001b[0m\u001b[0;34m\u001b[0m\u001b[0m\n\u001b[1;32m      5\u001b[0m \u001b[0minv_yhat\u001b[0m \u001b[0;34m=\u001b[0m \u001b[0mscl\u001b[0m\u001b[0;34m.\u001b[0m\u001b[0minverse_transform\u001b[0m\u001b[0;34m(\u001b[0m\u001b[0minv_yhat\u001b[0m\u001b[0;34m)\u001b[0m\u001b[0;34m\u001b[0m\u001b[0;34m\u001b[0m\u001b[0m\n",
            "\u001b[0;31mNameError\u001b[0m: name 'X_test' is not defined"
          ]
        }
      ]
    },
    {
      "cell_type": "code",
      "metadata": {
        "id": "Q6rQYyscCNj0"
      },
      "source": [
        "Y_test = Y_test.reshape((len(Y_test)), 1)\n",
        "inv_y = concatenate((Y_test, X_test[:, 1:]), axis=1)\n",
        "inv_y = scl.inverse_transform(inv_y)\n",
        "inv_y = inv_y[:,0]"
      ],
      "execution_count": null,
      "outputs": []
    },
    {
      "cell_type": "code",
      "metadata": {
        "colab": {
          "base_uri": "https://localhost:8080/"
        },
        "id": "dkr_mhT7KsM4",
        "outputId": "f0ac9571-5d59-4934-c04b-a795103ab3da"
      },
      "source": [
        "print('PRED: \\n', inv_yhat, ' \\nREAL: \\n', inv_y)"
      ],
      "execution_count": null,
      "outputs": [
        {
          "output_type": "stream",
          "text": [
            "PRED: \n",
            " [31807.49179664 32415.1705936  31662.89979524 33552.0475518\n",
            " 36119.86253894 38391.77545894 39619.23621309 39148.23627799\n",
            " 37465.30672779 34965.94729224 33479.00765308 36550.42587139\n",
            " 38204.47766355 36080.04524652 35498.06298519 35168.22949186\n",
            " 35924.42903942 35419.90893883 31643.01171206 31643.01171206]  \n",
            "REAL: \n",
            " [32782.0234375  31971.9140625  33992.4296875  36824.36328125\n",
            " 39371.04296875 40797.609375   40254.546875   38356.44140625\n",
            " 35566.65625    33922.9609375  37316.359375   39187.328125\n",
            " 36825.3671875  36178.140625   35791.27734375 36630.07421875\n",
            " 36069.8046875  31928.91601562 31928.91601562 31928.91601562]\n"
          ],
          "name": "stdout"
        }
      ]
    },
    {
      "cell_type": "code",
      "metadata": {
        "colab": {
          "base_uri": "https://localhost:8080/",
          "height": 606
        },
        "id": "31tOcSiZCNmu",
        "outputId": "cfc49e3b-ee1a-4c5a-9abc-192df6e9a70c"
      },
      "source": [
        "plt.figure(figsize = (15,10))\n",
        "plt.plot(inv_yhat, color='r', label='Prediction') \n",
        "plt.plot(inv_y, label='Target')\n",
        "plt.xticks(np.arange(0, 20, 1), np.arange(1, 21, 1))\n",
        "plt.xlabel('Days')\n",
        "plt.ylabel('USD')\n",
        "plt.legend(loc='best')\n",
        "plt.show()"
      ],
      "execution_count": null,
      "outputs": [
        {
          "output_type": "display_data",
          "data": {
            "image/png": "[encoded data removed]",
            "text/plain": [
              "<Figure size 1080x720 with 1 Axes>"
            ]
          },
          "metadata": {
            "tags": [],
            "needs_background": "light"
          }
        }
      ]
    },
    {
      "cell_type": "markdown",
      "metadata": {
        "id": "QzE6YSBM2qDP"
      },
      "source": [
        "-------"
      ]
    },
    {
      "cell_type": "markdown",
      "metadata": {
        "id": "UlXJYmQjYp_I"
      },
      "source": [
        "#### Loading model fron **/content** or **gdrive** and predicting"
      ]
    },
    {
      "cell_type": "code",
      "metadata": {
        "id": "QXZfBqU0YGLZ",
        "colab": {
          "base_uri": "https://localhost:8080/"
        },
        "outputId": "072b2f18-8eb5-4d71-a7df-c000d936b4f0"
      },
      "source": [
        "# Loading Model\n",
        "\n",
        "file_name = '/content/gdrive/MyDrive/ColabData/LSTM_MULTI-7.h5'\n",
        "#file_name = '/content/LSTM_MULTI.h5'\n",
        "model = tf.keras.models.load_model(file_name)\n",
        "model.summary()"
      ],
      "execution_count": null,
      "outputs": [
        {
          "output_type": "stream",
          "text": [
            "WARNING:tensorflow:Error in loading the saved optimizer state. As a result, your model is starting with a freshly initialized optimizer.\n",
            "Model: \"sequential\"\n",
            "_________________________________________________________________\n",
            "Layer (type)                 Output Shape              Param #   \n",
            "=================================================================\n",
            "lstm (LSTM)                  (None, 1, 100)            51600     \n",
            "_________________________________________________________________\n",
            "dropout (Dropout)            (None, 1, 100)            0         \n",
            "_________________________________________________________________\n",
            "lstm_1 (LSTM)                (None, 70)                47880     \n",
            "_________________________________________________________________\n",
            "dropout_1 (Dropout)          (None, 70)                0         \n",
            "_________________________________________________________________\n",
            "dense (Dense)                (None, 1)                 71        \n",
            "=================================================================\n",
            "Total params: 99,551\n",
            "Trainable params: 99,551\n",
            "Non-trainable params: 0\n",
            "_________________________________________________________________\n"
          ],
          "name": "stdout"
        }
      ]
    },
    {
      "cell_type": "code",
      "metadata": {
        "colab": {
          "base_uri": "https://localhost:8080/"
        },
        "id": "kdM6oDYsdHnP",
        "outputId": "8a88660c-59c1-4033-c7bc-5a49f00e424f"
      },
      "source": [
        "#yhat = model.predict(predict_X)\n",
        "yhat = best_model.predict(predict_X)\n",
        "yhat, yhat.shape"
      ],
      "execution_count": 18,
      "outputs": [
        {
          "output_type": "execute_result",
          "data": {
            "text/plain": [
              "(array([[1.0178818 ],\n",
              "        [1.0010853 ],\n",
              "        [0.90966254]], dtype=float32), (3, 1))"
            ]
          },
          "metadata": {
            "tags": []
          },
          "execution_count": 18
        }
      ]
    },
    {
      "cell_type": "code",
      "metadata": {
        "colab": {
          "base_uri": "https://localhost:8080/"
        },
        "id": "kv8VEywDgcbg",
        "outputId": "17ea6756-30c7-44ab-8f85-0bd9cc0e81df"
      },
      "source": [
        "g = yhat\n",
        "\n",
        "g = np.insert(g, [1], .4, axis = 1)\n",
        "g = np.insert(g, [2], .4, axis = 1)\n",
        "g = np.insert(g, [3], .4, axis = 1)\n",
        "g, g.shape"
      ],
      "execution_count": 20,
      "outputs": [
        {
          "output_type": "execute_result",
          "data": {
            "text/plain": [
              "(array([[1.0178818 , 0.4       , 0.4       , 0.4       ],\n",
              "        [1.0010853 , 0.4       , 0.4       , 0.4       ],\n",
              "        [0.90966254, 0.4       , 0.4       , 0.4       ]], dtype=float32),\n",
              " (3, 4))"
            ]
          },
          "metadata": {
            "tags": []
          },
          "execution_count": 20
        }
      ]
    },
    {
      "cell_type": "code",
      "metadata": {
        "id": "4POputGFg945",
        "colab": {
          "base_uri": "https://localhost:8080/"
        },
        "outputId": "cd77b561-3039-4fe4-bd3d-a27efdc2f5d3"
      },
      "source": [
        "h = scl.inverse_transform(g)\n",
        "\n",
        "h[:, :1]"
      ],
      "execution_count": 21,
      "outputs": [
        {
          "output_type": "execute_result",
          "data": {
            "text/plain": [
              "array([[41523.375],\n",
              "       [40841.656],\n",
              "       [37131.074]], dtype=float32)"
            ]
          },
          "metadata": {
            "tags": []
          },
          "execution_count": 21
        }
      ]
    },
    {
      "cell_type": "code",
      "metadata": {
        "id": "xQ__VIAKLSTa",
        "colab": {
          "base_uri": "https://localhost:8080/"
        },
        "outputId": "facb9af9-1751-436a-979b-1a51134f4852"
      },
      "source": [
        "predict_Y # real values"
      ],
      "execution_count": 24,
      "outputs": [
        {
          "output_type": "execute_result",
          "data": {
            "text/plain": [
              "array([0.93985362, 0.87665218, 0.78074231])"
            ]
          },
          "metadata": {
            "tags": []
          },
          "execution_count": 24
        }
      ]
    },
    {
      "cell_type": "code",
      "metadata": {
        "colab": {
          "base_uri": "https://localhost:8080/",
          "height": 606
        },
        "id": "qmFGjLXh2VE1",
        "outputId": "9f931623-0113-4a53-d960-ab10666f8c06"
      },
      "source": [
        "plt.figure(figsize = (15,10))\n",
        "plt.plot(inv_yhat, color='r', label='Prediction') \n",
        "plt.plot(inv_y, label='Target')\n",
        "plt.xticks(np.arange(0, 20, 1), np.arange(1, 21, 1))\n",
        "plt.xlabel('Days')\n",
        "plt.ylabel('USD')\n",
        "plt.legend(loc='best')\n",
        "plt.show()"
      ],
      "execution_count": null,
      "outputs": [
        {
          "output_type": "display_data",
          "data": {
            "image/png": "[encoded data removed]",
            "text/plain": [
              "<Figure size 1080x720 with 1 Axes>"
            ]
          },
          "metadata": {
            "tags": [],
            "needs_background": "light"
          }
        }
      ]
    },
    {
      "cell_type": "markdown",
      "metadata": {
        "id": "GwhjjK93RsnS"
      },
      "source": [
        "#DELETE LAST REAL VALUE - "
      ]
    },
    {
      "cell_type": "code",
      "metadata": {
        "id": "PQssQNCb2VH9",
        "colab": {
          "base_uri": "https://localhost:8080/"
        },
        "outputId": "9d57c395-7d1e-4579-d181-ded13f7a75b0"
      },
      "source": [
        "print('PRED: \\n', inv_yhat, ' \\nREAL: \\n', inv_y) \n"
      ],
      "execution_count": null,
      "outputs": [
        {
          "output_type": "stream",
          "text": [
            "PRED: \n",
            " [0.72545075 0.79005134 0.80548388 0.78637981 0.83389902 0.89982134\n",
            " 0.9578917  0.99042833 0.97844297 0.93589759 0.87229002 0.8340897\n",
            " 0.91234237 0.95437187 0.90111589 0.88629836 0.87752491 0.89676785\n",
            " 0.88392913 0.86212522]  \n",
            "REAL: \n",
            " [0.78637698 0.8025091  0.78254933 0.83233152 0.90210573 0.96485174\n",
            " 1.         0.98661983 0.93985362 0.87111789 0.83061993 0.9142277\n",
            " 0.96032531 0.90213046 0.88618386 0.87665218 0.89731876 0.88351464\n",
            " 0.86021214 0.86021214]\n"
          ],
          "name": "stdout"
        }
      ]
    },
    {
      "cell_type": "code",
      "metadata": {
        "id": "G2KD0QIIPfM8"
      },
      "source": [
        ""
      ],
      "execution_count": null,
      "outputs": []
    }
  ]
}