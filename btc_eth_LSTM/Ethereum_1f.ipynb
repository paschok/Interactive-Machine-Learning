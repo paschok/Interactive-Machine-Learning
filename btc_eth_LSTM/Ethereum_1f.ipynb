{
  "nbformat": 4,
  "nbformat_minor": 0,
  "metadata": {
    "colab": {
      "name": "Ethereum-1f.ipynb",
      "provenance": [],
      "collapsed_sections": []
    },
    "kernelspec": {
      "name": "python3",
      "display_name": "Python 3"
    },
    "accelerator": "GPU"
  },
  "cells": [
    {
      "cell_type": "markdown",
      "metadata": {
        "id": "6g_BQl183Xd1"
      },
      "source": [
        "### All needed impots"
      ]
    },
    {
      "cell_type": "code",
      "metadata": {
        "id": "VBXq-Wb_K1XR",
        "colab": {
          "base_uri": "https://localhost:8080/"
        },
        "outputId": "f599c03f-ddcc-455a-cfbf-8e779fa96c0e"
      },
      "source": [
        "import os\n",
        "import numpy as np\n",
        "\n",
        "import pandas as pd\n",
        "import matplotlib.pyplot as plt\n",
        "%matplotlib inline\n",
        "\n",
        "from sklearn.preprocessing import MinMaxScaler\n",
        "\n",
        "from tensorflow import keras\n",
        "from tensorflow.keras.layers import Bidirectional, Dropout, Activation, Dense, LSTM\n",
        "from tensorflow.python.keras.layers import CuDNNLSTM\n",
        "from tensorflow.keras.models import Sequential\n",
        "\n",
        "!pip install yfinance\n",
        "import yfinance as yf"
      ],
      "execution_count": 1,
      "outputs": [
        {
          "output_type": "stream",
          "text": [
            "Collecting yfinance\n",
            "  Downloading https://files.pythonhosted.org/packages/7a/e8/b9d7104d3a4bf39924799067592d9e59119fcfc900a425a12e80a3123ec8/yfinance-0.1.55.tar.gz\n",
            "Requirement already satisfied: pandas>=0.24 in /usr/local/lib/python3.6/dist-packages (from yfinance) (1.1.5)\n",
            "Requirement already satisfied: numpy>=1.15 in /usr/local/lib/python3.6/dist-packages (from yfinance) (1.19.5)\n",
            "Requirement already satisfied: requests>=2.20 in /usr/local/lib/python3.6/dist-packages (from yfinance) (2.23.0)\n",
            "Requirement already satisfied: multitasking>=0.0.7 in /usr/local/lib/python3.6/dist-packages (from yfinance) (0.0.9)\n",
            "Collecting lxml>=4.5.1\n",
            "\u001b[?25l  Downloading https://files.pythonhosted.org/packages/bd/78/56a7c88a57d0d14945472535d0df9fb4bbad7d34ede658ec7961635c790e/lxml-4.6.2-cp36-cp36m-manylinux1_x86_64.whl (5.5MB)\n",
            "\u001b[K     |████████████████████████████████| 5.5MB 21.0MB/s \n",
            "\u001b[?25hRequirement already satisfied: python-dateutil>=2.7.3 in /usr/local/lib/python3.6/dist-packages (from pandas>=0.24->yfinance) (2.8.1)\n",
            "Requirement already satisfied: pytz>=2017.2 in /usr/local/lib/python3.6/dist-packages (from pandas>=0.24->yfinance) (2018.9)\n",
            "Requirement already satisfied: chardet<4,>=3.0.2 in /usr/local/lib/python3.6/dist-packages (from requests>=2.20->yfinance) (3.0.4)\n",
            "Requirement already satisfied: urllib3!=1.25.0,!=1.25.1,<1.26,>=1.21.1 in /usr/local/lib/python3.6/dist-packages (from requests>=2.20->yfinance) (1.24.3)\n",
            "Requirement already satisfied: certifi>=2017.4.17 in /usr/local/lib/python3.6/dist-packages (from requests>=2.20->yfinance) (2020.12.5)\n",
            "Requirement already satisfied: idna<3,>=2.5 in /usr/local/lib/python3.6/dist-packages (from requests>=2.20->yfinance) (2.10)\n",
            "Requirement already satisfied: six>=1.5 in /usr/local/lib/python3.6/dist-packages (from python-dateutil>=2.7.3->pandas>=0.24->yfinance) (1.15.0)\n",
            "Building wheels for collected packages: yfinance\n",
            "  Building wheel for yfinance (setup.py) ... \u001b[?25l\u001b[?25hdone\n",
            "  Created wheel for yfinance: filename=yfinance-0.1.55-py2.py3-none-any.whl size=22616 sha256=fd90791746ee8ca6eeda864c057ac2d2884bc07bfb154b91603518d835741f69\n",
            "  Stored in directory: /root/.cache/pip/wheels/04/98/cc/2702a4242d60bdc14f48b4557c427ded1fe92aedf257d4565c\n",
            "Successfully built yfinance\n",
            "Installing collected packages: lxml, yfinance\n",
            "  Found existing installation: lxml 4.2.6\n",
            "    Uninstalling lxml-4.2.6:\n",
            "      Successfully uninstalled lxml-4.2.6\n",
            "Successfully installed lxml-4.6.2 yfinance-0.1.55\n"
          ],
          "name": "stdout"
        }
      ]
    },
    {
      "cell_type": "markdown",
      "metadata": {
        "id": "OC01dl213jzr"
      },
      "source": [
        "### Downlodaing Ethereum dataframe with yahoo finance API and then plotting the dataframe\n",
        "\n",
        "**reset_index** method is used only to make normal numerical indexes, instead of *Date* beeig an index\n"
      ]
    },
    {
      "cell_type": "code",
      "metadata": {
        "id": "BnuBLC5DLjXH",
        "colab": {
          "base_uri": "https://localhost:8080/",
          "height": 436
        },
        "outputId": "7818f400-b674-4411-dd80-2cf4c8be2a32"
      },
      "source": [
        "df = yf.download('ETH-USD', start='2015-08-07')\n",
        "df = df.reset_index()\n",
        "df"
      ],
      "execution_count": 2,
      "outputs": [
        {
          "output_type": "stream",
          "text": [
            "\r[*********************100%***********************]  1 of 1 completed\n"
          ],
          "name": "stdout"
        },
        {
          "output_type": "execute_result",
          "data": {
            "text/html": [
              "<div>\n",
              "<style scoped>\n",
              "    .dataframe tbody tr th:only-of-type {\n",
              "        vertical-align: middle;\n",
              "    }\n",
              "\n",
              "    .dataframe tbody tr th {\n",
              "        vertical-align: top;\n",
              "    }\n",
              "\n",
              "    .dataframe thead th {\n",
              "        text-align: right;\n",
              "    }\n",
              "</style>\n",
              "<table border=\"1\" class=\"dataframe\">\n",
              "  <thead>\n",
              "    <tr style=\"text-align: right;\">\n",
              "      <th></th>\n",
              "      <th>Date</th>\n",
              "      <th>Open</th>\n",
              "      <th>High</th>\n",
              "      <th>Low</th>\n",
              "      <th>Close</th>\n",
              "      <th>Adj Close</th>\n",
              "      <th>Volume</th>\n",
              "    </tr>\n",
              "  </thead>\n",
              "  <tbody>\n",
              "    <tr>\n",
              "      <th>0</th>\n",
              "      <td>2015-08-07</td>\n",
              "      <td>2.831620</td>\n",
              "      <td>3.536610</td>\n",
              "      <td>2.521120</td>\n",
              "      <td>2.772120</td>\n",
              "      <td>2.772120</td>\n",
              "      <td>164329</td>\n",
              "    </tr>\n",
              "    <tr>\n",
              "      <th>1</th>\n",
              "      <td>2015-08-08</td>\n",
              "      <td>2.793760</td>\n",
              "      <td>2.798810</td>\n",
              "      <td>0.714725</td>\n",
              "      <td>0.753325</td>\n",
              "      <td>0.753325</td>\n",
              "      <td>674188</td>\n",
              "    </tr>\n",
              "    <tr>\n",
              "      <th>2</th>\n",
              "      <td>2015-08-09</td>\n",
              "      <td>0.706136</td>\n",
              "      <td>0.879810</td>\n",
              "      <td>0.629191</td>\n",
              "      <td>0.701897</td>\n",
              "      <td>0.701897</td>\n",
              "      <td>532170</td>\n",
              "    </tr>\n",
              "    <tr>\n",
              "      <th>3</th>\n",
              "      <td>2015-08-10</td>\n",
              "      <td>0.713989</td>\n",
              "      <td>0.729854</td>\n",
              "      <td>0.636546</td>\n",
              "      <td>0.708448</td>\n",
              "      <td>0.708448</td>\n",
              "      <td>405283</td>\n",
              "    </tr>\n",
              "    <tr>\n",
              "      <th>4</th>\n",
              "      <td>2015-08-11</td>\n",
              "      <td>0.708087</td>\n",
              "      <td>1.131410</td>\n",
              "      <td>0.663235</td>\n",
              "      <td>1.067860</td>\n",
              "      <td>1.067860</td>\n",
              "      <td>1463100</td>\n",
              "    </tr>\n",
              "    <tr>\n",
              "      <th>...</th>\n",
              "      <td>...</td>\n",
              "      <td>...</td>\n",
              "      <td>...</td>\n",
              "      <td>...</td>\n",
              "      <td>...</td>\n",
              "      <td>...</td>\n",
              "      <td>...</td>\n",
              "    </tr>\n",
              "    <tr>\n",
              "      <th>1996</th>\n",
              "      <td>2021-01-27</td>\n",
              "      <td>1358.333374</td>\n",
              "      <td>1368.074097</td>\n",
              "      <td>1215.311279</td>\n",
              "      <td>1253.187134</td>\n",
              "      <td>1253.187134</td>\n",
              "      <td>39394416990</td>\n",
              "    </tr>\n",
              "    <tr>\n",
              "      <th>1997</th>\n",
              "      <td>2021-01-28</td>\n",
              "      <td>1251.279785</td>\n",
              "      <td>1321.613037</td>\n",
              "      <td>1226.173950</td>\n",
              "      <td>1298.101807</td>\n",
              "      <td>1298.101807</td>\n",
              "      <td>39790481941</td>\n",
              "    </tr>\n",
              "    <tr>\n",
              "      <th>1998</th>\n",
              "      <td>2021-01-29</td>\n",
              "      <td>1369.086792</td>\n",
              "      <td>1428.981201</td>\n",
              "      <td>1292.240112</td>\n",
              "      <td>1382.522827</td>\n",
              "      <td>1382.522827</td>\n",
              "      <td>53611955259</td>\n",
              "    </tr>\n",
              "    <tr>\n",
              "      <th>1999</th>\n",
              "      <td>2021-01-30</td>\n",
              "      <td>1382.231934</td>\n",
              "      <td>1402.399780</td>\n",
              "      <td>1328.529053</td>\n",
              "      <td>1376.115479</td>\n",
              "      <td>1376.115479</td>\n",
              "      <td>30616574234</td>\n",
              "    </tr>\n",
              "    <tr>\n",
              "      <th>2000</th>\n",
              "      <td>2021-01-31</td>\n",
              "      <td>1304.154785</td>\n",
              "      <td>1377.257202</td>\n",
              "      <td>1291.700562</td>\n",
              "      <td>1316.006836</td>\n",
              "      <td>1316.006836</td>\n",
              "      <td>25216753664</td>\n",
              "    </tr>\n",
              "  </tbody>\n",
              "</table>\n",
              "<p>2001 rows × 7 columns</p>\n",
              "</div>"
            ],
            "text/plain": [
              "           Date         Open  ...    Adj Close       Volume\n",
              "0    2015-08-07     2.831620  ...     2.772120       164329\n",
              "1    2015-08-08     2.793760  ...     0.753325       674188\n",
              "2    2015-08-09     0.706136  ...     0.701897       532170\n",
              "3    2015-08-10     0.713989  ...     0.708448       405283\n",
              "4    2015-08-11     0.708087  ...     1.067860      1463100\n",
              "...         ...          ...  ...          ...          ...\n",
              "1996 2021-01-27  1358.333374  ...  1253.187134  39394416990\n",
              "1997 2021-01-28  1251.279785  ...  1298.101807  39790481941\n",
              "1998 2021-01-29  1369.086792  ...  1382.522827  53611955259\n",
              "1999 2021-01-30  1382.231934  ...  1376.115479  30616574234\n",
              "2000 2021-01-31  1304.154785  ...  1316.006836  25216753664\n",
              "\n",
              "[2001 rows x 7 columns]"
            ]
          },
          "metadata": {
            "tags": []
          },
          "execution_count": 2
        }
      ]
    },
    {
      "cell_type": "code",
      "metadata": {
        "colab": {
          "base_uri": "https://localhost:8080/",
          "height": 286
        },
        "id": "Xm-0oHdJ_Gjo",
        "outputId": "1bb8ddd3-abf7-400d-8eed-f5a64bc4f20b"
      },
      "source": [
        "ax = df.plot(x='Date', y='Close');\n",
        "ax.set_xlabel(\"Date\")\n",
        "ax.set_ylabel(\"Close Price (USD)\")"
      ],
      "execution_count": 3,
      "outputs": [
        {
          "output_type": "execute_result",
          "data": {
            "text/plain": [
              "Text(0, 0.5, 'Close Price (USD)')"
            ]
          },
          "metadata": {
            "tags": []
          },
          "execution_count": 3
        },
        {
          "output_type": "display_data",
          "data": {
            "image/png": "[encoded data removed]",
            "text/plain": [
              "<Figure size 432x288 with 1 Axes>"
            ]
          },
          "metadata": {
            "tags": [],
            "needs_background": "light"
          }
        }
      ]
    },
    {
      "cell_type": "code",
      "metadata": {
        "colab": {
          "base_uri": "https://localhost:8080/"
        },
        "id": "bmzjt2mo4zus",
        "outputId": "c9ec8b98-76af-4b91-e8c0-a33d20330666"
      },
      "source": [
        "df.Close.values.shape"
      ],
      "execution_count": 7,
      "outputs": [
        {
          "output_type": "execute_result",
          "data": {
            "text/plain": [
              "(2001,)"
            ]
          },
          "metadata": {
            "tags": []
          },
          "execution_count": 7
        }
      ]
    },
    {
      "cell_type": "code",
      "metadata": {
        "colab": {
          "base_uri": "https://localhost:8080/"
        },
        "id": "D7T8gi6P40Hv",
        "outputId": "b9829864-2a7c-4978-ea96-baf46fb8d5ed"
      },
      "source": [
        "df.Close.values.reshape(-1,1).shape"
      ],
      "execution_count": 6,
      "outputs": [
        {
          "output_type": "execute_result",
          "data": {
            "text/plain": [
              "(2001, 1)"
            ]
          },
          "metadata": {
            "tags": []
          },
          "execution_count": 6
        }
      ]
    },
    {
      "cell_type": "markdown",
      "metadata": {
        "id": "7twAH-I-qO9Z"
      },
      "source": [
        "### Normalization\n",
        "\n",
        "Since the scaler expects the data to be shaped as (x, y), I'm adding a dummy dimension using reshape before applying it. \n",
        "\n",
        "**reshape** method transforms array of *Closed* values from shape (2001, 1) into (2001, 1)"
      ]
    },
    {
      "cell_type": "code",
      "metadata": {
        "id": "Ux2FtgMAqObq",
        "colab": {
          "base_uri": "https://localhost:8080/"
        },
        "outputId": "1e780a59-40fa-4e98-93e2-dcb88f8b0e69"
      },
      "source": [
        "scaler = MinMaxScaler()\n",
        "\n",
        "close_price = df.Close.values.reshape(-1, 1)\n",
        "\n",
        "scaled_close = scaler.fit_transform(close_price)\n",
        "\n",
        "scaled_close.shape, np.isnan(scaled_close).any()"
      ],
      "execution_count": 8,
      "outputs": [
        {
          "output_type": "execute_result",
          "data": {
            "text/plain": [
              "((2001, 1), False)"
            ]
          },
          "metadata": {
            "tags": []
          },
          "execution_count": 8
        }
      ]
    },
    {
      "cell_type": "markdown",
      "metadata": {
        "id": "CQgrA2va4Jzx"
      },
      "source": [
        "### Preprocessing\n",
        "\n",
        " LSTMs expect the data to be in 3 dimensions. We need to split the data into sequences of some preset length. The shape we want to obtain is: **[batch_size, sequence_length, n_features]**\n",
        "\n",
        " The process of building sequences works by creating a sequence of a specified length at position 0. Then it's shifted one position to the right (e.g. 1) and creates another sequence. The process is repeated until all possible positions are used.\n",
        "\n",
        " Here, *SEQ_LEN* parameter is set to 20, which means, that 20 days are predicting the next one"
      ]
    },
    {
      "cell_type": "code",
      "metadata": {
        "id": "NS5O4-Vtq-N1",
        "colab": {
          "base_uri": "https://localhost:8080/"
        },
        "outputId": "6bd2c431-9506-4d67-dca7-f06b5ecb89fd"
      },
      "source": [
        "SEQ_LEN = 20\n",
        "\n",
        "def to_sequences(data, seq_len):\n",
        "    d = []\n",
        "\n",
        "    for index in range(len(data) - seq_len + 1):\n",
        "        d.append(data[index: index + seq_len])\n",
        "\n",
        "\n",
        "    return np.array(d)\n",
        "\n",
        "def preprocess(data_raw, seq_len, train_split):\n",
        "\n",
        "    data = to_sequences(data_raw, seq_len)\n",
        "\n",
        "    num_train = int(train_split * data.shape[0])\n",
        "\n",
        "    X_train = data[:num_train, :, :]\n",
        "    y_train = data[:num_train, -1, :]\n",
        "\n",
        "    X_test = data[num_train:, :, :]\n",
        "    y_test = data[num_train:, -1, :]\n",
        "\n",
        "    return X_train, y_train, X_test, y_test\n",
        "\n",
        "X_train, y_train, X_test, y_test = preprocess(scaled_close, SEQ_LEN, train_split = 0.95)\n",
        "\n",
        "X_train.shape, X_test.shape"
      ],
      "execution_count": 9,
      "outputs": [
        {
          "output_type": "execute_result",
          "data": {
            "text/plain": [
              "((1882, 20, 1), (100, 20, 1))"
            ]
          },
          "metadata": {
            "tags": []
          },
          "execution_count": 9
        }
      ]
    },
    {
      "cell_type": "markdown",
      "metadata": {
        "id": "-Gsuu4hy6h3k"
      },
      "source": [
        "Simply checking arrays"
      ]
    },
    {
      "cell_type": "code",
      "metadata": {
        "colab": {
          "base_uri": "https://localhost:8080/"
        },
        "id": "ubAtYEdL3Q0e",
        "outputId": "c31eef40-0322-4371-c125-6cb3e4306ee9"
      },
      "source": [
        "print(df['Close'].tail(5))\n",
        "\n",
        "print(scaled_close[-5:])"
      ],
      "execution_count": 10,
      "outputs": [
        {
          "output_type": "stream",
          "text": [
            "1996    1253.187134\n",
            "1997    1298.101807\n",
            "1998    1382.522827\n",
            "1999    1376.115479\n",
            "2000    1316.006836\n",
            "Name: Close, dtype: float64\n",
            "[[0.89739654]\n",
            " [0.92957072]\n",
            " [0.99004487]\n",
            " [0.98545503]\n",
            " [0.94239681]]\n"
          ],
          "name": "stdout"
        }
      ]
    },
    {
      "cell_type": "code",
      "metadata": {
        "colab": {
          "base_uri": "https://localhost:8080/"
        },
        "id": "wP65Eklq1_1Z",
        "outputId": "5941e417-17d8-4990-ffc3-fbbe9c74a972"
      },
      "source": [
        "X_test[99], X_test.shape"
      ],
      "execution_count": null,
      "outputs": [
        {
          "output_type": "execute_result",
          "data": {
            "text/plain": [
              "(array([[0.7471424 ],\n",
              "        [0.80968232],\n",
              "        [0.8725151 ],\n",
              "        [0.83912047],\n",
              "        [0.88332079],\n",
              "        [0.88091005],\n",
              "        [0.9003281 ],\n",
              "        [0.98630061],\n",
              "        [0.98986666],\n",
              "        [0.80311459],\n",
              "        [0.88545163],\n",
              "        [0.88149628],\n",
              "        [0.99655393],\n",
              "        [0.94841976],\n",
              "        [0.97180347],\n",
              "        [0.89739654],\n",
              "        [0.92957072],\n",
              "        [0.99004487],\n",
              "        [0.98545503],\n",
              "        [0.94324195]]), (100, 20, 1))"
            ]
          },
          "metadata": {
            "tags": []
          },
          "execution_count": 9
        }
      ]
    },
    {
      "cell_type": "code",
      "metadata": {
        "colab": {
          "base_uri": "https://localhost:8080/"
        },
        "id": "e_cHGX5NSpLP",
        "outputId": "e5170fc7-1a7a-474f-a2f7-c24ec166f96d"
      },
      "source": [
        "y_test[-5:], y_test.shape"
      ],
      "execution_count": null,
      "outputs": [
        {
          "output_type": "execute_result",
          "data": {
            "text/plain": [
              "(array([[0.89739654],\n",
              "        [0.92957072],\n",
              "        [0.99004487],\n",
              "        [0.98545503],\n",
              "        [0.94324195]]), (100, 1))"
            ]
          },
          "metadata": {
            "tags": []
          },
          "execution_count": 10
        }
      ]
    },
    {
      "cell_type": "markdown",
      "metadata": {
        "id": "Yhhv26c34YTW"
      },
      "source": [
        "### Model\n",
        "\n",
        "Bidirectional RNNs allows us to train on the sequence data in forward and backward (reversed) direction. In practice, this approach works well with LSTMs.\n",
        "CuDNNLSTM is a “Fast LSTM implementation backed by cuDNN”. \n",
        "\n",
        "The output layer has a single neuron (predicted Ethereum price). "
      ]
    },
    {
      "cell_type": "code",
      "metadata": {
        "id": "a3dw5qTasJoy"
      },
      "source": [
        "DROPOUT = 0.2\n",
        "WINDOW_SIZE = SEQ_LEN \n",
        "\n",
        "model = keras.Sequential()\n",
        "\n",
        "model.add(Bidirectional(CuDNNLSTM(WINDOW_SIZE, return_sequences=True),\n",
        "                        input_shape=(WINDOW_SIZE, X_train.shape[-1])))\n",
        "model.add(Dropout(rate=DROPOUT))\n",
        "\n",
        "model.add(Bidirectional(CuDNNLSTM((WINDOW_SIZE * 2), return_sequences=True)))\n",
        "model.add(Dropout(rate=DROPOUT))\n",
        "\n",
        "\"\"\"model.add(Bidirectional(CuDNNLSTM((WINDOW_SIZE * 2), return_sequences=True)))\n",
        "model.add(Dropout(rate=DROPOUT))\"\"\"\n",
        "\n",
        "model.add(Bidirectional(CuDNNLSTM(WINDOW_SIZE, return_sequences=False)))\n",
        "\n",
        "model.add(Dense(units=1))\n",
        "\n",
        "model.add(Activation('linear'))"
      ],
      "execution_count": 11,
      "outputs": []
    },
    {
      "cell_type": "markdown",
      "metadata": {
        "id": "pjBan-K27L8d"
      },
      "source": [
        "### Training"
      ]
    },
    {
      "cell_type": "code",
      "metadata": {
        "id": "zvc-LMgOHkWJ",
        "colab": {
          "base_uri": "https://localhost:8080/"
        },
        "outputId": "f7a78500-813e-4d1c-9249-739f57ce843a"
      },
      "source": [
        "model.compile(\n",
        "    loss='mean_squared_error', \n",
        "    optimizer='adam'\n",
        ")\n",
        "\n",
        "model.summary()"
      ],
      "execution_count": 12,
      "outputs": [
        {
          "output_type": "stream",
          "text": [
            "Model: \"sequential\"\n",
            "_________________________________________________________________\n",
            "Layer (type)                 Output Shape              Param #   \n",
            "=================================================================\n",
            "bidirectional (Bidirectional (None, 20, 40)            3680      \n",
            "_________________________________________________________________\n",
            "dropout (Dropout)            (None, 20, 40)            0         \n",
            "_________________________________________________________________\n",
            "bidirectional_1 (Bidirection (None, 20, 80)            26240     \n",
            "_________________________________________________________________\n",
            "dropout_1 (Dropout)          (None, 20, 80)            0         \n",
            "_________________________________________________________________\n",
            "bidirectional_2 (Bidirection (None, 40)                16320     \n",
            "_________________________________________________________________\n",
            "dense (Dense)                (None, 1)                 41        \n",
            "_________________________________________________________________\n",
            "activation (Activation)      (None, 1)                 0         \n",
            "=================================================================\n",
            "Total params: 46,281\n",
            "Trainable params: 46,281\n",
            "Non-trainable params: 0\n",
            "_________________________________________________________________\n"
          ],
          "name": "stdout"
        }
      ]
    },
    {
      "cell_type": "code",
      "metadata": {
        "id": "m1aU2xDvsvrN",
        "colab": {
          "base_uri": "https://localhost:8080/"
        },
        "outputId": "a1f8c93c-2290-41fa-8068-2838f9593b79"
      },
      "source": [
        "BATCH_SIZE = 32\n",
        "EPOCHS = 100\n",
        "\n",
        "history = model.fit(\n",
        "    X_train, \n",
        "    y_train, \n",
        "    epochs=EPOCHS, \n",
        "    batch_size=BATCH_SIZE, \n",
        "    shuffle=False,\n",
        "    validation_split=0.1\n",
        ")"
      ],
      "execution_count": 13,
      "outputs": [
        {
          "output_type": "stream",
          "text": [
            "Epoch 1/100\n",
            "53/53 [==============================] - 20s 115ms/step - loss: 0.0075 - val_loss: 0.0129\n",
            "Epoch 2/100\n",
            "53/53 [==============================] - 1s 12ms/step - loss: 0.0153 - val_loss: 0.0154\n",
            "Epoch 3/100\n",
            "53/53 [==============================] - 1s 11ms/step - loss: 0.0078 - val_loss: 0.0102\n",
            "Epoch 4/100\n",
            "53/53 [==============================] - 1s 11ms/step - loss: 0.0038 - val_loss: 0.0051\n",
            "Epoch 5/100\n",
            "53/53 [==============================] - 1s 11ms/step - loss: 0.0022 - val_loss: 0.0023\n",
            "Epoch 6/100\n",
            "53/53 [==============================] - 1s 11ms/step - loss: 0.0011 - val_loss: 0.0024\n",
            "Epoch 7/100\n",
            "53/53 [==============================] - 1s 12ms/step - loss: 0.0025 - val_loss: 0.0027\n",
            "Epoch 8/100\n",
            "53/53 [==============================] - 1s 12ms/step - loss: 0.0012 - val_loss: 0.0025\n",
            "Epoch 9/100\n",
            "53/53 [==============================] - 1s 11ms/step - loss: 0.0019 - val_loss: 0.0028\n",
            "Epoch 10/100\n",
            "53/53 [==============================] - 1s 11ms/step - loss: 0.0016 - val_loss: 0.0030\n",
            "Epoch 11/100\n",
            "53/53 [==============================] - 1s 11ms/step - loss: 0.0017 - val_loss: 0.0032\n",
            "Epoch 12/100\n",
            "53/53 [==============================] - 1s 11ms/step - loss: 0.0021 - val_loss: 0.0032\n",
            "Epoch 13/100\n",
            "53/53 [==============================] - 1s 11ms/step - loss: 0.0019 - val_loss: 0.0033\n",
            "Epoch 14/100\n",
            "53/53 [==============================] - 1s 12ms/step - loss: 0.0016 - val_loss: 0.0032\n",
            "Epoch 15/100\n",
            "53/53 [==============================] - 1s 11ms/step - loss: 0.0020 - val_loss: 0.0034\n",
            "Epoch 16/100\n",
            "53/53 [==============================] - 1s 11ms/step - loss: 0.0035 - val_loss: 0.0040\n",
            "Epoch 17/100\n",
            "53/53 [==============================] - 1s 12ms/step - loss: 0.0016 - val_loss: 0.0026\n",
            "Epoch 18/100\n",
            "53/53 [==============================] - 1s 11ms/step - loss: 0.0015 - val_loss: 0.0024\n",
            "Epoch 19/100\n",
            "53/53 [==============================] - 1s 11ms/step - loss: 0.0016 - val_loss: 0.0025\n",
            "Epoch 20/100\n",
            "53/53 [==============================] - 1s 11ms/step - loss: 0.0016 - val_loss: 0.0024\n",
            "Epoch 21/100\n",
            "53/53 [==============================] - 1s 13ms/step - loss: 0.0018 - val_loss: 0.0024\n",
            "Epoch 22/100\n",
            "53/53 [==============================] - 1s 11ms/step - loss: 0.0017 - val_loss: 0.0024\n",
            "Epoch 23/100\n",
            "53/53 [==============================] - 1s 11ms/step - loss: 0.0014 - val_loss: 0.0022\n",
            "Epoch 24/100\n",
            "53/53 [==============================] - 1s 11ms/step - loss: 0.0016 - val_loss: 0.0023\n",
            "Epoch 25/100\n",
            "53/53 [==============================] - 1s 11ms/step - loss: 0.0019 - val_loss: 0.0026\n",
            "Epoch 26/100\n",
            "53/53 [==============================] - 1s 11ms/step - loss: 0.0017 - val_loss: 0.0022\n",
            "Epoch 27/100\n",
            "53/53 [==============================] - 1s 11ms/step - loss: 0.0014 - val_loss: 0.0020\n",
            "Epoch 28/100\n",
            "53/53 [==============================] - 1s 11ms/step - loss: 0.0013 - val_loss: 0.0019\n",
            "Epoch 29/100\n",
            "53/53 [==============================] - 1s 11ms/step - loss: 0.0012 - val_loss: 0.0022\n",
            "Epoch 30/100\n",
            "53/53 [==============================] - 1s 11ms/step - loss: 0.0018 - val_loss: 0.0024\n",
            "Epoch 31/100\n",
            "53/53 [==============================] - 1s 11ms/step - loss: 0.0019 - val_loss: 0.0021\n",
            "Epoch 32/100\n",
            "53/53 [==============================] - 1s 11ms/step - loss: 0.0013 - val_loss: 0.0020\n",
            "Epoch 33/100\n",
            "53/53 [==============================] - 1s 12ms/step - loss: 0.0011 - val_loss: 0.0017\n",
            "Epoch 34/100\n",
            "53/53 [==============================] - 1s 11ms/step - loss: 0.0011 - val_loss: 0.0016\n",
            "Epoch 35/100\n",
            "53/53 [==============================] - 1s 11ms/step - loss: 0.0011 - val_loss: 0.0016\n",
            "Epoch 36/100\n",
            "53/53 [==============================] - 1s 11ms/step - loss: 0.0011 - val_loss: 0.0017\n",
            "Epoch 37/100\n",
            "53/53 [==============================] - 1s 11ms/step - loss: 0.0012 - val_loss: 0.0016\n",
            "Epoch 38/100\n",
            "53/53 [==============================] - 1s 12ms/step - loss: 7.6561e-04 - val_loss: 0.0011\n",
            "Epoch 39/100\n",
            "53/53 [==============================] - 1s 11ms/step - loss: 6.8703e-04 - val_loss: 8.9065e-04\n",
            "Epoch 40/100\n",
            "53/53 [==============================] - 1s 11ms/step - loss: 5.3866e-04 - val_loss: 9.8990e-04\n",
            "Epoch 41/100\n",
            "53/53 [==============================] - 1s 12ms/step - loss: 0.0012 - val_loss: 0.0018\n",
            "Epoch 42/100\n",
            "53/53 [==============================] - 1s 11ms/step - loss: 0.0016 - val_loss: 0.0018\n",
            "Epoch 43/100\n",
            "53/53 [==============================] - 1s 12ms/step - loss: 0.0012 - val_loss: 0.0020\n",
            "Epoch 44/100\n",
            "53/53 [==============================] - 1s 11ms/step - loss: 9.7905e-04 - val_loss: 0.0015\n",
            "Epoch 45/100\n",
            "53/53 [==============================] - 1s 11ms/step - loss: 6.6300e-04 - val_loss: 0.0012\n",
            "Epoch 46/100\n",
            "53/53 [==============================] - 1s 12ms/step - loss: 5.8923e-04 - val_loss: 0.0011\n",
            "Epoch 47/100\n",
            "53/53 [==============================] - 1s 11ms/step - loss: 6.2972e-04 - val_loss: 0.0011\n",
            "Epoch 48/100\n",
            "53/53 [==============================] - 1s 11ms/step - loss: 7.1000e-04 - val_loss: 0.0011\n",
            "Epoch 49/100\n",
            "53/53 [==============================] - 1s 12ms/step - loss: 6.1193e-04 - val_loss: 8.9772e-04\n",
            "Epoch 50/100\n",
            "53/53 [==============================] - 1s 12ms/step - loss: 4.9062e-04 - val_loss: 6.8281e-04\n",
            "Epoch 51/100\n",
            "53/53 [==============================] - 1s 11ms/step - loss: 4.3766e-04 - val_loss: 5.0491e-04\n",
            "Epoch 52/100\n",
            "53/53 [==============================] - 1s 11ms/step - loss: 3.3578e-04 - val_loss: 4.0888e-04\n",
            "Epoch 53/100\n",
            "53/53 [==============================] - 1s 11ms/step - loss: 5.2074e-04 - val_loss: 8.5941e-04\n",
            "Epoch 54/100\n",
            "53/53 [==============================] - 1s 11ms/step - loss: 6.5444e-04 - val_loss: 8.5818e-04\n",
            "Epoch 55/100\n",
            "53/53 [==============================] - 1s 11ms/step - loss: 4.0500e-04 - val_loss: 4.6883e-04\n",
            "Epoch 56/100\n",
            "53/53 [==============================] - 1s 12ms/step - loss: 4.0434e-04 - val_loss: 2.9294e-04\n",
            "Epoch 57/100\n",
            "53/53 [==============================] - 1s 11ms/step - loss: 4.3939e-04 - val_loss: 1.4063e-04\n",
            "Epoch 58/100\n",
            "53/53 [==============================] - 1s 12ms/step - loss: 3.3087e-04 - val_loss: 1.5494e-04\n",
            "Epoch 59/100\n",
            "53/53 [==============================] - 1s 11ms/step - loss: 8.8447e-04 - val_loss: 0.0016\n",
            "Epoch 60/100\n",
            "53/53 [==============================] - 1s 12ms/step - loss: 0.0024 - val_loss: 0.0036\n",
            "Epoch 61/100\n",
            "53/53 [==============================] - 1s 12ms/step - loss: 0.0031 - val_loss: 0.0029\n",
            "Epoch 62/100\n",
            "53/53 [==============================] - 1s 11ms/step - loss: 0.0022 - val_loss: 0.0033\n",
            "Epoch 63/100\n",
            "53/53 [==============================] - 1s 11ms/step - loss: 0.0026 - val_loss: 0.0029\n",
            "Epoch 64/100\n",
            "53/53 [==============================] - 1s 12ms/step - loss: 0.0014 - val_loss: 0.0023\n",
            "Epoch 65/100\n",
            "53/53 [==============================] - 1s 12ms/step - loss: 8.8668e-04 - val_loss: 0.0016\n",
            "Epoch 66/100\n",
            "53/53 [==============================] - 1s 12ms/step - loss: 7.7130e-04 - val_loss: 9.4269e-04\n",
            "Epoch 67/100\n",
            "53/53 [==============================] - 1s 12ms/step - loss: 5.5136e-04 - val_loss: 7.3517e-04\n",
            "Epoch 68/100\n",
            "53/53 [==============================] - 1s 11ms/step - loss: 5.4250e-04 - val_loss: 6.4317e-04\n",
            "Epoch 69/100\n",
            "53/53 [==============================] - 1s 11ms/step - loss: 5.0064e-04 - val_loss: 5.4136e-04\n",
            "Epoch 70/100\n",
            "53/53 [==============================] - 1s 12ms/step - loss: 4.1184e-04 - val_loss: 4.2188e-04\n",
            "Epoch 71/100\n",
            "53/53 [==============================] - 1s 12ms/step - loss: 3.2719e-04 - val_loss: 3.6400e-04\n",
            "Epoch 72/100\n",
            "53/53 [==============================] - 1s 11ms/step - loss: 3.6106e-04 - val_loss: 3.8647e-04\n",
            "Epoch 73/100\n",
            "53/53 [==============================] - 1s 13ms/step - loss: 4.6678e-04 - val_loss: 4.8821e-04\n",
            "Epoch 74/100\n",
            "53/53 [==============================] - 1s 11ms/step - loss: 3.0107e-04 - val_loss: 3.5283e-04\n",
            "Epoch 75/100\n",
            "53/53 [==============================] - 1s 12ms/step - loss: 3.6952e-04 - val_loss: 3.2409e-04\n",
            "Epoch 76/100\n",
            "53/53 [==============================] - 1s 12ms/step - loss: 3.0981e-04 - val_loss: 2.6588e-04\n",
            "Epoch 77/100\n",
            "53/53 [==============================] - 1s 12ms/step - loss: 2.6849e-04 - val_loss: 1.6390e-04\n",
            "Epoch 78/100\n",
            "53/53 [==============================] - 1s 11ms/step - loss: 2.3513e-04 - val_loss: 1.4225e-04\n",
            "Epoch 79/100\n",
            "53/53 [==============================] - 1s 12ms/step - loss: 1.9862e-04 - val_loss: 1.0656e-04\n",
            "Epoch 80/100\n",
            "53/53 [==============================] - 1s 12ms/step - loss: 1.8960e-04 - val_loss: 1.5171e-04\n",
            "Epoch 81/100\n",
            "53/53 [==============================] - 1s 11ms/step - loss: 3.1128e-04 - val_loss: 2.9590e-04\n",
            "Epoch 82/100\n",
            "53/53 [==============================] - 1s 11ms/step - loss: 3.5025e-04 - val_loss: 1.8716e-04\n",
            "Epoch 83/100\n",
            "53/53 [==============================] - 1s 12ms/step - loss: 1.8760e-04 - val_loss: 9.6947e-05\n",
            "Epoch 84/100\n",
            "53/53 [==============================] - 1s 11ms/step - loss: 2.1486e-04 - val_loss: 1.4539e-04\n",
            "Epoch 85/100\n",
            "53/53 [==============================] - 1s 11ms/step - loss: 2.8959e-04 - val_loss: 2.6124e-04\n",
            "Epoch 86/100\n",
            "53/53 [==============================] - 1s 11ms/step - loss: 3.5977e-04 - val_loss: 2.5536e-04\n",
            "Epoch 87/100\n",
            "53/53 [==============================] - 1s 12ms/step - loss: 2.8800e-04 - val_loss: 1.3362e-04\n",
            "Epoch 88/100\n",
            "53/53 [==============================] - 1s 12ms/step - loss: 2.3227e-04 - val_loss: 1.0706e-04\n",
            "Epoch 89/100\n",
            "53/53 [==============================] - 1s 11ms/step - loss: 2.7007e-04 - val_loss: 5.2425e-05\n",
            "Epoch 90/100\n",
            "53/53 [==============================] - 1s 12ms/step - loss: 1.5740e-04 - val_loss: 4.4589e-05\n",
            "Epoch 91/100\n",
            "53/53 [==============================] - 1s 11ms/step - loss: 1.7435e-04 - val_loss: 9.6123e-05\n",
            "Epoch 92/100\n",
            "53/53 [==============================] - 1s 12ms/step - loss: 2.9818e-04 - val_loss: 5.2308e-04\n",
            "Epoch 93/100\n",
            "53/53 [==============================] - 1s 12ms/step - loss: 7.9172e-04 - val_loss: 0.0013\n",
            "Epoch 94/100\n",
            "53/53 [==============================] - 1s 11ms/step - loss: 0.0019 - val_loss: 0.0043\n",
            "Epoch 95/100\n",
            "53/53 [==============================] - 1s 12ms/step - loss: 0.0031 - val_loss: 0.0043\n",
            "Epoch 96/100\n",
            "53/53 [==============================] - 1s 11ms/step - loss: 0.0045 - val_loss: 0.0017\n",
            "Epoch 97/100\n",
            "53/53 [==============================] - 1s 12ms/step - loss: 0.0022 - val_loss: 0.0043\n",
            "Epoch 98/100\n",
            "53/53 [==============================] - 1s 12ms/step - loss: 0.0039 - val_loss: 0.0021\n",
            "Epoch 99/100\n",
            "53/53 [==============================] - 1s 12ms/step - loss: 0.0011 - val_loss: 0.0014\n",
            "Epoch 100/100\n",
            "53/53 [==============================] - 1s 12ms/step - loss: 9.3090e-04 - val_loss: 7.7258e-04\n"
          ],
          "name": "stdout"
        }
      ]
    },
    {
      "cell_type": "code",
      "metadata": {
        "id": "L9JumIeP40xv",
        "colab": {
          "base_uri": "https://localhost:8080/"
        },
        "outputId": "f318e569-37a5-47f1-9768-c3b01a18fdf7"
      },
      "source": [
        "model.evaluate(X_test, y_test)"
      ],
      "execution_count": 14,
      "outputs": [
        {
          "output_type": "stream",
          "text": [
            "4/4 [==============================] - 6s 2s/step - loss: 0.0016\n"
          ],
          "name": "stdout"
        },
        {
          "output_type": "execute_result",
          "data": {
            "text/plain": [
              "0.0015593771822750568"
            ]
          },
          "metadata": {
            "tags": []
          },
          "execution_count": 14
        }
      ]
    },
    {
      "cell_type": "code",
      "metadata": {
        "id": "2_9ibR1e5DnQ",
        "colab": {
          "base_uri": "https://localhost:8080/",
          "height": 730
        },
        "outputId": "c7adaaeb-a75f-4ebb-f201-b495e6c331c6"
      },
      "source": [
        "plt.figure(figsize = (18,12))\n",
        "plt.plot(history.history['loss'])\n",
        "plt.plot(history.history['val_loss'])\n",
        "plt.title('model loss')\n",
        "plt.ylabel('loss')\n",
        "plt.xlabel('epoch')\n",
        "plt.legend(['train', 'test'], loc='upper left')\n",
        "plt.show()"
      ],
      "execution_count": 15,
      "outputs": [
        {
          "output_type": "display_data",
          "data": {
            "image/png": "[encoded data removed]",
            "text/plain": [
              "<Figure size 1296x864 with 1 Axes>"
            ]
          },
          "metadata": {
            "tags": [],
            "needs_background": "light"
          }
        }
      ]
    },
    {
      "cell_type": "markdown",
      "metadata": {
        "id": "Xf9STH2D4_hP"
      },
      "source": [
        "### Prediction"
      ]
    },
    {
      "cell_type": "code",
      "metadata": {
        "id": "Lui1XTi0xVsF",
        "colab": {
          "base_uri": "https://localhost:8080/",
          "height": 312
        },
        "outputId": "57d47fd9-1823-472c-81e8-c0c7f8922643"
      },
      "source": [
        "y_hat = model.predict(X_test)\n",
        "\n",
        "y_test_inverse = scaler.inverse_transform(y_test)\n",
        "y_hat_inverse = scaler.inverse_transform(y_hat)\n",
        " \n",
        "plt.plot(y_test_inverse, label=\"Actual Price\", color='green')\n",
        "plt.plot(y_hat_inverse, label=\"Predicted Price\", color='red')\n",
        " \n",
        "plt.title('Bitcoin price prediction')\n",
        "plt.xlabel('Time [days]')\n",
        "plt.ylabel('Price')\n",
        "plt.legend(loc='best')\n",
        "\n",
        "plt.figure(figsize = (18,12))\n",
        "plt.show();"
      ],
      "execution_count": 17,
      "outputs": [
        {
          "output_type": "display_data",
          "data": {
            "image/png": "[encoded data removed]",
            "text/plain": [
              "<Figure size 432x288 with 1 Axes>"
            ]
          },
          "metadata": {
            "tags": [],
            "needs_background": "light"
          }
        },
        {
          "output_type": "display_data",
          "data": {
            "text/plain": [
              "<Figure size 1296x864 with 0 Axes>"
            ]
          },
          "metadata": {
            "tags": []
          }
        }
      ]
    },
    {
      "cell_type": "markdown",
      "metadata": {
        "id": "bh43lxhu8lvk"
      },
      "source": [
        "Checking some real (*y_test_inverse*) and predicted *y_hat_inverse* values"
      ]
    },
    {
      "cell_type": "code",
      "metadata": {
        "id": "ak-CiQAVz4Fw",
        "colab": {
          "base_uri": "https://localhost:8080/"
        },
        "outputId": "ee5d6578-361d-4caa-965b-a29274455719"
      },
      "source": [
        "y_test_inverse[85:]"
      ],
      "execution_count": 18,
      "outputs": [
        {
          "output_type": "execute_result",
          "data": {
            "text/plain": [
              "array([[1230.17224121],\n",
              "       [1257.27954102],\n",
              "       [1377.29589844],\n",
              "       [1382.27404785],\n",
              "       [1121.57092285],\n",
              "       [1236.51220703],\n",
              "       [1230.99060059],\n",
              "       [1391.609375  ],\n",
              "       [1324.41479492],\n",
              "       [1357.05810547],\n",
              "       [1253.18713379],\n",
              "       [1298.10180664],\n",
              "       [1382.52282715],\n",
              "       [1376.11547852],\n",
              "       [1316.00683594]])"
            ]
          },
          "metadata": {
            "tags": []
          },
          "execution_count": 18
        }
      ]
    },
    {
      "cell_type": "code",
      "metadata": {
        "id": "DGaxvOa_mjTp",
        "colab": {
          "base_uri": "https://localhost:8080/"
        },
        "outputId": "205b6a35-ab00-4d97-97db-42c46dffb08e"
      },
      "source": [
        "y_hat_inverse[85:]"
      ],
      "execution_count": 19,
      "outputs": [
        {
          "output_type": "execute_result",
          "data": {
            "text/plain": [
              "array([[1312.0829],\n",
              "       [1334.6174],\n",
              "       [1397.0269],\n",
              "       [1427.7587],\n",
              "       [1323.8783],\n",
              "       [1302.102 ],\n",
              "       [1288.7804],\n",
              "       [1353.1338],\n",
              "       [1361.7306],\n",
              "       [1381.0868],\n",
              "       [1348.2439],\n",
              "       [1349.4612],\n",
              "       [1391.446 ],\n",
              "       [1414.9175],\n",
              "       [1397.0576]], dtype=float32)"
            ]
          },
          "metadata": {
            "tags": []
          },
          "execution_count": 19
        }
      ]
    },
    {
      "cell_type": "code",
      "metadata": {
        "id": "w_zHO4Cer89M",
        "colab": {
          "base_uri": "https://localhost:8080/",
          "height": 514
        },
        "outputId": "af0b4d2c-e433-4584-b20c-db3eed7d7d58"
      },
      "source": [
        "df.tail(15)"
      ],
      "execution_count": 21,
      "outputs": [
        {
          "output_type": "execute_result",
          "data": {
            "text/html": [
              "<div>\n",
              "<style scoped>\n",
              "    .dataframe tbody tr th:only-of-type {\n",
              "        vertical-align: middle;\n",
              "    }\n",
              "\n",
              "    .dataframe tbody tr th {\n",
              "        vertical-align: top;\n",
              "    }\n",
              "\n",
              "    .dataframe thead th {\n",
              "        text-align: right;\n",
              "    }\n",
              "</style>\n",
              "<table border=\"1\" class=\"dataframe\">\n",
              "  <thead>\n",
              "    <tr style=\"text-align: right;\">\n",
              "      <th></th>\n",
              "      <th>Date</th>\n",
              "      <th>Open</th>\n",
              "      <th>High</th>\n",
              "      <th>Low</th>\n",
              "      <th>Close</th>\n",
              "      <th>Adj Close</th>\n",
              "      <th>Volume</th>\n",
              "    </tr>\n",
              "  </thead>\n",
              "  <tbody>\n",
              "    <tr>\n",
              "      <th>1986</th>\n",
              "      <td>2021-01-17</td>\n",
              "      <td>1233.453369</td>\n",
              "      <td>1265.644653</td>\n",
              "      <td>1174.388550</td>\n",
              "      <td>1230.172241</td>\n",
              "      <td>1230.172241</td>\n",
              "      <td>29258032819</td>\n",
              "    </tr>\n",
              "    <tr>\n",
              "      <th>1987</th>\n",
              "      <td>2021-01-18</td>\n",
              "      <td>1230.313232</td>\n",
              "      <td>1259.450073</td>\n",
              "      <td>1187.311035</td>\n",
              "      <td>1257.279541</td>\n",
              "      <td>1257.279541</td>\n",
              "      <td>25817455560</td>\n",
              "    </tr>\n",
              "    <tr>\n",
              "      <th>1988</th>\n",
              "      <td>2021-01-19</td>\n",
              "      <td>1257.434570</td>\n",
              "      <td>1432.300049</td>\n",
              "      <td>1254.522949</td>\n",
              "      <td>1377.295898</td>\n",
              "      <td>1377.295898</td>\n",
              "      <td>47195935190</td>\n",
              "    </tr>\n",
              "    <tr>\n",
              "      <th>1989</th>\n",
              "      <td>2021-01-20</td>\n",
              "      <td>1375.248413</td>\n",
              "      <td>1405.744141</td>\n",
              "      <td>1243.299927</td>\n",
              "      <td>1382.274048</td>\n",
              "      <td>1382.274048</td>\n",
              "      <td>46784030909</td>\n",
              "    </tr>\n",
              "    <tr>\n",
              "      <th>1990</th>\n",
              "      <td>2021-01-21</td>\n",
              "      <td>1382.684448</td>\n",
              "      <td>1382.684448</td>\n",
              "      <td>1098.476196</td>\n",
              "      <td>1121.570923</td>\n",
              "      <td>1121.570923</td>\n",
              "      <td>45932464754</td>\n",
              "    </tr>\n",
              "    <tr>\n",
              "      <th>1991</th>\n",
              "      <td>2021-01-22</td>\n",
              "      <td>1118.889038</td>\n",
              "      <td>1271.687622</td>\n",
              "      <td>1046.596558</td>\n",
              "      <td>1236.512207</td>\n",
              "      <td>1236.512207</td>\n",
              "      <td>43918338506</td>\n",
              "    </tr>\n",
              "    <tr>\n",
              "      <th>1992</th>\n",
              "      <td>2021-01-23</td>\n",
              "      <td>1235.267944</td>\n",
              "      <td>1272.151123</td>\n",
              "      <td>1200.893311</td>\n",
              "      <td>1230.990601</td>\n",
              "      <td>1230.990601</td>\n",
              "      <td>27253895441</td>\n",
              "    </tr>\n",
              "    <tr>\n",
              "      <th>1993</th>\n",
              "      <td>2021-01-24</td>\n",
              "      <td>1231.210571</td>\n",
              "      <td>1395.111328</td>\n",
              "      <td>1225.274048</td>\n",
              "      <td>1391.609375</td>\n",
              "      <td>1391.609375</td>\n",
              "      <td>36418163554</td>\n",
              "    </tr>\n",
              "    <tr>\n",
              "      <th>1994</th>\n",
              "      <td>2021-01-25</td>\n",
              "      <td>1390.639893</td>\n",
              "      <td>1467.784912</td>\n",
              "      <td>1304.973999</td>\n",
              "      <td>1324.414795</td>\n",
              "      <td>1324.414795</td>\n",
              "      <td>43565777745</td>\n",
              "    </tr>\n",
              "    <tr>\n",
              "      <th>1995</th>\n",
              "      <td>2021-01-26</td>\n",
              "      <td>1323.741699</td>\n",
              "      <td>1376.085083</td>\n",
              "      <td>1253.340332</td>\n",
              "      <td>1357.058105</td>\n",
              "      <td>1357.058105</td>\n",
              "      <td>41572917750</td>\n",
              "    </tr>\n",
              "    <tr>\n",
              "      <th>1996</th>\n",
              "      <td>2021-01-27</td>\n",
              "      <td>1358.333374</td>\n",
              "      <td>1368.074097</td>\n",
              "      <td>1215.311279</td>\n",
              "      <td>1253.187134</td>\n",
              "      <td>1253.187134</td>\n",
              "      <td>39394416990</td>\n",
              "    </tr>\n",
              "    <tr>\n",
              "      <th>1997</th>\n",
              "      <td>2021-01-28</td>\n",
              "      <td>1251.279785</td>\n",
              "      <td>1321.613037</td>\n",
              "      <td>1226.173950</td>\n",
              "      <td>1298.101807</td>\n",
              "      <td>1298.101807</td>\n",
              "      <td>39790481941</td>\n",
              "    </tr>\n",
              "    <tr>\n",
              "      <th>1998</th>\n",
              "      <td>2021-01-29</td>\n",
              "      <td>1369.086792</td>\n",
              "      <td>1428.981201</td>\n",
              "      <td>1292.240112</td>\n",
              "      <td>1382.522827</td>\n",
              "      <td>1382.522827</td>\n",
              "      <td>53611955259</td>\n",
              "    </tr>\n",
              "    <tr>\n",
              "      <th>1999</th>\n",
              "      <td>2021-01-30</td>\n",
              "      <td>1382.231934</td>\n",
              "      <td>1402.399780</td>\n",
              "      <td>1328.529053</td>\n",
              "      <td>1376.115479</td>\n",
              "      <td>1376.115479</td>\n",
              "      <td>30616574234</td>\n",
              "    </tr>\n",
              "    <tr>\n",
              "      <th>2000</th>\n",
              "      <td>2021-01-31</td>\n",
              "      <td>1304.154785</td>\n",
              "      <td>1377.257202</td>\n",
              "      <td>1291.700562</td>\n",
              "      <td>1316.006836</td>\n",
              "      <td>1316.006836</td>\n",
              "      <td>25216753664</td>\n",
              "    </tr>\n",
              "  </tbody>\n",
              "</table>\n",
              "</div>"
            ],
            "text/plain": [
              "           Date         Open  ...    Adj Close       Volume\n",
              "1986 2021-01-17  1233.453369  ...  1230.172241  29258032819\n",
              "1987 2021-01-18  1230.313232  ...  1257.279541  25817455560\n",
              "1988 2021-01-19  1257.434570  ...  1377.295898  47195935190\n",
              "1989 2021-01-20  1375.248413  ...  1382.274048  46784030909\n",
              "1990 2021-01-21  1382.684448  ...  1121.570923  45932464754\n",
              "1991 2021-01-22  1118.889038  ...  1236.512207  43918338506\n",
              "1992 2021-01-23  1235.267944  ...  1230.990601  27253895441\n",
              "1993 2021-01-24  1231.210571  ...  1391.609375  36418163554\n",
              "1994 2021-01-25  1390.639893  ...  1324.414795  43565777745\n",
              "1995 2021-01-26  1323.741699  ...  1357.058105  41572917750\n",
              "1996 2021-01-27  1358.333374  ...  1253.187134  39394416990\n",
              "1997 2021-01-28  1251.279785  ...  1298.101807  39790481941\n",
              "1998 2021-01-29  1369.086792  ...  1382.522827  53611955259\n",
              "1999 2021-01-30  1382.231934  ...  1376.115479  30616574234\n",
              "2000 2021-01-31  1304.154785  ...  1316.006836  25216753664\n",
              "\n",
              "[15 rows x 7 columns]"
            ]
          },
          "metadata": {
            "tags": []
          },
          "execution_count": 21
        }
      ]
    },
    {
      "cell_type": "markdown",
      "metadata": {
        "id": "hDzyf5nW87yM"
      },
      "source": [
        "#### Now, let's predict into the future.\n",
        "\n",
        "I'm making a new sequence, where the last value will be repeated twice (inserting a dummy data) : twice  [0.94239681] and [0.94239681]] at the *predicted_array[100]*"
      ]
    },
    {
      "cell_type": "code",
      "metadata": {
        "id": "1XYI84TV6hyg"
      },
      "source": [
        "def get_prediction_array(X_test):\n",
        "  a = np.insert(X_test,[100],X_test[99], axis=0)\n",
        "  for i_ in range(len(a[100]) - 1):\n",
        "    if(i_ == 20):\n",
        "      a[100][i_][0] == a[100][i_ - 1][0]\n",
        "    else:\n",
        "      a[100][i_][0] = a[100][i_ + 1][0]\n",
        "  \n",
        "  return a"
      ],
      "execution_count": 22,
      "outputs": []
    },
    {
      "cell_type": "code",
      "metadata": {
        "colab": {
          "base_uri": "https://localhost:8080/"
        },
        "id": "r2wyFDS4-Sw0",
        "outputId": "81e3ef8b-06f9-4995-a405-fa493b0f76dc"
      },
      "source": [
        "pred_array = get_prediction_array(X_test)\n",
        "pred_array.shape"
      ],
      "execution_count": 23,
      "outputs": [
        {
          "output_type": "execute_result",
          "data": {
            "text/plain": [
              "(101, 20, 1)"
            ]
          },
          "metadata": {
            "tags": []
          },
          "execution_count": 23
        }
      ]
    },
    {
      "cell_type": "code",
      "metadata": {
        "colab": {
          "base_uri": "https://localhost:8080/"
        },
        "id": "QtLnN-anwiDO",
        "outputId": "498e26ae-b031-4694-f0e0-e5be95a5b1f8"
      },
      "source": [
        "print(pred_array[98], '\\n') \n",
        "print(pred_array[99], '\\n')\n",
        "print(pred_array[100], '\\n')"
      ],
      "execution_count": 24,
      "outputs": [
        {
          "output_type": "stream",
          "text": [
            "[[0.78060322]\n",
            " [0.7471424 ]\n",
            " [0.80968232]\n",
            " [0.8725151 ]\n",
            " [0.83912047]\n",
            " [0.88332079]\n",
            " [0.88091005]\n",
            " [0.9003281 ]\n",
            " [0.98630061]\n",
            " [0.98986666]\n",
            " [0.80311459]\n",
            " [0.88545163]\n",
            " [0.88149628]\n",
            " [0.99655393]\n",
            " [0.94841976]\n",
            " [0.97180347]\n",
            " [0.89739654]\n",
            " [0.92957072]\n",
            " [0.99004487]\n",
            " [0.98545503]] \n",
            "\n",
            "[[0.7471424 ]\n",
            " [0.80968232]\n",
            " [0.8725151 ]\n",
            " [0.83912047]\n",
            " [0.88332079]\n",
            " [0.88091005]\n",
            " [0.9003281 ]\n",
            " [0.98630061]\n",
            " [0.98986666]\n",
            " [0.80311459]\n",
            " [0.88545163]\n",
            " [0.88149628]\n",
            " [0.99655393]\n",
            " [0.94841976]\n",
            " [0.97180347]\n",
            " [0.89739654]\n",
            " [0.92957072]\n",
            " [0.99004487]\n",
            " [0.98545503]\n",
            " [0.94239681]] \n",
            "\n",
            "[[0.80968232]\n",
            " [0.8725151 ]\n",
            " [0.83912047]\n",
            " [0.88332079]\n",
            " [0.88091005]\n",
            " [0.9003281 ]\n",
            " [0.98630061]\n",
            " [0.98986666]\n",
            " [0.80311459]\n",
            " [0.88545163]\n",
            " [0.88149628]\n",
            " [0.99655393]\n",
            " [0.94841976]\n",
            " [0.97180347]\n",
            " [0.89739654]\n",
            " [0.92957072]\n",
            " [0.99004487]\n",
            " [0.98545503]\n",
            " [0.94239681]\n",
            " [0.94239681]] \n",
            "\n"
          ],
          "name": "stdout"
        }
      ]
    },
    {
      "cell_type": "code",
      "metadata": {
        "colab": {
          "base_uri": "https://localhost:8080/",
          "height": 295
        },
        "id": "tPTOnC5p_GyD",
        "outputId": "eae96a20-f362-4837-f831-3149296b0eec"
      },
      "source": [
        "y_hat = model.predict(pred_array)\n",
        "\n",
        "y_test_inverse = scaler.inverse_transform(y_test)\n",
        "y_hat_inverse = scaler.inverse_transform(y_hat)\n",
        " \n",
        "plt.plot(y_test_inverse, label=\"Actual Price\", color='green')\n",
        "plt.plot(y_hat_inverse, label=\"Predicted Price\", color='red')\n",
        " \n",
        "plt.title('Bitcoin price prediction')\n",
        "plt.xlabel('Time [days]')\n",
        "plt.ylabel('Price')\n",
        "plt.legend(loc='best')\n",
        " \n",
        "plt.show();"
      ],
      "execution_count": 25,
      "outputs": [
        {
          "output_type": "display_data",
          "data": {
            "image/png": "[encoded data removed]",
            "text/plain": [
              "<Figure size 432x288 with 1 Axes>"
            ]
          },
          "metadata": {
            "tags": [],
            "needs_background": "light"
          }
        }
      ]
    },
    {
      "cell_type": "code",
      "metadata": {
        "id": "d6bLX-8d_Qx1",
        "colab": {
          "base_uri": "https://localhost:8080/"
        },
        "outputId": "69156dc2-51e7-4dff-be3b-c66a678f69fc"
      },
      "source": [
        "y_hat_inverse[-1] #predicted pEthereum rice for the next day"
      ],
      "execution_count": 26,
      "outputs": [
        {
          "output_type": "execute_result",
          "data": {
            "text/plain": [
              "array([1381.7424], dtype=float32)"
            ]
          },
          "metadata": {
            "tags": []
          },
          "execution_count": 26
        }
      ]
    },
    {
      "cell_type": "code",
      "metadata": {
        "colab": {
          "base_uri": "https://localhost:8080/"
        },
        "id": "Oy9QnjYVyFvJ",
        "outputId": "e36b5919-cdfc-4d01-826a-74ab9a2c2c3d"
      },
      "source": [
        "#Saving the model\n",
        "\n",
        "file_name = 'LSTM_ETH-1f.h5'\n",
        "model.save(file_name)\n",
        "print(\"Saved model `{}` to disk\".format(file_name))"
      ],
      "execution_count": null,
      "outputs": [
        {
          "output_type": "stream",
          "text": [
            "Saved model `LSTM_ETH-1f.h5` to disk\n"
          ],
          "name": "stdout"
        }
      ]
    },
    {
      "cell_type": "code",
      "metadata": {
        "id": "BmKzxhcrzF5_"
      },
      "source": [
        ""
      ],
      "execution_count": null,
      "outputs": []
    }
  ]
}