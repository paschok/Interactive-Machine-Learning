{
  "nbformat": 4,
  "nbformat_minor": 0,
  "metadata": {
    "colab": {
      "name": "Ethereum-1f.ipynb",
      "provenance": [],
      "collapsed_sections": [],
      "toc_visible": true
    },
    "kernelspec": {
      "name": "python3",
      "display_name": "Python 3"
    },
    "accelerator": "GPU"
  },
  "cells": [
    {
      "cell_type": "markdown",
      "metadata": {
        "id": "MW7SzFLEvCpb"
      },
      "source": [
        "@author: Pavlo Mospan"
      ]
    },
    {
      "cell_type": "markdown",
      "metadata": {
        "id": "6g_BQl183Xd1"
      },
      "source": [
        "### All needed impots"
      ]
    },
    {
      "cell_type": "code",
      "metadata": {
        "id": "VBXq-Wb_K1XR"
      },
      "source": [
        "import os\n",
        "import numpy as np\n",
        "from datetime import datetime, date, timedelta\n",
        "\n",
        "import pandas as pd\n",
        "import matplotlib.pyplot as plt\n",
        "%matplotlib inline\n",
        "\n",
        "from sklearn.preprocessing import MinMaxScaler\n",
        "\n",
        "from tensorflow import keras\n",
        "from tensorflow.keras.layers import Bidirectional, Dropout, Activation, Dense, LSTM\n",
        "from tensorflow.python.keras.layers import CuDNNLSTM\n",
        "from tensorflow.keras.models import Sequential\n",
        "\n",
        "!pip install yfinance\n",
        "import yfinance as yf"
      ],
      "execution_count": null,
      "outputs": []
    },
    {
      "cell_type": "markdown",
      "metadata": {
        "id": "OC01dl213jzr"
      },
      "source": [
        "### Downloading Ethereum dataframe with yahoo finance API and then plotting the dataframe\n",
        "\n",
        "**reset_index** method is used only to make normal numerical indexes, instead of *Date* beeig an index\n"
      ]
    },
    {
      "cell_type": "code",
      "metadata": {
        "id": "BnuBLC5DLjXH",
        "colab": {
          "base_uri": "https://localhost:8080/",
          "height": 436
        },
        "outputId": "bf5154c6-efb0-415e-f0d6-ba493df49674"
      },
      "source": [
        "df = yf.download('ETH-USD', start='2015-08-07')\n",
        "df = df.reset_index()\n",
        "df"
      ],
      "execution_count": 2,
      "outputs": [
        {
          "output_type": "stream",
          "text": [
            "\r[*********************100%***********************]  1 of 1 completed\n"
          ],
          "name": "stdout"
        },
        {
          "output_type": "execute_result",
          "data": {
            "text/html": [
              "<div>\n",
              "<style scoped>\n",
              "    .dataframe tbody tr th:only-of-type {\n",
              "        vertical-align: middle;\n",
              "    }\n",
              "\n",
              "    .dataframe tbody tr th {\n",
              "        vertical-align: top;\n",
              "    }\n",
              "\n",
              "    .dataframe thead th {\n",
              "        text-align: right;\n",
              "    }\n",
              "</style>\n",
              "<table border=\"1\" class=\"dataframe\">\n",
              "  <thead>\n",
              "    <tr style=\"text-align: right;\">\n",
              "      <th></th>\n",
              "      <th>Date</th>\n",
              "      <th>Open</th>\n",
              "      <th>High</th>\n",
              "      <th>Low</th>\n",
              "      <th>Close</th>\n",
              "      <th>Adj Close</th>\n",
              "      <th>Volume</th>\n",
              "    </tr>\n",
              "  </thead>\n",
              "  <tbody>\n",
              "    <tr>\n",
              "      <th>0</th>\n",
              "      <td>2015-08-07</td>\n",
              "      <td>2.831620</td>\n",
              "      <td>3.536610</td>\n",
              "      <td>2.521120</td>\n",
              "      <td>2.772120</td>\n",
              "      <td>2.772120</td>\n",
              "      <td>164329</td>\n",
              "    </tr>\n",
              "    <tr>\n",
              "      <th>1</th>\n",
              "      <td>2015-08-08</td>\n",
              "      <td>2.793760</td>\n",
              "      <td>2.798810</td>\n",
              "      <td>0.714725</td>\n",
              "      <td>0.753325</td>\n",
              "      <td>0.753325</td>\n",
              "      <td>674188</td>\n",
              "    </tr>\n",
              "    <tr>\n",
              "      <th>2</th>\n",
              "      <td>2015-08-09</td>\n",
              "      <td>0.706136</td>\n",
              "      <td>0.879810</td>\n",
              "      <td>0.629191</td>\n",
              "      <td>0.701897</td>\n",
              "      <td>0.701897</td>\n",
              "      <td>532170</td>\n",
              "    </tr>\n",
              "    <tr>\n",
              "      <th>3</th>\n",
              "      <td>2015-08-10</td>\n",
              "      <td>0.713989</td>\n",
              "      <td>0.729854</td>\n",
              "      <td>0.636546</td>\n",
              "      <td>0.708448</td>\n",
              "      <td>0.708448</td>\n",
              "      <td>405283</td>\n",
              "    </tr>\n",
              "    <tr>\n",
              "      <th>4</th>\n",
              "      <td>2015-08-11</td>\n",
              "      <td>0.708087</td>\n",
              "      <td>1.131410</td>\n",
              "      <td>0.663235</td>\n",
              "      <td>1.067860</td>\n",
              "      <td>1.067860</td>\n",
              "      <td>1463100</td>\n",
              "    </tr>\n",
              "    <tr>\n",
              "      <th>...</th>\n",
              "      <td>...</td>\n",
              "      <td>...</td>\n",
              "      <td>...</td>\n",
              "      <td>...</td>\n",
              "      <td>...</td>\n",
              "      <td>...</td>\n",
              "      <td>...</td>\n",
              "    </tr>\n",
              "    <tr>\n",
              "      <th>1999</th>\n",
              "      <td>2021-01-30</td>\n",
              "      <td>1382.231934</td>\n",
              "      <td>1402.399780</td>\n",
              "      <td>1328.529053</td>\n",
              "      <td>1376.115479</td>\n",
              "      <td>1376.115479</td>\n",
              "      <td>30616574234</td>\n",
              "    </tr>\n",
              "    <tr>\n",
              "      <th>2000</th>\n",
              "      <td>2021-01-31</td>\n",
              "      <td>1376.823608</td>\n",
              "      <td>1378.916016</td>\n",
              "      <td>1288.501587</td>\n",
              "      <td>1314.986206</td>\n",
              "      <td>1314.986206</td>\n",
              "      <td>25198853581</td>\n",
              "    </tr>\n",
              "    <tr>\n",
              "      <th>2001</th>\n",
              "      <td>2021-02-01</td>\n",
              "      <td>1314.855225</td>\n",
              "      <td>1373.845825</td>\n",
              "      <td>1274.357788</td>\n",
              "      <td>1369.040527</td>\n",
              "      <td>1369.040527</td>\n",
              "      <td>29210670920</td>\n",
              "    </tr>\n",
              "    <tr>\n",
              "      <th>2002</th>\n",
              "      <td>2021-02-02</td>\n",
              "      <td>1369.505127</td>\n",
              "      <td>1542.990967</td>\n",
              "      <td>1362.771240</td>\n",
              "      <td>1515.193726</td>\n",
              "      <td>1515.193726</td>\n",
              "      <td>45437142801</td>\n",
              "    </tr>\n",
              "    <tr>\n",
              "      <th>2003</th>\n",
              "      <td>2021-02-04</td>\n",
              "      <td>1671.787476</td>\n",
              "      <td>1671.787476</td>\n",
              "      <td>1662.468994</td>\n",
              "      <td>1667.739990</td>\n",
              "      <td>1667.739990</td>\n",
              "      <td>42306035712</td>\n",
              "    </tr>\n",
              "  </tbody>\n",
              "</table>\n",
              "<p>2004 rows × 7 columns</p>\n",
              "</div>"
            ],
            "text/plain": [
              "           Date         Open  ...    Adj Close       Volume\n",
              "0    2015-08-07     2.831620  ...     2.772120       164329\n",
              "1    2015-08-08     2.793760  ...     0.753325       674188\n",
              "2    2015-08-09     0.706136  ...     0.701897       532170\n",
              "3    2015-08-10     0.713989  ...     0.708448       405283\n",
              "4    2015-08-11     0.708087  ...     1.067860      1463100\n",
              "...         ...          ...  ...          ...          ...\n",
              "1999 2021-01-30  1382.231934  ...  1376.115479  30616574234\n",
              "2000 2021-01-31  1376.823608  ...  1314.986206  25198853581\n",
              "2001 2021-02-01  1314.855225  ...  1369.040527  29210670920\n",
              "2002 2021-02-02  1369.505127  ...  1515.193726  45437142801\n",
              "2003 2021-02-04  1671.787476  ...  1667.739990  42306035712\n",
              "\n",
              "[2004 rows x 7 columns]"
            ]
          },
          "metadata": {
            "tags": []
          },
          "execution_count": 2
        }
      ]
    },
    {
      "cell_type": "code",
      "metadata": {
        "colab": {
          "base_uri": "https://localhost:8080/",
          "height": 290
        },
        "id": "ZngxVzw2DtcU",
        "outputId": "0a31b082-0518-46fe-b1a0-40568afc070a"
      },
      "source": [
        "ax = df.plot(x='Date', y='Close');\n",
        "ax.set_xlabel(\"Date\")\n",
        "ax.set_ylabel(\"Close Price (USD)\")"
      ],
      "execution_count": 3,
      "outputs": [
        {
          "output_type": "execute_result",
          "data": {
            "text/plain": [
              "Text(0, 0.5, 'Close Price (USD)')"
            ]
          },
          "metadata": {
            "tags": []
          },
          "execution_count": 3
        },
        {
          "output_type": "display_data",
          "data": {
            "image/png": "[encoded data removed]",
            "text/plain": [
              "<Figure size 432x288 with 1 Axes>"
            ]
          },
          "metadata": {
            "tags": [],
            "needs_background": "light"
          }
        }
      ]
    },
    {
      "cell_type": "markdown",
      "metadata": {
        "id": "7twAH-I-qO9Z"
      },
      "source": [
        "### Normalization\n",
        "\n",
        "Since the scaler expects the data to be shaped as (x, y), I'm adding a dummy dimension using reshape before applying it. \n",
        "\n",
        "**reshape** method transforms array of *Closed* values from shape (2001, 1) into (2001, 1)"
      ]
    },
    {
      "cell_type": "code",
      "metadata": {
        "id": "Ux2FtgMAqObq",
        "colab": {
          "base_uri": "https://localhost:8080/"
        },
        "outputId": "fb50f518-da35-46a4-b95f-4253a5f0f533"
      },
      "source": [
        "scaler = MinMaxScaler()\n",
        "\n",
        "close_price = df.Close.values.reshape(-1, 1)\n",
        "\n",
        "scaled_close = scaler.fit_transform(close_price)\n",
        "\n",
        "scaled_close.shape, np.isnan(scaled_close).any()"
      ],
      "execution_count": 4,
      "outputs": [
        {
          "output_type": "execute_result",
          "data": {
            "text/plain": [
              "((2004, 1), False)"
            ]
          },
          "metadata": {
            "tags": []
          },
          "execution_count": 4
        }
      ]
    },
    {
      "cell_type": "markdown",
      "metadata": {
        "id": "CQgrA2va4Jzx"
      },
      "source": [
        "### Preprocessing\n",
        "\n",
        " LSTMs expect the data to be in 3 dimensions. We need to split the data into sequences of some preset length. The shape we want to obtain is: **[batch_size, sequence_length, n_features]**\n",
        "\n",
        " The process of building sequences works by creating a sequence of a specified length at position 0. Then it's shifted one position to the right (e.g. 1) and creates another sequence. The process is repeated until all possible positions are used.\n",
        "\n",
        " Here, *SEQ_LEN* parameter is set to 20, which means, that 20 days are predicting the next one"
      ]
    },
    {
      "cell_type": "code",
      "metadata": {
        "id": "NS5O4-Vtq-N1",
        "colab": {
          "base_uri": "https://localhost:8080/"
        },
        "outputId": "2502006d-2758-4dc6-ea02-45e8ae81965b"
      },
      "source": [
        "SEQ_LEN = 20\n",
        "whole_data = np.empty([1, 20, 1])\n",
        "whole_targets = np.empty([1, 1])\n",
        "\n",
        "def to_sequences(data, seq_len):\n",
        "    d = []\n",
        "\n",
        "    for index in range(len(data) - seq_len + 1):\n",
        "        d.append(data[index: index + seq_len])\n",
        "\n",
        "    return np.array(d)\n",
        "\n",
        "def preprocess(data_raw, seq_len, train_split):\n",
        "\n",
        "    global whole_data, whole_targets\n",
        "    whole_data = to_sequences(data_raw, seq_len)\n",
        "    whole_targets = whole_data[:, -1, :]\n",
        "    print('whole_data: ', whole_data.shape)\n",
        "    print('whole_targets: ', whole_targets.shape)\n",
        "\n",
        "    num_train = int(train_split * whole_data.shape[0])\n",
        "\n",
        "    X_train = whole_data[:num_train, :, :]\n",
        "    y_train = whole_data[:num_train, -1, :]\n",
        "\n",
        "    X_test = whole_data[num_train:, :, :]\n",
        "    y_test = whole_data[num_train:, -1, :]\n",
        "\n",
        "    return X_train, y_train, X_test, y_test\n",
        "\n",
        "X_train, y_train, X_test, y_test = preprocess(scaled_close, SEQ_LEN, train_split = 0.95)\n",
        "\n",
        "X_train.shape, X_test.shape"
      ],
      "execution_count": 5,
      "outputs": [
        {
          "output_type": "stream",
          "text": [
            "whole_data:  (1985, 20, 1)\n",
            "whole_targets:  (1985, 1)\n"
          ],
          "name": "stdout"
        },
        {
          "output_type": "execute_result",
          "data": {
            "text/plain": [
              "((1885, 20, 1), (100, 20, 1))"
            ]
          },
          "metadata": {
            "tags": []
          },
          "execution_count": 5
        }
      ]
    },
    {
      "cell_type": "markdown",
      "metadata": {
        "id": "-Gsuu4hy6h3k"
      },
      "source": [
        "#### Simply checking arrays if everything's alright"
      ]
    },
    {
      "cell_type": "code",
      "metadata": {
        "colab": {
          "base_uri": "https://localhost:8080/"
        },
        "id": "jSmgdiyJLDW9",
        "outputId": "53ce4010-78cf-498c-ec2d-3871f1da54fa"
      },
      "source": [
        "# Last 20 scaled values of the DataFrame\n",
        "scaled_close[-20:], scaled_close.shape"
      ],
      "execution_count": 6,
      "outputs": [
        {
          "output_type": "execute_result",
          "data": {
            "text/plain": [
              "(array([[0.70257071],\n",
              "        [0.73957833],\n",
              "        [0.73755989],\n",
              "        [0.75381804],\n",
              "        [0.82580028],\n",
              "        [0.82878603],\n",
              "        [0.67242405],\n",
              "        [0.74136241],\n",
              "        [0.73805072],\n",
              "        [0.83438508],\n",
              "        [0.79408377],\n",
              "        [0.81366225],\n",
              "        [0.75136354],\n",
              "        [0.77830202],\n",
              "        [0.82893524],\n",
              "        [0.8250923 ],\n",
              "        [0.78842878],\n",
              "        [0.82084895],\n",
              "        [0.90850729],\n",
              "        [1.        ]]), (2004, 1))"
            ]
          },
          "metadata": {
            "tags": []
          },
          "execution_count": 6
        }
      ]
    },
    {
      "cell_type": "code",
      "metadata": {
        "colab": {
          "base_uri": "https://localhost:8080/"
        },
        "id": "pq-nyZNVNN6d",
        "outputId": "3424e147-6def-4996-a41c-6f658f0068e1"
      },
      "source": [
        "print('The last 2 sequences from whole sequenced data and it\\'s shape: \\n {} | {} \\n Last 5 values to predict (simple values from DF) : \\n \\\n",
        "    {}'.format(whole_data[-2:], whole_data.shape, whole_targets[-5:]))"
      ],
      "execution_count": 7,
      "outputs": [
        {
          "output_type": "stream",
          "text": [
            "The last 2 sequences from whole sequenced data and it's shape: \n",
            " [[[0.73053104]\n",
            "  [0.70257071]\n",
            "  [0.73957833]\n",
            "  [0.73755989]\n",
            "  [0.75381804]\n",
            "  [0.82580028]\n",
            "  [0.82878603]\n",
            "  [0.67242405]\n",
            "  [0.74136241]\n",
            "  [0.73805072]\n",
            "  [0.83438508]\n",
            "  [0.79408377]\n",
            "  [0.81366225]\n",
            "  [0.75136354]\n",
            "  [0.77830202]\n",
            "  [0.82893524]\n",
            "  [0.8250923 ]\n",
            "  [0.78842878]\n",
            "  [0.82084895]\n",
            "  [0.90850729]]\n",
            "\n",
            " [[0.70257071]\n",
            "  [0.73957833]\n",
            "  [0.73755989]\n",
            "  [0.75381804]\n",
            "  [0.82580028]\n",
            "  [0.82878603]\n",
            "  [0.67242405]\n",
            "  [0.74136241]\n",
            "  [0.73805072]\n",
            "  [0.83438508]\n",
            "  [0.79408377]\n",
            "  [0.81366225]\n",
            "  [0.75136354]\n",
            "  [0.77830202]\n",
            "  [0.82893524]\n",
            "  [0.8250923 ]\n",
            "  [0.78842878]\n",
            "  [0.82084895]\n",
            "  [0.90850729]\n",
            "  [1.        ]]] | (1985, 20, 1) \n",
            " Last 5 values to predict (simple values from DF) : \n",
            "     [[0.8250923 ]\n",
            " [0.78842878]\n",
            " [0.82084895]\n",
            " [0.90850729]\n",
            " [1.        ]]\n"
          ],
          "name": "stdout"
        }
      ]
    },
    {
      "cell_type": "code",
      "metadata": {
        "colab": {
          "base_uri": "https://localhost:8080/"
        },
        "id": "wP65Eklq1_1Z",
        "outputId": "8232ea92-5d43-48ca-f5a5-a15f1db065da"
      },
      "source": [
        "X_test[-1], X_test.shape"
      ],
      "execution_count": 8,
      "outputs": [
        {
          "output_type": "execute_result",
          "data": {
            "text/plain": [
              "(array([[0.70257071],\n",
              "        [0.73957833],\n",
              "        [0.73755989],\n",
              "        [0.75381804],\n",
              "        [0.82580028],\n",
              "        [0.82878603],\n",
              "        [0.67242405],\n",
              "        [0.74136241],\n",
              "        [0.73805072],\n",
              "        [0.83438508],\n",
              "        [0.79408377],\n",
              "        [0.81366225],\n",
              "        [0.75136354],\n",
              "        [0.77830202],\n",
              "        [0.82893524],\n",
              "        [0.8250923 ],\n",
              "        [0.78842878],\n",
              "        [0.82084895],\n",
              "        [0.90850729],\n",
              "        [1.        ]]), (100, 20, 1))"
            ]
          },
          "metadata": {
            "tags": []
          },
          "execution_count": 8
        }
      ]
    },
    {
      "cell_type": "code",
      "metadata": {
        "colab": {
          "base_uri": "https://localhost:8080/"
        },
        "id": "e_cHGX5NSpLP",
        "outputId": "c7fe98ba-699a-4b39-8e9a-c8616559a271"
      },
      "source": [
        "y_test[-5:], y_test.shape"
      ],
      "execution_count": 9,
      "outputs": [
        {
          "output_type": "execute_result",
          "data": {
            "text/plain": [
              "(array([[0.8250923 ],\n",
              "        [0.78842878],\n",
              "        [0.82084895],\n",
              "        [0.90850729],\n",
              "        [1.        ]]), (100, 1))"
            ]
          },
          "metadata": {
            "tags": []
          },
          "execution_count": 9
        }
      ]
    },
    {
      "cell_type": "markdown",
      "metadata": {
        "id": "Yhhv26c34YTW"
      },
      "source": [
        "### Model\n",
        "\n",
        "Bidirectional RNNs allows us to train on the sequence data in forward and backward (reversed) direction. In practice, this approach works well with LSTMs.\n",
        "CuDNNLSTM is a “Fast LSTM implementation backed by cuDNN”. \n",
        "\n",
        "The output layer has a single neuron (predicted Ethereum price). "
      ]
    },
    {
      "cell_type": "code",
      "metadata": {
        "id": "a3dw5qTasJoy",
        "colab": {
          "base_uri": "https://localhost:8080/"
        },
        "outputId": "8447d876-8674-4611-e09f-81995cc12fb8"
      },
      "source": [
        "DROPOUT = 0.2\n",
        "WINDOW_SIZE = SEQ_LEN \n",
        "\n",
        "model = keras.Sequential()\n",
        "\n",
        "model.add(Bidirectional(CuDNNLSTM(WINDOW_SIZE, return_sequences=True),\n",
        "                        input_shape=(WINDOW_SIZE, X_train.shape[-1])))\n",
        "model.add(Dropout(rate=DROPOUT))\n",
        "\n",
        "model.add(Bidirectional(CuDNNLSTM((WINDOW_SIZE * 2), return_sequences=True)))\n",
        "model.add(Dropout(rate=DROPOUT))\n",
        "\n",
        "model.add(Bidirectional(CuDNNLSTM(WINDOW_SIZE, return_sequences=False)))\n",
        "\n",
        "model.add(Dense(units=1))\n",
        "\n",
        "model.add(Activation('linear'))\n",
        "\n",
        "model.compile(\n",
        "    loss='mean_squared_error', \n",
        "    optimizer='adam'\n",
        ")\n",
        "\n",
        "model.summary()"
      ],
      "execution_count": 10,
      "outputs": [
        {
          "output_type": "stream",
          "text": [
            "Model: \"sequential\"\n",
            "_________________________________________________________________\n",
            "Layer (type)                 Output Shape              Param #   \n",
            "=================================================================\n",
            "bidirectional (Bidirectional (None, 20, 40)            3680      \n",
            "_________________________________________________________________\n",
            "dropout (Dropout)            (None, 20, 40)            0         \n",
            "_________________________________________________________________\n",
            "bidirectional_1 (Bidirection (None, 20, 80)            26240     \n",
            "_________________________________________________________________\n",
            "dropout_1 (Dropout)          (None, 20, 80)            0         \n",
            "_________________________________________________________________\n",
            "bidirectional_2 (Bidirection (None, 40)                16320     \n",
            "_________________________________________________________________\n",
            "dense (Dense)                (None, 1)                 41        \n",
            "_________________________________________________________________\n",
            "activation (Activation)      (None, 1)                 0         \n",
            "=================================================================\n",
            "Total params: 46,281\n",
            "Trainable params: 46,281\n",
            "Non-trainable params: 0\n",
            "_________________________________________________________________\n"
          ],
          "name": "stdout"
        }
      ]
    },
    {
      "cell_type": "markdown",
      "metadata": {
        "id": "pjBan-K27L8d"
      },
      "source": [
        "### Training"
      ]
    },
    {
      "cell_type": "code",
      "metadata": {
        "id": "m1aU2xDvsvrN",
        "colab": {
          "base_uri": "https://localhost:8080/"
        },
        "outputId": "ed4c60df-cedc-4987-c3e7-4ebd437fe3f3"
      },
      "source": [
        "BATCH_SIZE = 32\n",
        "EPOCHS = 100\n",
        "\n",
        "history = model.fit(\n",
        "    X_train, \n",
        "    y_train, \n",
        "    epochs=EPOCHS, \n",
        "    batch_size=BATCH_SIZE, \n",
        "    shuffle=False,\n",
        "    validation_split=0.1\n",
        ")"
      ],
      "execution_count": 11,
      "outputs": [
        {
          "output_type": "stream",
          "text": [
            "Epoch 1/100\n",
            "53/53 [==============================] - 22s 140ms/step - loss: 0.0039 - val_loss: 0.0080\n",
            "Epoch 2/100\n",
            "53/53 [==============================] - 1s 11ms/step - loss: 0.0139 - val_loss: 0.0110\n",
            "Epoch 3/100\n",
            "53/53 [==============================] - 1s 10ms/step - loss: 0.0071 - val_loss: 0.0093\n",
            "Epoch 4/100\n",
            "53/53 [==============================] - 1s 11ms/step - loss: 0.0040 - val_loss: 0.0052\n",
            "Epoch 5/100\n",
            "53/53 [==============================] - 1s 10ms/step - loss: 0.0016 - val_loss: 0.0020\n",
            "Epoch 6/100\n",
            "53/53 [==============================] - 1s 10ms/step - loss: 9.6751e-04 - val_loss: 0.0024\n",
            "Epoch 7/100\n",
            "53/53 [==============================] - 1s 10ms/step - loss: 0.0023 - val_loss: 0.0026\n",
            "Epoch 8/100\n",
            "53/53 [==============================] - 1s 10ms/step - loss: 9.3109e-04 - val_loss: 0.0023\n",
            "Epoch 9/100\n",
            "53/53 [==============================] - 1s 10ms/step - loss: 0.0018 - val_loss: 0.0025\n",
            "Epoch 10/100\n",
            "53/53 [==============================] - 1s 10ms/step - loss: 0.0011 - val_loss: 0.0025\n",
            "Epoch 11/100\n",
            "53/53 [==============================] - 1s 10ms/step - loss: 0.0016 - val_loss: 0.0026\n",
            "Epoch 12/100\n",
            "53/53 [==============================] - 1s 10ms/step - loss: 0.0014 - val_loss: 0.0027\n",
            "Epoch 13/100\n",
            "53/53 [==============================] - 1s 10ms/step - loss: 0.0014 - val_loss: 0.0028\n",
            "Epoch 14/100\n",
            "53/53 [==============================] - 1s 10ms/step - loss: 0.0016 - val_loss: 0.0028\n",
            "Epoch 15/100\n",
            "53/53 [==============================] - 1s 10ms/step - loss: 0.0018 - val_loss: 0.0029\n",
            "Epoch 16/100\n",
            "53/53 [==============================] - 1s 12ms/step - loss: 0.0016 - val_loss: 0.0026\n",
            "Epoch 17/100\n",
            "53/53 [==============================] - 1s 10ms/step - loss: 0.0015 - val_loss: 0.0027\n",
            "Epoch 18/100\n",
            "53/53 [==============================] - 1s 10ms/step - loss: 0.0015 - val_loss: 0.0029\n",
            "Epoch 19/100\n",
            "53/53 [==============================] - 1s 10ms/step - loss: 0.0025 - val_loss: 0.0034\n",
            "Epoch 20/100\n",
            "53/53 [==============================] - 1s 10ms/step - loss: 0.0033 - val_loss: 0.0028\n",
            "Epoch 21/100\n",
            "53/53 [==============================] - 1s 10ms/step - loss: 0.0013 - val_loss: 0.0024\n",
            "Epoch 22/100\n",
            "53/53 [==============================] - 1s 10ms/step - loss: 0.0025 - val_loss: 0.0020\n",
            "Epoch 23/100\n",
            "53/53 [==============================] - 1s 10ms/step - loss: 0.0011 - val_loss: 0.0020\n",
            "Epoch 24/100\n",
            "53/53 [==============================] - 1s 10ms/step - loss: 0.0012 - val_loss: 0.0015\n",
            "Epoch 25/100\n",
            "53/53 [==============================] - 1s 10ms/step - loss: 6.7210e-04 - val_loss: 0.0014\n",
            "Epoch 26/100\n",
            "53/53 [==============================] - 1s 10ms/step - loss: 0.0013 - val_loss: 0.0013\n",
            "Epoch 27/100\n",
            "53/53 [==============================] - 1s 10ms/step - loss: 6.4803e-04 - val_loss: 0.0012\n",
            "Epoch 28/100\n",
            "53/53 [==============================] - 1s 10ms/step - loss: 9.2645e-04 - val_loss: 0.0012\n",
            "Epoch 29/100\n",
            "53/53 [==============================] - 1s 10ms/step - loss: 6.3658e-04 - val_loss: 0.0011\n",
            "Epoch 30/100\n",
            "53/53 [==============================] - 1s 10ms/step - loss: 7.3185e-04 - val_loss: 0.0011\n",
            "Epoch 31/100\n",
            "53/53 [==============================] - 1s 11ms/step - loss: 6.8543e-04 - val_loss: 0.0011\n",
            "Epoch 32/100\n",
            "53/53 [==============================] - 1s 11ms/step - loss: 6.5523e-04 - val_loss: 0.0011\n",
            "Epoch 33/100\n",
            "53/53 [==============================] - 1s 11ms/step - loss: 6.3548e-04 - val_loss: 0.0012\n",
            "Epoch 34/100\n",
            "53/53 [==============================] - 1s 10ms/step - loss: 7.7335e-04 - val_loss: 0.0014\n",
            "Epoch 35/100\n",
            "53/53 [==============================] - 1s 10ms/step - loss: 8.2987e-04 - val_loss: 0.0015\n",
            "Epoch 36/100\n",
            "53/53 [==============================] - 1s 10ms/step - loss: 7.2328e-04 - val_loss: 0.0013\n",
            "Epoch 37/100\n",
            "53/53 [==============================] - 1s 10ms/step - loss: 5.8656e-04 - val_loss: 0.0012\n",
            "Epoch 38/100\n",
            "53/53 [==============================] - 1s 10ms/step - loss: 5.6657e-04 - val_loss: 0.0013\n",
            "Epoch 39/100\n",
            "53/53 [==============================] - 1s 10ms/step - loss: 7.8481e-04 - val_loss: 0.0015\n",
            "Epoch 40/100\n",
            "53/53 [==============================] - 1s 10ms/step - loss: 7.8361e-04 - val_loss: 0.0016\n",
            "Epoch 41/100\n",
            "53/53 [==============================] - 1s 10ms/step - loss: 0.0010 - val_loss: 0.0012\n",
            "Epoch 42/100\n",
            "53/53 [==============================] - 1s 10ms/step - loss: 3.6326e-04 - val_loss: 0.0010\n",
            "Epoch 43/100\n",
            "53/53 [==============================] - 1s 10ms/step - loss: 0.0012 - val_loss: 0.0016\n",
            "Epoch 44/100\n",
            "53/53 [==============================] - 1s 10ms/step - loss: 0.0011 - val_loss: 0.0015\n",
            "Epoch 45/100\n",
            "53/53 [==============================] - 1s 10ms/step - loss: 6.7455e-04 - val_loss: 0.0012\n",
            "Epoch 46/100\n",
            "53/53 [==============================] - 1s 10ms/step - loss: 4.7166e-04 - val_loss: 9.5287e-04\n",
            "Epoch 47/100\n",
            "53/53 [==============================] - 1s 10ms/step - loss: 4.5019e-04 - val_loss: 9.3572e-04\n",
            "Epoch 48/100\n",
            "53/53 [==============================] - 1s 10ms/step - loss: 5.3013e-04 - val_loss: 9.8928e-04\n",
            "Epoch 49/100\n",
            "53/53 [==============================] - 1s 10ms/step - loss: 5.2704e-04 - val_loss: 9.0425e-04\n",
            "Epoch 50/100\n",
            "53/53 [==============================] - 1s 10ms/step - loss: 3.8687e-04 - val_loss: 8.0201e-04\n",
            "Epoch 51/100\n",
            "53/53 [==============================] - 1s 10ms/step - loss: 4.2715e-04 - val_loss: 7.9691e-04\n",
            "Epoch 52/100\n",
            "53/53 [==============================] - 1s 10ms/step - loss: 4.6041e-04 - val_loss: 8.4489e-04\n",
            "Epoch 53/100\n",
            "53/53 [==============================] - 1s 10ms/step - loss: 4.4993e-04 - val_loss: 8.1006e-04\n",
            "Epoch 54/100\n",
            "53/53 [==============================] - 1s 10ms/step - loss: 3.2064e-04 - val_loss: 6.2764e-04\n",
            "Epoch 55/100\n",
            "53/53 [==============================] - 1s 10ms/step - loss: 3.4316e-04 - val_loss: 6.5337e-04\n",
            "Epoch 56/100\n",
            "53/53 [==============================] - 1s 10ms/step - loss: 4.6873e-04 - val_loss: 6.8373e-04\n",
            "Epoch 57/100\n",
            "53/53 [==============================] - 1s 10ms/step - loss: 3.8607e-04 - val_loss: 3.5390e-04\n",
            "Epoch 58/100\n",
            "53/53 [==============================] - 1s 10ms/step - loss: 1.7587e-04 - val_loss: 1.8557e-04\n",
            "Epoch 59/100\n",
            "53/53 [==============================] - 1s 10ms/step - loss: 2.3079e-04 - val_loss: 2.7593e-04\n",
            "Epoch 60/100\n",
            "53/53 [==============================] - 1s 10ms/step - loss: 3.8343e-04 - val_loss: 5.2226e-04\n",
            "Epoch 61/100\n",
            "53/53 [==============================] - 1s 10ms/step - loss: 5.0684e-04 - val_loss: 6.6605e-04\n",
            "Epoch 62/100\n",
            "53/53 [==============================] - 1s 10ms/step - loss: 3.9774e-04 - val_loss: 5.3636e-04\n",
            "Epoch 63/100\n",
            "53/53 [==============================] - 1s 10ms/step - loss: 3.2046e-04 - val_loss: 2.1809e-04\n",
            "Epoch 64/100\n",
            "53/53 [==============================] - 1s 10ms/step - loss: 1.6197e-04 - val_loss: 9.1914e-05\n",
            "Epoch 65/100\n",
            "53/53 [==============================] - 1s 10ms/step - loss: 1.5817e-04 - val_loss: 5.4604e-05\n",
            "Epoch 66/100\n",
            "53/53 [==============================] - 1s 12ms/step - loss: 1.2551e-04 - val_loss: 5.3496e-05\n",
            "Epoch 67/100\n",
            "53/53 [==============================] - 1s 11ms/step - loss: 1.2089e-04 - val_loss: 4.9985e-05\n",
            "Epoch 68/100\n",
            "53/53 [==============================] - 1s 10ms/step - loss: 1.2452e-04 - val_loss: 5.9177e-05\n",
            "Epoch 69/100\n",
            "53/53 [==============================] - 1s 10ms/step - loss: 1.5113e-04 - val_loss: 8.4049e-05\n",
            "Epoch 70/100\n",
            "53/53 [==============================] - 1s 10ms/step - loss: 2.5670e-04 - val_loss: 3.6558e-04\n",
            "Epoch 71/100\n",
            "53/53 [==============================] - 1s 10ms/step - loss: 8.0087e-04 - val_loss: 7.5087e-04\n",
            "Epoch 72/100\n",
            "53/53 [==============================] - 1s 10ms/step - loss: 0.0023 - val_loss: 0.0016\n",
            "Epoch 73/100\n",
            "53/53 [==============================] - 1s 10ms/step - loss: 0.0034 - val_loss: 0.0053\n",
            "Epoch 74/100\n",
            "53/53 [==============================] - 1s 10ms/step - loss: 0.0054 - val_loss: 0.0027\n",
            "Epoch 75/100\n",
            "53/53 [==============================] - 1s 10ms/step - loss: 0.0012 - val_loss: 0.0027\n",
            "Epoch 76/100\n",
            "53/53 [==============================] - 1s 10ms/step - loss: 0.0011 - val_loss: 0.0013\n",
            "Epoch 77/100\n",
            "53/53 [==============================] - 1s 10ms/step - loss: 6.0419e-04 - val_loss: 0.0014\n",
            "Epoch 78/100\n",
            "53/53 [==============================] - 1s 10ms/step - loss: 0.0017 - val_loss: 0.0011\n",
            "Epoch 79/100\n",
            "53/53 [==============================] - 1s 10ms/step - loss: 4.6013e-04 - val_loss: 0.0011\n",
            "Epoch 80/100\n",
            "53/53 [==============================] - 1s 10ms/step - loss: 0.0017 - val_loss: 9.2968e-04\n",
            "Epoch 81/100\n",
            "53/53 [==============================] - 1s 10ms/step - loss: 3.7031e-04 - val_loss: 8.1162e-04\n",
            "Epoch 82/100\n",
            "53/53 [==============================] - 1s 10ms/step - loss: 0.0013 - val_loss: 7.0053e-04\n",
            "Epoch 83/100\n",
            "53/53 [==============================] - 1s 10ms/step - loss: 2.8851e-04 - val_loss: 5.8220e-04\n",
            "Epoch 84/100\n",
            "53/53 [==============================] - 1s 10ms/step - loss: 8.4775e-04 - val_loss: 6.4577e-04\n",
            "Epoch 85/100\n",
            "53/53 [==============================] - 1s 10ms/step - loss: 2.5628e-04 - val_loss: 4.7236e-04\n",
            "Epoch 86/100\n",
            "53/53 [==============================] - 1s 10ms/step - loss: 4.5597e-04 - val_loss: 4.9020e-04\n",
            "Epoch 87/100\n",
            "53/53 [==============================] - 1s 11ms/step - loss: 2.6579e-04 - val_loss: 3.3204e-04\n",
            "Epoch 88/100\n",
            "53/53 [==============================] - 1s 10ms/step - loss: 2.9677e-04 - val_loss: 3.2933e-04\n",
            "Epoch 89/100\n",
            "53/53 [==============================] - 1s 10ms/step - loss: 2.6495e-04 - val_loss: 3.2613e-04\n",
            "Epoch 90/100\n",
            "53/53 [==============================] - 1s 10ms/step - loss: 2.3186e-04 - val_loss: 2.5236e-04\n",
            "Epoch 91/100\n",
            "53/53 [==============================] - 1s 11ms/step - loss: 1.9748e-04 - val_loss: 2.4120e-04\n",
            "Epoch 92/100\n",
            "53/53 [==============================] - 1s 10ms/step - loss: 2.2668e-04 - val_loss: 2.1535e-04\n",
            "Epoch 93/100\n",
            "53/53 [==============================] - 1s 10ms/step - loss: 1.9376e-04 - val_loss: 1.9014e-04\n",
            "Epoch 94/100\n",
            "53/53 [==============================] - 1s 10ms/step - loss: 2.1781e-04 - val_loss: 1.3656e-04\n",
            "Epoch 95/100\n",
            "53/53 [==============================] - 1s 10ms/step - loss: 1.6801e-04 - val_loss: 9.3320e-05\n",
            "Epoch 96/100\n",
            "53/53 [==============================] - 1s 10ms/step - loss: 1.3087e-04 - val_loss: 7.0501e-05\n",
            "Epoch 97/100\n",
            "53/53 [==============================] - 1s 10ms/step - loss: 1.4029e-04 - val_loss: 6.2110e-05\n",
            "Epoch 98/100\n",
            "53/53 [==============================] - 1s 11ms/step - loss: 1.5026e-04 - val_loss: 7.9721e-05\n",
            "Epoch 99/100\n",
            "53/53 [==============================] - 1s 11ms/step - loss: 1.5075e-04 - val_loss: 7.8497e-05\n",
            "Epoch 100/100\n",
            "53/53 [==============================] - 1s 10ms/step - loss: 1.3677e-04 - val_loss: 6.1836e-05\n"
          ],
          "name": "stdout"
        }
      ]
    },
    {
      "cell_type": "code",
      "metadata": {
        "id": "L9JumIeP40xv",
        "colab": {
          "base_uri": "https://localhost:8080/"
        },
        "outputId": "80e16f8d-b0df-488b-a792-ec4c61bf5f01"
      },
      "source": [
        "model.evaluate(X_test, y_test)"
      ],
      "execution_count": 12,
      "outputs": [
        {
          "output_type": "stream",
          "text": [
            "4/4 [==============================] - 9s 3s/step - loss: 0.0013\n"
          ],
          "name": "stdout"
        },
        {
          "output_type": "execute_result",
          "data": {
            "text/plain": [
              "0.001250500208698213"
            ]
          },
          "metadata": {
            "tags": []
          },
          "execution_count": 12
        }
      ]
    },
    {
      "cell_type": "code",
      "metadata": {
        "id": "2_9ibR1e5DnQ",
        "colab": {
          "base_uri": "https://localhost:8080/",
          "height": 730
        },
        "outputId": "6ea99c39-d044-4154-ca9d-b7e102759d7d"
      },
      "source": [
        "plt.figure(figsize = (18,12))\n",
        "plt.plot(history.history['loss'])\n",
        "plt.plot(history.history['val_loss'])\n",
        "plt.title('model loss')\n",
        "plt.ylabel('loss')\n",
        "plt.xlabel('epoch')\n",
        "plt.legend(['train', 'test'], loc='upper left')\n",
        "plt.show()"
      ],
      "execution_count": 13,
      "outputs": [
        {
          "output_type": "display_data",
          "data": {
            "image/png": "[encoded data removed]",
            "text/plain": [
              "<Figure size 1296x864 with 1 Axes>"
            ]
          },
          "metadata": {
            "tags": [],
            "needs_background": "light"
          }
        }
      ]
    },
    {
      "cell_type": "markdown",
      "metadata": {
        "id": "Xf9STH2D4_hP"
      },
      "source": [
        "### Prediction on Test Data"
      ]
    },
    {
      "cell_type": "code",
      "metadata": {
        "id": "Lui1XTi0xVsF",
        "colab": {
          "base_uri": "https://localhost:8080/",
          "height": 730
        },
        "outputId": "0f86ac95-3764-4b3f-f612-39fa274cf726"
      },
      "source": [
        "y_hat = model.predict(X_test)\n",
        "\n",
        "y_test_inverse = scaler.inverse_transform(y_test)\n",
        "y_hat_inverse = scaler.inverse_transform(y_hat)\n",
        "\n",
        "plt.figure(figsize = (18,12))\n",
        "plt.plot(y_test_inverse, label=\"Actual Price\", color='green')\n",
        "plt.plot(y_hat_inverse, label=\"Predicted Price\", color='red')\n",
        " \n",
        "plt.title('Ethereum price prediction')\n",
        "plt.xlabel('Time [days]')\n",
        "plt.ylabel('Price')\n",
        "plt.legend(loc='best')\n",
        "\n",
        "plt.show();"
      ],
      "execution_count": 14,
      "outputs": [
        {
          "output_type": "display_data",
          "data": {
            "image/png": "[encoded data removed]",
            "text/plain": [
              "<Figure size 1296x864 with 1 Axes>"
            ]
          },
          "metadata": {
            "tags": [],
            "needs_background": "light"
          }
        }
      ]
    },
    {
      "cell_type": "markdown",
      "metadata": {
        "id": "bh43lxhu8lvk"
      },
      "source": [
        "Checking some real (*y_test_inverse*) and predicted *y_hat_inverse* values"
      ]
    },
    {
      "cell_type": "code",
      "metadata": {
        "id": "ak-CiQAVz4Fw",
        "colab": {
          "base_uri": "https://localhost:8080/"
        },
        "outputId": "4c934eef-6df8-42fc-afb1-aa0eaf6a5292"
      },
      "source": [
        "y_test_inverse[85:]"
      ],
      "execution_count": 15,
      "outputs": [
        {
          "output_type": "execute_result",
          "data": {
            "text/plain": [
              "array([[1382.27404785],\n",
              "       [1121.57092285],\n",
              "       [1236.51220703],\n",
              "       [1230.99060059],\n",
              "       [1391.609375  ],\n",
              "       [1324.41479492],\n",
              "       [1357.05810547],\n",
              "       [1253.18713379],\n",
              "       [1298.10180664],\n",
              "       [1382.52282715],\n",
              "       [1376.11547852],\n",
              "       [1314.98620605],\n",
              "       [1369.04052734],\n",
              "       [1515.19372559],\n",
              "       [1667.73999023]])"
            ]
          },
          "metadata": {
            "tags": []
          },
          "execution_count": 15
        }
      ]
    },
    {
      "cell_type": "code",
      "metadata": {
        "id": "DGaxvOa_mjTp",
        "colab": {
          "base_uri": "https://localhost:8080/"
        },
        "outputId": "69d17f2b-9332-4f0b-c0d9-05f14bea6063"
      },
      "source": [
        "y_hat_inverse[85:]"
      ],
      "execution_count": 16,
      "outputs": [
        {
          "output_type": "execute_result",
          "data": {
            "text/plain": [
              "array([[1284.1305],\n",
              "       [1176.7771],\n",
              "       [1160.0634],\n",
              "       [1156.7576],\n",
              "       [1231.906 ],\n",
              "       [1245.5232],\n",
              "       [1260.7169],\n",
              "       [1218.7491],\n",
              "       [1212.686 ],\n",
              "       [1251.0323],\n",
              "       [1271.6096],\n",
              "       [1251.4996],\n",
              "       [1261.0413],\n",
              "       [1333.5847],\n",
              "       [1441.3237]], dtype=float32)"
            ]
          },
          "metadata": {
            "tags": []
          },
          "execution_count": 16
        }
      ]
    },
    {
      "cell_type": "code",
      "metadata": {
        "id": "w_zHO4Cer89M",
        "colab": {
          "base_uri": "https://localhost:8080/",
          "height": 514
        },
        "outputId": "ad5c1d04-d888-40c9-cee5-8fc9c075dd00"
      },
      "source": [
        "df.tail(15)"
      ],
      "execution_count": 17,
      "outputs": [
        {
          "output_type": "execute_result",
          "data": {
            "text/html": [
              "<div>\n",
              "<style scoped>\n",
              "    .dataframe tbody tr th:only-of-type {\n",
              "        vertical-align: middle;\n",
              "    }\n",
              "\n",
              "    .dataframe tbody tr th {\n",
              "        vertical-align: top;\n",
              "    }\n",
              "\n",
              "    .dataframe thead th {\n",
              "        text-align: right;\n",
              "    }\n",
              "</style>\n",
              "<table border=\"1\" class=\"dataframe\">\n",
              "  <thead>\n",
              "    <tr style=\"text-align: right;\">\n",
              "      <th></th>\n",
              "      <th>Date</th>\n",
              "      <th>Open</th>\n",
              "      <th>High</th>\n",
              "      <th>Low</th>\n",
              "      <th>Close</th>\n",
              "      <th>Adj Close</th>\n",
              "      <th>Volume</th>\n",
              "    </tr>\n",
              "  </thead>\n",
              "  <tbody>\n",
              "    <tr>\n",
              "      <th>1989</th>\n",
              "      <td>2021-01-20</td>\n",
              "      <td>1375.248413</td>\n",
              "      <td>1405.744141</td>\n",
              "      <td>1243.299927</td>\n",
              "      <td>1382.274048</td>\n",
              "      <td>1382.274048</td>\n",
              "      <td>46784030909</td>\n",
              "    </tr>\n",
              "    <tr>\n",
              "      <th>1990</th>\n",
              "      <td>2021-01-21</td>\n",
              "      <td>1382.684448</td>\n",
              "      <td>1382.684448</td>\n",
              "      <td>1098.476196</td>\n",
              "      <td>1121.570923</td>\n",
              "      <td>1121.570923</td>\n",
              "      <td>45932464754</td>\n",
              "    </tr>\n",
              "    <tr>\n",
              "      <th>1991</th>\n",
              "      <td>2021-01-22</td>\n",
              "      <td>1118.889038</td>\n",
              "      <td>1271.687622</td>\n",
              "      <td>1046.596558</td>\n",
              "      <td>1236.512207</td>\n",
              "      <td>1236.512207</td>\n",
              "      <td>43918338506</td>\n",
              "    </tr>\n",
              "    <tr>\n",
              "      <th>1992</th>\n",
              "      <td>2021-01-23</td>\n",
              "      <td>1235.267944</td>\n",
              "      <td>1272.151123</td>\n",
              "      <td>1200.893311</td>\n",
              "      <td>1230.990601</td>\n",
              "      <td>1230.990601</td>\n",
              "      <td>27253895441</td>\n",
              "    </tr>\n",
              "    <tr>\n",
              "      <th>1993</th>\n",
              "      <td>2021-01-24</td>\n",
              "      <td>1231.210571</td>\n",
              "      <td>1395.111328</td>\n",
              "      <td>1225.274048</td>\n",
              "      <td>1391.609375</td>\n",
              "      <td>1391.609375</td>\n",
              "      <td>36418163554</td>\n",
              "    </tr>\n",
              "    <tr>\n",
              "      <th>1994</th>\n",
              "      <td>2021-01-25</td>\n",
              "      <td>1390.639893</td>\n",
              "      <td>1467.784912</td>\n",
              "      <td>1304.973999</td>\n",
              "      <td>1324.414795</td>\n",
              "      <td>1324.414795</td>\n",
              "      <td>43565777745</td>\n",
              "    </tr>\n",
              "    <tr>\n",
              "      <th>1995</th>\n",
              "      <td>2021-01-26</td>\n",
              "      <td>1323.741699</td>\n",
              "      <td>1376.085083</td>\n",
              "      <td>1253.340332</td>\n",
              "      <td>1357.058105</td>\n",
              "      <td>1357.058105</td>\n",
              "      <td>41572917750</td>\n",
              "    </tr>\n",
              "    <tr>\n",
              "      <th>1996</th>\n",
              "      <td>2021-01-27</td>\n",
              "      <td>1358.333374</td>\n",
              "      <td>1368.074097</td>\n",
              "      <td>1215.311279</td>\n",
              "      <td>1253.187134</td>\n",
              "      <td>1253.187134</td>\n",
              "      <td>39394416990</td>\n",
              "    </tr>\n",
              "    <tr>\n",
              "      <th>1997</th>\n",
              "      <td>2021-01-28</td>\n",
              "      <td>1251.279785</td>\n",
              "      <td>1321.613037</td>\n",
              "      <td>1226.173950</td>\n",
              "      <td>1298.101807</td>\n",
              "      <td>1298.101807</td>\n",
              "      <td>39790481941</td>\n",
              "    </tr>\n",
              "    <tr>\n",
              "      <th>1998</th>\n",
              "      <td>2021-01-29</td>\n",
              "      <td>1369.086792</td>\n",
              "      <td>1428.981201</td>\n",
              "      <td>1292.240112</td>\n",
              "      <td>1382.522827</td>\n",
              "      <td>1382.522827</td>\n",
              "      <td>53611955259</td>\n",
              "    </tr>\n",
              "    <tr>\n",
              "      <th>1999</th>\n",
              "      <td>2021-01-30</td>\n",
              "      <td>1382.231934</td>\n",
              "      <td>1402.399780</td>\n",
              "      <td>1328.529053</td>\n",
              "      <td>1376.115479</td>\n",
              "      <td>1376.115479</td>\n",
              "      <td>30616574234</td>\n",
              "    </tr>\n",
              "    <tr>\n",
              "      <th>2000</th>\n",
              "      <td>2021-01-31</td>\n",
              "      <td>1376.823608</td>\n",
              "      <td>1378.916016</td>\n",
              "      <td>1288.501587</td>\n",
              "      <td>1314.986206</td>\n",
              "      <td>1314.986206</td>\n",
              "      <td>25198853581</td>\n",
              "    </tr>\n",
              "    <tr>\n",
              "      <th>2001</th>\n",
              "      <td>2021-02-01</td>\n",
              "      <td>1314.855225</td>\n",
              "      <td>1373.845825</td>\n",
              "      <td>1274.357788</td>\n",
              "      <td>1369.040527</td>\n",
              "      <td>1369.040527</td>\n",
              "      <td>29210670920</td>\n",
              "    </tr>\n",
              "    <tr>\n",
              "      <th>2002</th>\n",
              "      <td>2021-02-02</td>\n",
              "      <td>1369.505127</td>\n",
              "      <td>1542.990967</td>\n",
              "      <td>1362.771240</td>\n",
              "      <td>1515.193726</td>\n",
              "      <td>1515.193726</td>\n",
              "      <td>45437142801</td>\n",
              "    </tr>\n",
              "    <tr>\n",
              "      <th>2003</th>\n",
              "      <td>2021-02-04</td>\n",
              "      <td>1671.787476</td>\n",
              "      <td>1671.787476</td>\n",
              "      <td>1662.468994</td>\n",
              "      <td>1667.739990</td>\n",
              "      <td>1667.739990</td>\n",
              "      <td>42306035712</td>\n",
              "    </tr>\n",
              "  </tbody>\n",
              "</table>\n",
              "</div>"
            ],
            "text/plain": [
              "           Date         Open  ...    Adj Close       Volume\n",
              "1989 2021-01-20  1375.248413  ...  1382.274048  46784030909\n",
              "1990 2021-01-21  1382.684448  ...  1121.570923  45932464754\n",
              "1991 2021-01-22  1118.889038  ...  1236.512207  43918338506\n",
              "1992 2021-01-23  1235.267944  ...  1230.990601  27253895441\n",
              "1993 2021-01-24  1231.210571  ...  1391.609375  36418163554\n",
              "1994 2021-01-25  1390.639893  ...  1324.414795  43565777745\n",
              "1995 2021-01-26  1323.741699  ...  1357.058105  41572917750\n",
              "1996 2021-01-27  1358.333374  ...  1253.187134  39394416990\n",
              "1997 2021-01-28  1251.279785  ...  1298.101807  39790481941\n",
              "1998 2021-01-29  1369.086792  ...  1382.522827  53611955259\n",
              "1999 2021-01-30  1382.231934  ...  1376.115479  30616574234\n",
              "2000 2021-01-31  1376.823608  ...  1314.986206  25198853581\n",
              "2001 2021-02-01  1314.855225  ...  1369.040527  29210670920\n",
              "2002 2021-02-02  1369.505127  ...  1515.193726  45437142801\n",
              "2003 2021-02-04  1671.787476  ...  1667.739990  42306035712\n",
              "\n",
              "[15 rows x 7 columns]"
            ]
          },
          "metadata": {
            "tags": []
          },
          "execution_count": 17
        }
      ]
    },
    {
      "cell_type": "markdown",
      "metadata": {
        "id": "hDzyf5nW87yM"
      },
      "source": [
        "### Now, let's predict into the future.\n",
        "\n",
        "Since 20 values are predicting the next one and there is no value for tomorrow to make prediction upon, I'm gonna make an artificial dummy values for that. I'm making a new sequence, where the last value will be repeated twice (inserting a dummy data) : if the last value for today is *[0.94239681]*, then this value will be set for tomorrow\n",
        "\n",
        "Prediction array will be : pred_array\n",
        "Target arrays will be:  targ_array"
      ]
    },
    {
      "cell_type": "code",
      "metadata": {
        "id": "1XYI84TV6hyg"
      },
      "source": [
        "def get_prediction_array(X):\n",
        "  \"\"\"\n",
        "  Inserts an other array to the end of the whole_data sequence in order to make\n",
        "  array for predicting tomorrow's value\n",
        "\n",
        "  returns: array of shape (None, 20, 1)\n",
        "  \"\"\"\n",
        "  next = len(X)\n",
        "  a = np.insert(X,[next],X[next-1], axis=0)\n",
        "  for i_ in range(len(a[100]) - 1):\n",
        "    if(i_ == 20):\n",
        "      a[next][i_][0] == a[next][i_ - 1][0]\n",
        "    else:\n",
        "      a[next][i_][0] = a[next][i_ + 1][0]\n",
        "  \n",
        "  return a"
      ],
      "execution_count": 18,
      "outputs": []
    },
    {
      "cell_type": "code",
      "metadata": {
        "colab": {
          "base_uri": "https://localhost:8080/"
        },
        "id": "r2wyFDS4-Sw0",
        "outputId": "a88d24b9-04b3-45b0-f18a-77c4a4cafedd"
      },
      "source": [
        "pred_array = get_prediction_array(whole_data)\n",
        "pred_array.shape"
      ],
      "execution_count": 19,
      "outputs": [
        {
          "output_type": "execute_result",
          "data": {
            "text/plain": [
              "(1986, 20, 1)"
            ]
          },
          "metadata": {
            "tags": []
          },
          "execution_count": 19
        }
      ]
    },
    {
      "cell_type": "code",
      "metadata": {
        "colab": {
          "base_uri": "https://localhost:8080/"
        },
        "id": "QtLnN-anwiDO",
        "outputId": "8c3dc9bb-7970-4231-c218-29414c25420d"
      },
      "source": [
        "pred_array[-2:], pred_array.shape"
      ],
      "execution_count": 20,
      "outputs": [
        {
          "output_type": "execute_result",
          "data": {
            "text/plain": [
              "(array([[[0.70257071],\n",
              "         [0.73957833],\n",
              "         [0.73755989],\n",
              "         [0.75381804],\n",
              "         [0.82580028],\n",
              "         [0.82878603],\n",
              "         [0.67242405],\n",
              "         [0.74136241],\n",
              "         [0.73805072],\n",
              "         [0.83438508],\n",
              "         [0.79408377],\n",
              "         [0.81366225],\n",
              "         [0.75136354],\n",
              "         [0.77830202],\n",
              "         [0.82893524],\n",
              "         [0.8250923 ],\n",
              "         [0.78842878],\n",
              "         [0.82084895],\n",
              "         [0.90850729],\n",
              "         [1.        ]],\n",
              " \n",
              "        [[0.73957833],\n",
              "         [0.73755989],\n",
              "         [0.75381804],\n",
              "         [0.82580028],\n",
              "         [0.82878603],\n",
              "         [0.67242405],\n",
              "         [0.74136241],\n",
              "         [0.73805072],\n",
              "         [0.83438508],\n",
              "         [0.79408377],\n",
              "         [0.81366225],\n",
              "         [0.75136354],\n",
              "         [0.77830202],\n",
              "         [0.82893524],\n",
              "         [0.8250923 ],\n",
              "         [0.78842878],\n",
              "         [0.82084895],\n",
              "         [0.90850729],\n",
              "         [1.        ],\n",
              "         [1.        ]]]), (1986, 20, 1))"
            ]
          },
          "metadata": {
            "tags": []
          },
          "execution_count": 20
        }
      ]
    },
    {
      "cell_type": "code",
      "metadata": {
        "colab": {
          "base_uri": "https://localhost:8080/"
        },
        "id": "vmPy73FA5nhr",
        "outputId": "8054d172-f507-4201-c521-cff8e1679a01"
      },
      "source": [
        "targ_array = get_prediction_array(whole_targets)\n",
        "targ_array.shape "
      ],
      "execution_count": 21,
      "outputs": [
        {
          "output_type": "execute_result",
          "data": {
            "text/plain": [
              "(1986, 1)"
            ]
          },
          "metadata": {
            "tags": []
          },
          "execution_count": 21
        }
      ]
    },
    {
      "cell_type": "code",
      "metadata": {
        "colab": {
          "base_uri": "https://localhost:8080/",
          "height": 730
        },
        "id": "ceC-sgbDp2iL",
        "outputId": "3fdb7f86-2816-42be-e29b-66c2a0b94c71"
      },
      "source": [
        "y_hat = model.predict(pred_array)\n",
        "\n",
        "y_true_inverse = scaler.inverse_transform(targ_array)\n",
        "y_hat_inverse = scaler.inverse_transform(y_hat)\n",
        "\n",
        "plt.figure(figsize = (18,12))\n",
        "plt.plot(y_true_inverse, label=\"Actual Price\", color='green')\n",
        "plt.plot(y_hat_inverse, label=\"Predicted Price\", color='red')\n",
        " \n",
        "plt.title('Ethereum price prediction')\n",
        "plt.xlabel('Time')\n",
        "plt.ylabel('Price')\n",
        "plt.legend(loc='best')\n",
        " \n",
        "plt.show();"
      ],
      "execution_count": 22,
      "outputs": [
        {
          "output_type": "display_data",
          "data": {
            "image/png": "[encoded data removed]",
            "text/plain": [
              "<Figure size 1296x864 with 1 Axes>"
            ]
          },
          "metadata": {
            "tags": [],
            "needs_background": "light"
          }
        }
      ]
    },
    {
      "cell_type": "code",
      "metadata": {
        "id": "d6bLX-8d_Qx1",
        "colab": {
          "base_uri": "https://localhost:8080/"
        },
        "outputId": "e65bf5c4-11c7-4249-cb0c-cd6a4762c72f"
      },
      "source": [
        "print('Predicted Ethereum price for the next day: {} and predicted Ethereum price for the next day: {}'.format(y_hat_inverse[-1], y_true_inverse[-1]))"
      ],
      "execution_count": 23,
      "outputs": [
        {
          "output_type": "stream",
          "text": [
            "Predicted Ethereum price for the next day: [1485.0607] and predicted Ethereum price for the next day: [1667.73999023]\n"
          ],
          "name": "stdout"
        }
      ]
    },
    {
      "cell_type": "markdown",
      "metadata": {
        "id": "K2jMNYQlUFcx"
      },
      "source": [
        "### Making a dataset of data-predicted-true values\n",
        "\n",
        "\n",
        "**NOTE** - prediction starts from 20th **(SEQ_LEN)** day from *2015-08-07* \n",
        "This means, that the first *SEQ_LEN = 20* values do not have any prediction at all"
      ]
    },
    {
      "cell_type": "code",
      "metadata": {
        "id": "AbZscwlmvkpM"
      },
      "source": [
        "# number of rows in DF\n",
        "num_data_points = df.index.stop\n",
        "# where the sequence prediction started from\n",
        "started_ = num_data_points - len(y_true_inverse) + 1"
      ],
      "execution_count": 24,
      "outputs": []
    },
    {
      "cell_type": "code",
      "metadata": {
        "id": "Lj5XO7ds4u9I",
        "colab": {
          "base_uri": "https://localhost:8080/"
        },
        "outputId": "e64a0a43-a74e-481d-dfe7-dfb35fdff598"
      },
      "source": [
        "tomorrow = date.today() + timedelta(days=1)\n",
        "tomorrow = tomorrow.strftime('%Y-%m-%d')\n",
        "\n",
        "ds = []\n",
        "\n",
        "for i_ in df.Date[started_:]:\n",
        "  ds.append(i_.strftime('%Y-%m-%d'))\n",
        "\n",
        "ds.append(tomorrow)\n",
        "\n",
        "print(len(ds), ds[-2:])"
      ],
      "execution_count": 25,
      "outputs": [
        {
          "output_type": "stream",
          "text": [
            "1986 ['2021-02-04', '2021-02-05']\n"
          ],
          "name": "stdout"
        }
      ]
    },
    {
      "cell_type": "markdown",
      "metadata": {
        "id": "WXMH9_mEiZlX"
      },
      "source": [
        "### Last *true* value in **forecast** DataFrame is set to zero"
      ]
    },
    {
      "cell_type": "code",
      "metadata": {
        "id": "B3ZK4odx4vYq",
        "colab": {
          "base_uri": "https://localhost:8080/",
          "height": 419
        },
        "outputId": "f07dad49-ca72-48b5-f871-c1a6dbedf5a9"
      },
      "source": [
        "y_true = y_true_inverse.reshape(len(y_true_inverse),)\n",
        "y_true[-1] = 0\n",
        "y_pred = y_hat_inverse.reshape(len(y_hat_inverse),)\n",
        "\n",
        "d = {\"ds\": ds, \"true\": y_true, 'pred' : y_pred}\n",
        "forecast = pd.DataFrame(d)\n",
        "forecast"
      ],
      "execution_count": 33,
      "outputs": [
        {
          "output_type": "execute_result",
          "data": {
            "text/html": [
              "<div>\n",
              "<style scoped>\n",
              "    .dataframe tbody tr th:only-of-type {\n",
              "        vertical-align: middle;\n",
              "    }\n",
              "\n",
              "    .dataframe tbody tr th {\n",
              "        vertical-align: top;\n",
              "    }\n",
              "\n",
              "    .dataframe thead th {\n",
              "        text-align: right;\n",
              "    }\n",
              "</style>\n",
              "<table border=\"1\" class=\"dataframe\">\n",
              "  <thead>\n",
              "    <tr style=\"text-align: right;\">\n",
              "      <th></th>\n",
              "      <th>ds</th>\n",
              "      <th>true</th>\n",
              "      <th>pred</th>\n",
              "    </tr>\n",
              "  </thead>\n",
              "  <tbody>\n",
              "    <tr>\n",
              "      <th>0</th>\n",
              "      <td>2015-08-26</td>\n",
              "      <td>1.159980</td>\n",
              "      <td>16.154222</td>\n",
              "    </tr>\n",
              "    <tr>\n",
              "      <th>1</th>\n",
              "      <td>2015-08-27</td>\n",
              "      <td>1.147700</td>\n",
              "      <td>16.143066</td>\n",
              "    </tr>\n",
              "    <tr>\n",
              "      <th>2</th>\n",
              "      <td>2015-08-28</td>\n",
              "      <td>1.191380</td>\n",
              "      <td>16.120483</td>\n",
              "    </tr>\n",
              "    <tr>\n",
              "      <th>3</th>\n",
              "      <td>2015-08-29</td>\n",
              "      <td>1.182550</td>\n",
              "      <td>16.100328</td>\n",
              "    </tr>\n",
              "    <tr>\n",
              "      <th>4</th>\n",
              "      <td>2015-08-30</td>\n",
              "      <td>1.319270</td>\n",
              "      <td>16.111042</td>\n",
              "    </tr>\n",
              "    <tr>\n",
              "      <th>...</th>\n",
              "      <td>...</td>\n",
              "      <td>...</td>\n",
              "      <td>...</td>\n",
              "    </tr>\n",
              "    <tr>\n",
              "      <th>1981</th>\n",
              "      <td>2021-01-31</td>\n",
              "      <td>1314.986206</td>\n",
              "      <td>1251.499634</td>\n",
              "    </tr>\n",
              "    <tr>\n",
              "      <th>1982</th>\n",
              "      <td>2021-02-01</td>\n",
              "      <td>1369.040527</td>\n",
              "      <td>1261.041260</td>\n",
              "    </tr>\n",
              "    <tr>\n",
              "      <th>1983</th>\n",
              "      <td>2021-02-02</td>\n",
              "      <td>1515.193726</td>\n",
              "      <td>1333.584717</td>\n",
              "    </tr>\n",
              "    <tr>\n",
              "      <th>1984</th>\n",
              "      <td>2021-02-04</td>\n",
              "      <td>1667.739990</td>\n",
              "      <td>1441.323608</td>\n",
              "    </tr>\n",
              "    <tr>\n",
              "      <th>1985</th>\n",
              "      <td>2021-02-05</td>\n",
              "      <td>0.000000</td>\n",
              "      <td>1485.060669</td>\n",
              "    </tr>\n",
              "  </tbody>\n",
              "</table>\n",
              "<p>1986 rows × 3 columns</p>\n",
              "</div>"
            ],
            "text/plain": [
              "              ds         true         pred\n",
              "0     2015-08-26     1.159980    16.154222\n",
              "1     2015-08-27     1.147700    16.143066\n",
              "2     2015-08-28     1.191380    16.120483\n",
              "3     2015-08-29     1.182550    16.100328\n",
              "4     2015-08-30     1.319270    16.111042\n",
              "...          ...          ...          ...\n",
              "1981  2021-01-31  1314.986206  1251.499634\n",
              "1982  2021-02-01  1369.040527  1261.041260\n",
              "1983  2021-02-02  1515.193726  1333.584717\n",
              "1984  2021-02-04  1667.739990  1441.323608\n",
              "1985  2021-02-05     0.000000  1485.060669\n",
              "\n",
              "[1986 rows x 3 columns]"
            ]
          },
          "metadata": {
            "tags": []
          },
          "execution_count": 33
        }
      ]
    },
    {
      "cell_type": "code",
      "metadata": {
        "id": "yrluCZb44vn_",
        "colab": {
          "base_uri": "https://localhost:8080/",
          "height": 419
        },
        "outputId": "3c24f245-5f81-42f3-f856-9defdd00ee55"
      },
      "source": [
        "df"
      ],
      "execution_count": 31,
      "outputs": [
        {
          "output_type": "execute_result",
          "data": {
            "text/html": [
              "<div>\n",
              "<style scoped>\n",
              "    .dataframe tbody tr th:only-of-type {\n",
              "        vertical-align: middle;\n",
              "    }\n",
              "\n",
              "    .dataframe tbody tr th {\n",
              "        vertical-align: top;\n",
              "    }\n",
              "\n",
              "    .dataframe thead th {\n",
              "        text-align: right;\n",
              "    }\n",
              "</style>\n",
              "<table border=\"1\" class=\"dataframe\">\n",
              "  <thead>\n",
              "    <tr style=\"text-align: right;\">\n",
              "      <th></th>\n",
              "      <th>Date</th>\n",
              "      <th>Open</th>\n",
              "      <th>High</th>\n",
              "      <th>Low</th>\n",
              "      <th>Close</th>\n",
              "      <th>Adj Close</th>\n",
              "      <th>Volume</th>\n",
              "    </tr>\n",
              "  </thead>\n",
              "  <tbody>\n",
              "    <tr>\n",
              "      <th>0</th>\n",
              "      <td>2015-08-07</td>\n",
              "      <td>2.831620</td>\n",
              "      <td>3.536610</td>\n",
              "      <td>2.521120</td>\n",
              "      <td>2.772120</td>\n",
              "      <td>2.772120</td>\n",
              "      <td>164329</td>\n",
              "    </tr>\n",
              "    <tr>\n",
              "      <th>1</th>\n",
              "      <td>2015-08-08</td>\n",
              "      <td>2.793760</td>\n",
              "      <td>2.798810</td>\n",
              "      <td>0.714725</td>\n",
              "      <td>0.753325</td>\n",
              "      <td>0.753325</td>\n",
              "      <td>674188</td>\n",
              "    </tr>\n",
              "    <tr>\n",
              "      <th>2</th>\n",
              "      <td>2015-08-09</td>\n",
              "      <td>0.706136</td>\n",
              "      <td>0.879810</td>\n",
              "      <td>0.629191</td>\n",
              "      <td>0.701897</td>\n",
              "      <td>0.701897</td>\n",
              "      <td>532170</td>\n",
              "    </tr>\n",
              "    <tr>\n",
              "      <th>3</th>\n",
              "      <td>2015-08-10</td>\n",
              "      <td>0.713989</td>\n",
              "      <td>0.729854</td>\n",
              "      <td>0.636546</td>\n",
              "      <td>0.708448</td>\n",
              "      <td>0.708448</td>\n",
              "      <td>405283</td>\n",
              "    </tr>\n",
              "    <tr>\n",
              "      <th>4</th>\n",
              "      <td>2015-08-11</td>\n",
              "      <td>0.708087</td>\n",
              "      <td>1.131410</td>\n",
              "      <td>0.663235</td>\n",
              "      <td>1.067860</td>\n",
              "      <td>1.067860</td>\n",
              "      <td>1463100</td>\n",
              "    </tr>\n",
              "    <tr>\n",
              "      <th>...</th>\n",
              "      <td>...</td>\n",
              "      <td>...</td>\n",
              "      <td>...</td>\n",
              "      <td>...</td>\n",
              "      <td>...</td>\n",
              "      <td>...</td>\n",
              "      <td>...</td>\n",
              "    </tr>\n",
              "    <tr>\n",
              "      <th>1999</th>\n",
              "      <td>2021-01-30</td>\n",
              "      <td>1382.231934</td>\n",
              "      <td>1402.399780</td>\n",
              "      <td>1328.529053</td>\n",
              "      <td>1376.115479</td>\n",
              "      <td>1376.115479</td>\n",
              "      <td>30616574234</td>\n",
              "    </tr>\n",
              "    <tr>\n",
              "      <th>2000</th>\n",
              "      <td>2021-01-31</td>\n",
              "      <td>1376.823608</td>\n",
              "      <td>1378.916016</td>\n",
              "      <td>1288.501587</td>\n",
              "      <td>1314.986206</td>\n",
              "      <td>1314.986206</td>\n",
              "      <td>25198853581</td>\n",
              "    </tr>\n",
              "    <tr>\n",
              "      <th>2001</th>\n",
              "      <td>2021-02-01</td>\n",
              "      <td>1314.855225</td>\n",
              "      <td>1373.845825</td>\n",
              "      <td>1274.357788</td>\n",
              "      <td>1369.040527</td>\n",
              "      <td>1369.040527</td>\n",
              "      <td>29210670920</td>\n",
              "    </tr>\n",
              "    <tr>\n",
              "      <th>2002</th>\n",
              "      <td>2021-02-02</td>\n",
              "      <td>1369.505127</td>\n",
              "      <td>1542.990967</td>\n",
              "      <td>1362.771240</td>\n",
              "      <td>1515.193726</td>\n",
              "      <td>1515.193726</td>\n",
              "      <td>45437142801</td>\n",
              "    </tr>\n",
              "    <tr>\n",
              "      <th>2003</th>\n",
              "      <td>2021-02-04</td>\n",
              "      <td>1671.787476</td>\n",
              "      <td>1671.787476</td>\n",
              "      <td>1662.468994</td>\n",
              "      <td>1667.739990</td>\n",
              "      <td>1667.739990</td>\n",
              "      <td>42306035712</td>\n",
              "    </tr>\n",
              "  </tbody>\n",
              "</table>\n",
              "<p>2004 rows × 7 columns</p>\n",
              "</div>"
            ],
            "text/plain": [
              "           Date         Open  ...    Adj Close       Volume\n",
              "0    2015-08-07     2.831620  ...     2.772120       164329\n",
              "1    2015-08-08     2.793760  ...     0.753325       674188\n",
              "2    2015-08-09     0.706136  ...     0.701897       532170\n",
              "3    2015-08-10     0.713989  ...     0.708448       405283\n",
              "4    2015-08-11     0.708087  ...     1.067860      1463100\n",
              "...         ...          ...  ...          ...          ...\n",
              "1999 2021-01-30  1382.231934  ...  1376.115479  30616574234\n",
              "2000 2021-01-31  1376.823608  ...  1314.986206  25198853581\n",
              "2001 2021-02-01  1314.855225  ...  1369.040527  29210670920\n",
              "2002 2021-02-02  1369.505127  ...  1515.193726  45437142801\n",
              "2003 2021-02-04  1671.787476  ...  1667.739990  42306035712\n",
              "\n",
              "[2004 rows x 7 columns]"
            ]
          },
          "metadata": {
            "tags": []
          },
          "execution_count": 31
        }
      ]
    },
    {
      "cell_type": "markdown",
      "metadata": {
        "id": "YCpVsv8KYeiq"
      },
      "source": [
        "### Saving the model\n"
      ]
    },
    {
      "cell_type": "code",
      "metadata": {
        "colab": {
          "base_uri": "https://localhost:8080/"
        },
        "id": "Oy9QnjYVyFvJ",
        "outputId": "6445b06d-ee46-4373-a071-86f9d325de9d"
      },
      "source": [
        "file_name = 'LSTM_ETH-1f.h5'\n",
        "model.save(file_name)\n",
        "print(\"Saved model `{}` to disk\".format(file_name))"
      ],
      "execution_count": 35,
      "outputs": [
        {
          "output_type": "stream",
          "text": [
            "Saved model `LSTM_ETH-1f.h5` to disk\n"
          ],
          "name": "stdout"
        }
      ]
    }
  ]
}